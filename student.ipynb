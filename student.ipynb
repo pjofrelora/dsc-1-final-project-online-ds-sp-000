{
 "cells": [
  {
   "cell_type": "markdown",
   "metadata": {},
   "source": [
    "## Final Project Submission\n",
    "\n",
    "Please fill out:\n",
    "* Student name: Pedro Jofre Lora\n",
    "* Student pace: self paced\n",
    "* Scheduled project review date/time: \n",
    "* Instructor name: \n",
    "* Blog post URL:\n"
   ]
  },
  {
   "cell_type": "markdown",
   "metadata": {},
   "source": [
    "# [Title of Paper]\n",
    "\n",
    "## Introduction\n",
    "This is the introduction where you explain the relevant information given the question that was asked. "
   ]
  },
  {
   "cell_type": "markdown",
   "metadata": {},
   "source": [
    "<a id=\"1\"></a>\n",
    "## Importing and cleaning data (Obtain and Scrub)"
   ]
  },
  {
   "cell_type": "code",
   "execution_count": 1,
   "metadata": {},
   "outputs": [
    {
     "name": "stdout",
     "output_type": "stream",
     "text": [
      "<class 'pandas.core.frame.DataFrame'>\n",
      "Int64Index: 21597 entries, 7129300520 to 1523300157\n",
      "Data columns (total 20 columns):\n",
      "Date             21597 non-null object\n",
      "Price            21597 non-null float64\n",
      "Bedrooms         21597 non-null int64\n",
      "Bathrooms        21597 non-null float64\n",
      "Sqft_Living      21597 non-null int64\n",
      "Sqft_Lot         21597 non-null int64\n",
      "Floors           21597 non-null float64\n",
      "Waterfront       19221 non-null float64\n",
      "View             21534 non-null float64\n",
      "Condition        21597 non-null int64\n",
      "Grade            21597 non-null int64\n",
      "Sqft_Above       21597 non-null int64\n",
      "Sqft_Basement    21597 non-null object\n",
      "Yr_Built         21597 non-null int64\n",
      "Yr_Renovated     17755 non-null float64\n",
      "Zipcode          21597 non-null int64\n",
      "Lat              21597 non-null float64\n",
      "Long             21597 non-null float64\n",
      "Sqft_Living15    21597 non-null int64\n",
      "Sqft_Lot15       21597 non-null int64\n",
      "dtypes: float64(8), int64(10), object(2)\n",
      "memory usage: 3.5+ MB\n"
     ]
    }
   ],
   "source": [
    "import pandas as pd\n",
    "import numpy as np\n",
    "import warnings\n",
    "warnings.simplefilter('ignore')\n",
    "\n",
    "# Import the data\n",
    "kc = pd.read_csv('kc_house_data.csv', index_col = 'id')\n",
    "kc.columns = [col_name.title() for col_name in list(kc.columns)]\n",
    "kc.info()"
   ]
  },
  {
   "cell_type": "code",
   "execution_count": 2,
   "metadata": {},
   "outputs": [
    {
     "data": {
      "text/html": [
       "<div>\n",
       "<style scoped>\n",
       "    .dataframe tbody tr th:only-of-type {\n",
       "        vertical-align: middle;\n",
       "    }\n",
       "\n",
       "    .dataframe tbody tr th {\n",
       "        vertical-align: top;\n",
       "    }\n",
       "\n",
       "    .dataframe thead th {\n",
       "        text-align: right;\n",
       "    }\n",
       "</style>\n",
       "<table border=\"1\" class=\"dataframe\">\n",
       "  <thead>\n",
       "    <tr style=\"text-align: right;\">\n",
       "      <th></th>\n",
       "      <th>Waterfront</th>\n",
       "      <th>Condition</th>\n",
       "      <th>View</th>\n",
       "      <th>Floors</th>\n",
       "      <th>Grade</th>\n",
       "      <th>Bedrooms</th>\n",
       "      <th>Bathrooms</th>\n",
       "      <th>Zipcode</th>\n",
       "      <th>Yr_Renovated</th>\n",
       "      <th>Yr_Built</th>\n",
       "      <th>Sqft_Basement</th>\n",
       "      <th>Date</th>\n",
       "      <th>Long</th>\n",
       "      <th>Sqft_Living15</th>\n",
       "      <th>Sqft_Above</th>\n",
       "      <th>Sqft_Living</th>\n",
       "      <th>Price</th>\n",
       "      <th>Lat</th>\n",
       "      <th>Sqft_Lot15</th>\n",
       "      <th>Sqft_Lot</th>\n",
       "    </tr>\n",
       "  </thead>\n",
       "  <tbody>\n",
       "    <tr>\n",
       "      <th>Counts</th>\n",
       "      <td>2</td>\n",
       "      <td>5</td>\n",
       "      <td>5</td>\n",
       "      <td>6</td>\n",
       "      <td>11</td>\n",
       "      <td>12</td>\n",
       "      <td>29</td>\n",
       "      <td>70</td>\n",
       "      <td>70</td>\n",
       "      <td>116</td>\n",
       "      <td>304</td>\n",
       "      <td>372</td>\n",
       "      <td>751</td>\n",
       "      <td>777</td>\n",
       "      <td>942</td>\n",
       "      <td>1034</td>\n",
       "      <td>3622</td>\n",
       "      <td>5033</td>\n",
       "      <td>8682</td>\n",
       "      <td>9776</td>\n",
       "    </tr>\n",
       "  </tbody>\n",
       "</table>\n",
       "</div>"
      ],
      "text/plain": [
       "        Waterfront  Condition  View  Floors  Grade  Bedrooms  Bathrooms  \\\n",
       "Counts           2          5     5       6     11        12         29   \n",
       "\n",
       "        Zipcode  Yr_Renovated  Yr_Built  Sqft_Basement  Date  Long  \\\n",
       "Counts       70            70       116            304   372   751   \n",
       "\n",
       "        Sqft_Living15  Sqft_Above  Sqft_Living  Price   Lat  Sqft_Lot15  \\\n",
       "Counts            777         942         1034   3622  5033        8682   \n",
       "\n",
       "        Sqft_Lot  \n",
       "Counts      9776  "
      ]
     },
     "execution_count": 2,
     "metadata": {},
     "output_type": "execute_result"
    }
   ],
   "source": [
    "pd.DataFrame(\n",
    "    data = kc.nunique().sort_values(), \n",
    "    columns = ['Counts']\n",
    "    ).transpose()"
   ]
  },
  {
   "cell_type": "code",
   "execution_count": 3,
   "metadata": {},
   "outputs": [
    {
     "data": {
      "text/html": [
       "<div>\n",
       "<style scoped>\n",
       "    .dataframe tbody tr th:only-of-type {\n",
       "        vertical-align: middle;\n",
       "    }\n",
       "\n",
       "    .dataframe tbody tr th {\n",
       "        vertical-align: top;\n",
       "    }\n",
       "\n",
       "    .dataframe thead th {\n",
       "        text-align: right;\n",
       "    }\n",
       "</style>\n",
       "<table border=\"1\" class=\"dataframe\">\n",
       "  <thead>\n",
       "    <tr style=\"text-align: right;\">\n",
       "      <th></th>\n",
       "      <th>Price</th>\n",
       "      <th>Bedrooms</th>\n",
       "      <th>Bathrooms</th>\n",
       "      <th>Sqft_Living</th>\n",
       "      <th>Sqft_Lot</th>\n",
       "      <th>Floors</th>\n",
       "      <th>Waterfront</th>\n",
       "      <th>View</th>\n",
       "      <th>Condition</th>\n",
       "      <th>Grade</th>\n",
       "      <th>Sqft_Above</th>\n",
       "      <th>Yr_Built</th>\n",
       "      <th>Yr_Renovated</th>\n",
       "      <th>Zipcode</th>\n",
       "      <th>Lat</th>\n",
       "      <th>Long</th>\n",
       "      <th>Sqft_Living15</th>\n",
       "      <th>Sqft_Lot15</th>\n",
       "    </tr>\n",
       "  </thead>\n",
       "  <tbody>\n",
       "    <tr>\n",
       "      <th>count</th>\n",
       "      <td>2.159700e+04</td>\n",
       "      <td>21597.000000</td>\n",
       "      <td>21597.000000</td>\n",
       "      <td>21597.000000</td>\n",
       "      <td>2.159700e+04</td>\n",
       "      <td>21597.000000</td>\n",
       "      <td>19221.000000</td>\n",
       "      <td>21534.000000</td>\n",
       "      <td>21597.000000</td>\n",
       "      <td>21597.000000</td>\n",
       "      <td>21597.000000</td>\n",
       "      <td>21597.000000</td>\n",
       "      <td>17755.000000</td>\n",
       "      <td>21597.000000</td>\n",
       "      <td>21597.000000</td>\n",
       "      <td>21597.000000</td>\n",
       "      <td>21597.000000</td>\n",
       "      <td>21597.000000</td>\n",
       "    </tr>\n",
       "    <tr>\n",
       "      <th>mean</th>\n",
       "      <td>5.402966e+05</td>\n",
       "      <td>3.373200</td>\n",
       "      <td>2.115826</td>\n",
       "      <td>2080.321850</td>\n",
       "      <td>1.509941e+04</td>\n",
       "      <td>1.494096</td>\n",
       "      <td>0.007596</td>\n",
       "      <td>0.233863</td>\n",
       "      <td>3.409825</td>\n",
       "      <td>7.657915</td>\n",
       "      <td>1788.596842</td>\n",
       "      <td>1970.999676</td>\n",
       "      <td>83.636778</td>\n",
       "      <td>98077.951845</td>\n",
       "      <td>47.560093</td>\n",
       "      <td>-122.213982</td>\n",
       "      <td>1986.620318</td>\n",
       "      <td>12758.283512</td>\n",
       "    </tr>\n",
       "    <tr>\n",
       "      <th>std</th>\n",
       "      <td>3.673681e+05</td>\n",
       "      <td>0.926299</td>\n",
       "      <td>0.768984</td>\n",
       "      <td>918.106125</td>\n",
       "      <td>4.141264e+04</td>\n",
       "      <td>0.539683</td>\n",
       "      <td>0.086825</td>\n",
       "      <td>0.765686</td>\n",
       "      <td>0.650546</td>\n",
       "      <td>1.173200</td>\n",
       "      <td>827.759761</td>\n",
       "      <td>29.375234</td>\n",
       "      <td>399.946414</td>\n",
       "      <td>53.513072</td>\n",
       "      <td>0.138552</td>\n",
       "      <td>0.140724</td>\n",
       "      <td>685.230472</td>\n",
       "      <td>27274.441950</td>\n",
       "    </tr>\n",
       "    <tr>\n",
       "      <th>min</th>\n",
       "      <td>7.800000e+04</td>\n",
       "      <td>1.000000</td>\n",
       "      <td>0.500000</td>\n",
       "      <td>370.000000</td>\n",
       "      <td>5.200000e+02</td>\n",
       "      <td>1.000000</td>\n",
       "      <td>0.000000</td>\n",
       "      <td>0.000000</td>\n",
       "      <td>1.000000</td>\n",
       "      <td>3.000000</td>\n",
       "      <td>370.000000</td>\n",
       "      <td>1900.000000</td>\n",
       "      <td>0.000000</td>\n",
       "      <td>98001.000000</td>\n",
       "      <td>47.155900</td>\n",
       "      <td>-122.519000</td>\n",
       "      <td>399.000000</td>\n",
       "      <td>651.000000</td>\n",
       "    </tr>\n",
       "    <tr>\n",
       "      <th>25%</th>\n",
       "      <td>3.220000e+05</td>\n",
       "      <td>3.000000</td>\n",
       "      <td>1.750000</td>\n",
       "      <td>1430.000000</td>\n",
       "      <td>5.040000e+03</td>\n",
       "      <td>1.000000</td>\n",
       "      <td>0.000000</td>\n",
       "      <td>0.000000</td>\n",
       "      <td>3.000000</td>\n",
       "      <td>7.000000</td>\n",
       "      <td>1190.000000</td>\n",
       "      <td>1951.000000</td>\n",
       "      <td>0.000000</td>\n",
       "      <td>98033.000000</td>\n",
       "      <td>47.471100</td>\n",
       "      <td>-122.328000</td>\n",
       "      <td>1490.000000</td>\n",
       "      <td>5100.000000</td>\n",
       "    </tr>\n",
       "    <tr>\n",
       "      <th>50%</th>\n",
       "      <td>4.500000e+05</td>\n",
       "      <td>3.000000</td>\n",
       "      <td>2.250000</td>\n",
       "      <td>1910.000000</td>\n",
       "      <td>7.618000e+03</td>\n",
       "      <td>1.500000</td>\n",
       "      <td>0.000000</td>\n",
       "      <td>0.000000</td>\n",
       "      <td>3.000000</td>\n",
       "      <td>7.000000</td>\n",
       "      <td>1560.000000</td>\n",
       "      <td>1975.000000</td>\n",
       "      <td>0.000000</td>\n",
       "      <td>98065.000000</td>\n",
       "      <td>47.571800</td>\n",
       "      <td>-122.231000</td>\n",
       "      <td>1840.000000</td>\n",
       "      <td>7620.000000</td>\n",
       "    </tr>\n",
       "    <tr>\n",
       "      <th>75%</th>\n",
       "      <td>6.450000e+05</td>\n",
       "      <td>4.000000</td>\n",
       "      <td>2.500000</td>\n",
       "      <td>2550.000000</td>\n",
       "      <td>1.068500e+04</td>\n",
       "      <td>2.000000</td>\n",
       "      <td>0.000000</td>\n",
       "      <td>0.000000</td>\n",
       "      <td>4.000000</td>\n",
       "      <td>8.000000</td>\n",
       "      <td>2210.000000</td>\n",
       "      <td>1997.000000</td>\n",
       "      <td>0.000000</td>\n",
       "      <td>98118.000000</td>\n",
       "      <td>47.678000</td>\n",
       "      <td>-122.125000</td>\n",
       "      <td>2360.000000</td>\n",
       "      <td>10083.000000</td>\n",
       "    </tr>\n",
       "    <tr>\n",
       "      <th>max</th>\n",
       "      <td>7.700000e+06</td>\n",
       "      <td>33.000000</td>\n",
       "      <td>8.000000</td>\n",
       "      <td>13540.000000</td>\n",
       "      <td>1.651359e+06</td>\n",
       "      <td>3.500000</td>\n",
       "      <td>1.000000</td>\n",
       "      <td>4.000000</td>\n",
       "      <td>5.000000</td>\n",
       "      <td>13.000000</td>\n",
       "      <td>9410.000000</td>\n",
       "      <td>2015.000000</td>\n",
       "      <td>2015.000000</td>\n",
       "      <td>98199.000000</td>\n",
       "      <td>47.777600</td>\n",
       "      <td>-121.315000</td>\n",
       "      <td>6210.000000</td>\n",
       "      <td>871200.000000</td>\n",
       "    </tr>\n",
       "  </tbody>\n",
       "</table>\n",
       "</div>"
      ],
      "text/plain": [
       "              Price      Bedrooms     Bathrooms   Sqft_Living      Sqft_Lot  \\\n",
       "count  2.159700e+04  21597.000000  21597.000000  21597.000000  2.159700e+04   \n",
       "mean   5.402966e+05      3.373200      2.115826   2080.321850  1.509941e+04   \n",
       "std    3.673681e+05      0.926299      0.768984    918.106125  4.141264e+04   \n",
       "min    7.800000e+04      1.000000      0.500000    370.000000  5.200000e+02   \n",
       "25%    3.220000e+05      3.000000      1.750000   1430.000000  5.040000e+03   \n",
       "50%    4.500000e+05      3.000000      2.250000   1910.000000  7.618000e+03   \n",
       "75%    6.450000e+05      4.000000      2.500000   2550.000000  1.068500e+04   \n",
       "max    7.700000e+06     33.000000      8.000000  13540.000000  1.651359e+06   \n",
       "\n",
       "             Floors    Waterfront          View     Condition         Grade  \\\n",
       "count  21597.000000  19221.000000  21534.000000  21597.000000  21597.000000   \n",
       "mean       1.494096      0.007596      0.233863      3.409825      7.657915   \n",
       "std        0.539683      0.086825      0.765686      0.650546      1.173200   \n",
       "min        1.000000      0.000000      0.000000      1.000000      3.000000   \n",
       "25%        1.000000      0.000000      0.000000      3.000000      7.000000   \n",
       "50%        1.500000      0.000000      0.000000      3.000000      7.000000   \n",
       "75%        2.000000      0.000000      0.000000      4.000000      8.000000   \n",
       "max        3.500000      1.000000      4.000000      5.000000     13.000000   \n",
       "\n",
       "         Sqft_Above      Yr_Built  Yr_Renovated       Zipcode           Lat  \\\n",
       "count  21597.000000  21597.000000  17755.000000  21597.000000  21597.000000   \n",
       "mean    1788.596842   1970.999676     83.636778  98077.951845     47.560093   \n",
       "std      827.759761     29.375234    399.946414     53.513072      0.138552   \n",
       "min      370.000000   1900.000000      0.000000  98001.000000     47.155900   \n",
       "25%     1190.000000   1951.000000      0.000000  98033.000000     47.471100   \n",
       "50%     1560.000000   1975.000000      0.000000  98065.000000     47.571800   \n",
       "75%     2210.000000   1997.000000      0.000000  98118.000000     47.678000   \n",
       "max     9410.000000   2015.000000   2015.000000  98199.000000     47.777600   \n",
       "\n",
       "               Long  Sqft_Living15     Sqft_Lot15  \n",
       "count  21597.000000   21597.000000   21597.000000  \n",
       "mean    -122.213982    1986.620318   12758.283512  \n",
       "std        0.140724     685.230472   27274.441950  \n",
       "min     -122.519000     399.000000     651.000000  \n",
       "25%     -122.328000    1490.000000    5100.000000  \n",
       "50%     -122.231000    1840.000000    7620.000000  \n",
       "75%     -122.125000    2360.000000   10083.000000  \n",
       "max     -121.315000    6210.000000  871200.000000  "
      ]
     },
     "execution_count": 3,
     "metadata": {},
     "output_type": "execute_result"
    }
   ],
   "source": [
    "kc.describe()"
   ]
  },
  {
   "cell_type": "markdown",
   "metadata": {},
   "source": [
    "### Problems to Fix\n",
    "1.  Date, View, and Sqft_basement are incorrect types.\n",
    "2.  Waterfront and zipcode likely need to be converted to categorical.\n",
    "3.  Condition and Grade might need to be converted to categorical, unless the numbers are a monotonic scale (scale of 1-5 with 5 being the \"best\").\n",
    "4.  Investigate Yr_Renovated.\n",
    "5.  Deciding what to do with the date.\n",
    "6.  Deciding what to do with the lat and long values.\n",
    "\n",
    "Data could be dropped from View, and it should also be converted to a binary category since the description is \"has been viewed\", and not \"the number of times the propery has been viewed\".\n",
    "\n",
    "Waterfront and zipcode may not need to be converted to categorical and could be tossed out if the distributions of the groups is equal. If the distributions are not equal then they'll both be changed to categorical. It might be best to run separate analyses for the categories if there's enough data, since the relationships may change in shape given the value of a category.\n",
    "\n",
    "Condition and Grade likely will not need to be converted to categorical, though we must assume that they are monotonic scales.\n",
    "\n",
    "There is a surprisingly low mean and a very high std for Yr_Renovated, which may indicate that the data may not accurately represent what's going on. It may be the case that very few homes have renovations on file. If this is the case, then Yr_renovated should be changed to Renovated, which is a binary category indicating whether or not a renovation is on file.\n",
    "\n",
    "The date will likely have a large impact on predicting the final sale price. I'll investigate to see if there is an impact, and then decide what to do.\n",
    "\n",
    "Changing Lat and Long data into rectangular sectors can approximate neighborhoods that can then be used as categories. It would be best to look at a map of king county to see if there are distinct neighborhoods that could be drawn instead. This would be an interesting function...\n",
    "\n",
    "### Some goals\n",
    "-  The model should give a confidence interval for the price, instead of one value\n",
    "\n",
    "### Resolving problems\n",
    "1. Change Date and Sqft_Basement to correct types. Drop Data as necessary. Make a separate Basement as a category."
   ]
  },
  {
   "cell_type": "code",
   "execution_count": 4,
   "metadata": {},
   "outputs": [],
   "source": [
    "kc.Sqft_Basement.replace(to_replace = '?', \n",
    "                         value = np.nan, \n",
    "                         inplace = True)\n",
    "kc.Sqft_Basement = kc.Sqft_Basement.apply(pd.to_numeric)\n",
    "kc = kc[kc.Sqft_Basement.notnull()]\n",
    "kc = kc[kc.View.notnull()]\n",
    "kc.View = kc.View.where(kc.View <= 0, other = 1)\n",
    "kc['View'] = (kc.View > 0).astype('category')"
   ]
  },
  {
   "cell_type": "code",
   "execution_count": 5,
   "metadata": {},
   "outputs": [],
   "source": [
    "kc['Basement'] = (kc.Sqft_Basement>0).astype('category')"
   ]
  },
  {
   "cell_type": "code",
   "execution_count": 6,
   "metadata": {},
   "outputs": [],
   "source": [
    "kc.Date = pd.to_datetime(kc.Date)"
   ]
  },
  {
   "cell_type": "markdown",
   "metadata": {},
   "source": [
    "2. Change Waterfront and zipcode to categories if appropriate"
   ]
  },
  {
   "cell_type": "code",
   "execution_count": 7,
   "metadata": {},
   "outputs": [
    {
     "data": {
      "text/plain": [
       "dict_keys([0.0, 1.0])"
      ]
     },
     "execution_count": 7,
     "metadata": {},
     "output_type": "execute_result"
    }
   ],
   "source": [
    "waterfront_grouping = kc.groupby(by = 'Waterfront')\n",
    "waterfront_grouping.groups.keys()"
   ]
  },
  {
   "cell_type": "code",
   "execution_count": 8,
   "metadata": {},
   "outputs": [],
   "source": [
    "import seaborn as sns\n",
    "import matplotlib.pyplot as plt\n",
    "sns.set_style(style = 'dark')\n",
    "ax1 = waterfront_grouping.get_group(0).Price.plot.hist(density = True)\n",
    "waterfront_grouping.get_group(1).Price.plot.hist(density = True,\n",
    "                                            secondary_y = True,\n",
    "                                            alpha = 0.3,\n",
    "                                            ax = ax1)\n",
    "ax1.set_xlabel('Price');"
   ]
  },
  {
   "cell_type": "markdown",
   "metadata": {},
   "source": [
    "The distributions are clearly different in shape, so waterfront will be converted to a category."
   ]
  },
  {
   "cell_type": "code",
   "execution_count": 9,
   "metadata": {},
   "outputs": [],
   "source": [
    "kc.Waterfront.fillna(0.0,inplace = True) # Assume that a null listing means the house is not waterfront\n",
    "kc.Waterfront = (kc.Waterfront>0).astype('category')"
   ]
  },
  {
   "cell_type": "code",
   "execution_count": 10,
   "metadata": {},
   "outputs": [],
   "source": [
    "del waterfront_grouping # Clean up workspace"
   ]
  },
  {
   "cell_type": "code",
   "execution_count": 11,
   "metadata": {},
   "outputs": [
    {
     "data": {
      "image/png": "[encoded data removed]",
      "text/plain": [
       "<Figure size 216x360 with 1 Axes>"
      ]
     },
     "metadata": {
      "needs_background": "light"
     },
     "output_type": "display_data"
    }
   ],
   "source": [
    "kc.groupby('Zipcode').Price.median().plot.box(figsize = (3,5));"
   ]
  },
  {
   "cell_type": "markdown",
   "metadata": {},
   "source": [
    "The medians of the groups are too spread out to believe that zipcode might not have a significant impact on the final price of the house. It will be converted to a category."
   ]
  },
  {
   "cell_type": "code",
   "execution_count": 12,
   "metadata": {},
   "outputs": [],
   "source": [
    "kc.Zipcode = kc.Zipcode.astype('category')"
   ]
  },
  {
   "cell_type": "markdown",
   "metadata": {},
   "source": [
    "3. Changing Grade and Condition to categories."
   ]
  },
  {
   "cell_type": "code",
   "execution_count": 13,
   "metadata": {},
   "outputs": [
    {
     "data": {
      "image/png": "[encoded data removed]",
      "text/plain": [
       "<Figure size 864x288 with 2 Axes>"
      ]
     },
     "metadata": {
      "needs_background": "light"
     },
     "output_type": "display_data"
    }
   ],
   "source": [
    "fig, (ax1, ax2) = plt.subplots(nrows = 1, ncols = 2, figsize = (12,4))\n",
    "kc.groupby('Grade').Price.median().plot(ax = ax1, title = 'Price by Grade');\n",
    "kc.groupby('Condition').Price.median().plot(ax = ax2, title = 'Price by Condition')\n",
    "ax1.set_ylabel('Price')\n",
    "ax2.set_ylabel('Price')\n",
    "plt.show()"
   ]
  },
  {
   "cell_type": "markdown",
   "metadata": {},
   "source": [
    "Price as a function of Grade is easily approximated by a simple function, so the data will remain numerical. Price as a function of Condition is not easily approximated by a simple function, so it will be converted to a category."
   ]
  },
  {
   "cell_type": "code",
   "execution_count": 14,
   "metadata": {},
   "outputs": [],
   "source": [
    "kc.Condition = kc.Condition.astype('category')"
   ]
  },
  {
   "cell_type": "markdown",
   "metadata": {},
   "source": [
    "4.  Changing Yr_Renovated to Yrs_Since_Renovation is relatively straightforward. The complicated part is that many of the homes have a value of 0.0 for the year renovated, which is nonsensical. It would be good to investigate how many homes have a renovation date on record."
   ]
  },
  {
   "cell_type": "code",
   "execution_count": 15,
   "metadata": {
    "scrolled": false
   },
   "outputs": [
    {
     "data": {
      "text/plain": [
       "'The number of houses with documented renovations is 722'"
      ]
     },
     "execution_count": 15,
     "metadata": {},
     "output_type": "execute_result"
    }
   ],
   "source": [
    "num_unknown_rennovations = kc.Yr_Renovated.replace(to_replace = 0,\n",
    "                                                   value = np.nan).isna().sum()\n",
    "num_renovated = (len(kc) - num_unknown_rennovations)\n",
    "'The number of houses with documented renovations is {0:G}'.format(num_renovated)"
   ]
  },
  {
   "cell_type": "markdown",
   "metadata": {},
   "source": [
    "Since there are so few homes and so many features, I don't think it makes sense to treat this as a continuous variable for those homes that have been renovated."
   ]
  },
  {
   "cell_type": "code",
   "execution_count": 16,
   "metadata": {},
   "outputs": [],
   "source": [
    "kc.Yr_Renovated.fillna(0, inplace = True)\n",
    "kc['Renovated'] = kc.Yr_Renovated.where(kc.Yr_Renovated <= 0, other = 1)\n",
    "kc['Renovated'] = (kc.Renovated > 0).astype('category')\n",
    "kc.drop(labels = 'Yr_Renovated', axis = 1, inplace = True)"
   ]
  },
  {
   "cell_type": "markdown",
   "metadata": {},
   "source": [
    "5. Dealing with the date.\n",
    "\n",
    "My inclination here is that prices are higher in the summer months because demand is higher. I'll look at a 30 day rolling window to spot trends in the median price, and also resample the data by month to also look for trends."
   ]
  },
  {
   "cell_type": "code",
   "execution_count": 17,
   "metadata": {},
   "outputs": [
    {
     "data": {
      "image/png": "[encoded data removed]",
      "text/plain": [
       "<Figure size 864x288 with 2 Axes>"
      ]
     },
     "metadata": {
      "needs_background": "light"
     },
     "output_type": "display_data"
    },
    {
     "data": {
      "text/plain": [
       "'The maximum swing in adjusted price is 11.61%'"
      ]
     },
     "execution_count": 17,
     "metadata": {},
     "output_type": "execute_result"
    }
   ],
   "source": [
    "fig, (ax1, ax2) = plt.subplots(1, 2, figsize = (12,4))\n",
    "kc.groupby('Date').Price.median().rolling(30).median().plot(ax = ax1, title = 'Rolling Window')\n",
    "kc.reset_index().set_index(['Date']).resample('m').Price.median().plot(ax = ax2, title = 'Resampled Data')\n",
    "plt.show()\n",
    "\n",
    "# Calculate the maximum 'swing' in price as compared to the median\n",
    "price_adjustment = (kc.reset_index().set_index(['Date']).resample('m').Price.median() / kc.Price.median() - 1)*100\n",
    "max_swing = price_adjustment.max()-price_adjustment.min()\n",
    "'The maximum swing in adjusted price is {0:2.2f}%'.format(max_swing)"
   ]
  },
  {
   "cell_type": "markdown",
   "metadata": {},
   "source": [
    "The maximum swing on the median price is a hefty 11.61%! The model will have to account for the time of the year in order to be more accurate. The easiest way to do this will be to resample by month and then turn into a category. Complexity can be added to the model later by fitting a function to the date, instead of simply categorizing by month."
   ]
  },
  {
   "cell_type": "code",
   "execution_count": 18,
   "metadata": {},
   "outputs": [],
   "source": [
    "kc['Month'] = kc.Date.dt.month_name().astype('category')\n",
    "kc.drop('Date', axis = 1, inplace = True)"
   ]
  },
  {
   "cell_type": "markdown",
   "metadata": {},
   "source": [
    "6. Deciding what to do with lat and long values\n",
    "\n",
    "Here's a map of King County with zip-code boundaries:\n",
    "<img src=\"https://www.kingcounty.gov/~/media/operations/GIS/maps/vmc/images/zipcodes_westKC_586.ashx?la=en\" alt=\"An image of King County with zip-code boundaries\" title=\"King Country Zip Codes\" />\n",
    "<br><br><br>\n",
    "And, for comparison's sake, here's a map of Manhattan with zip-code boundaries:\n",
    "<img src=\"https://www.propertyshark.com/Real-Estate-Reports/wp-content/uploads/2012/10/infographic-zip-codes-3.png\" alt=\"An image of Manhattan with zip-code boundaries\" title=\"Manhattan Zip Codes\" />\n",
    "\n",
    "Zip code boundaries trace a mixture of natural boundaries and, I suspect, socioeconomic boundaries. This is corroborated by the Manhattan zipcodes, where neighborhoods are roughly approximated by zip codes (I live in NYC, so I'm more familiar with the neighborhoods here). Though zip codes are not a perfect stand-in for neighborhoods, they are adequate for a first pass at this model. If I have time, I will attend to making discrete quadrants that better capture pricing at the neighborhood level. \n"
   ]
  },
  {
   "cell_type": "code",
   "execution_count": 19,
   "metadata": {},
   "outputs": [],
   "source": [
    "kc.drop(labels = ['Lat', 'Long'], axis = 1, inplace = True)"
   ]
  },
  {
   "cell_type": "markdown",
   "metadata": {},
   "source": [
    "To finish up importing the data, I'll check the metadata again:"
   ]
  },
  {
   "cell_type": "code",
   "execution_count": 20,
   "metadata": {
    "scrolled": false
   },
   "outputs": [
    {
     "name": "stdout",
     "output_type": "stream",
     "text": [
      "<class 'pandas.core.frame.DataFrame'>\n",
      "Int64Index: 21082 entries, 7129300520 to 1523300157\n",
      "Data columns (total 19 columns):\n",
      "Price            21082 non-null float64\n",
      "Bedrooms         21082 non-null int64\n",
      "Bathrooms        21082 non-null float64\n",
      "Sqft_Living      21082 non-null int64\n",
      "Sqft_Lot         21082 non-null int64\n",
      "Floors           21082 non-null float64\n",
      "Waterfront       21082 non-null category\n",
      "View             21082 non-null category\n",
      "Condition        21082 non-null category\n",
      "Grade            21082 non-null int64\n",
      "Sqft_Above       21082 non-null int64\n",
      "Sqft_Basement    21082 non-null float64\n",
      "Yr_Built         21082 non-null int64\n",
      "Zipcode          21082 non-null category\n",
      "Sqft_Living15    21082 non-null int64\n",
      "Sqft_Lot15       21082 non-null int64\n",
      "Basement         21082 non-null category\n",
      "Renovated        21082 non-null category\n",
      "Month            21082 non-null category\n",
      "dtypes: category(7), float64(4), int64(8)\n",
      "memory usage: 2.2 MB\n"
     ]
    }
   ],
   "source": [
    "kc.info()"
   ]
  },
  {
   "cell_type": "markdown",
   "metadata": {},
   "source": [
    "That looks significantly better now. Some series' types could be changed to improve efficiency, but I'm not worried about it at this point since the dataframe is small."
   ]
  },
  {
   "cell_type": "markdown",
   "metadata": {},
   "source": [
    "<a id=\"2\"></a>\n",
    "## Exploring and Modifying Data (Explore)\n",
    "\n",
    "First I'll look at violin plots of Price for the predictors that have categorical values. Then I'll look at distributions for continuous predictors. Before I go much further, I'll look for correlations between the continuous predictors and make some decisions about what data to drop. Finally, I'll look at scatter plots of Price vs continous predictors. In order to make this less repetitive, I'll use ipywidgets to create interactive displays. I'll dive deeper once this initial exploration is done."
   ]
  },
  {
   "cell_type": "code",
   "execution_count": 21,
   "metadata": {
    "scrolled": false
   },
   "outputs": [],
   "source": [
    "import ipywidgets as widgets\n",
    "from ipywidgets import interact, interact_manual"
   ]
  },
  {
   "cell_type": "markdown",
   "metadata": {},
   "source": [
    "### 1.  Violin plots"
   ]
  },
  {
   "cell_type": "code",
   "execution_count": 22,
   "metadata": {},
   "outputs": [],
   "source": [
    "hue_list = list(kc.select_dtypes('category').columns)\n",
    "hue_list.append('None')"
   ]
  },
  {
   "cell_type": "code",
   "execution_count": 23,
   "metadata": {},
   "outputs": [
    {
     "data": {
      "application/vnd.jupyter.widget-view+json": {
       "model_id": "26d59ab7c8544afd9205dcd2c99e2ca0",
       "version_major": 2,
       "version_minor": 0
      },
      "text/plain": [
       "interactive(children=(Dropdown(description='x', options=('Waterfront', 'View', 'Condition', 'Zipcode', 'Baseme…"
      ]
     },
     "metadata": {},
     "output_type": "display_data"
    }
   ],
   "source": [
    "@interact\n",
    "def violin_plot(x=list(kc.select_dtypes('category').columns), \n",
    "                yscale = ['log', 'linear'],\n",
    "                hue = hue_list):\n",
    "    \n",
    "    fig, ax = plt.subplots(1,1,figsize = (12,8))\n",
    "    if (hue != 'None') & (hue != x):\n",
    "        title = \"Price vs. \" + x + \" sorted by \" + hue\n",
    "        hue = kc[hue]\n",
    "    else:\n",
    "        hue = None\n",
    "        title = \"Price vs. \" + x\n",
    "    \n",
    "    \n",
    "    sns.violinplot(x = kc[x], \n",
    "                   y = kc.Price, \n",
    "                   cut = 0,\n",
    "                   scale = 'area',\n",
    "                   inner = 'box',\n",
    "                   hue = hue,\n",
    "                   ax = ax,\n",
    "                   )\n",
    "    plt.yscale(yscale)\n",
    "    plt.title(title)\n"
   ]
  },
  {
   "cell_type": "markdown",
   "metadata": {},
   "source": [
    "### 2.  Histograms of continuous variables"
   ]
  },
  {
   "cell_type": "code",
   "execution_count": 24,
   "metadata": {},
   "outputs": [
    {
     "data": {
      "application/vnd.jupyter.widget-view+json": {
       "model_id": "1f86b3f5790742f28901b81c04056a58",
       "version_major": 2,
       "version_minor": 0
      },
      "text/plain": [
       "interactive(children=(Dropdown(description='data', options=('Price', 'Bedrooms', 'Bathrooms', 'Sqft_Living', '…"
      ]
     },
     "metadata": {},
     "output_type": "display_data"
    }
   ],
   "source": [
    "@interact\n",
    "def hist_plot(data = list(kc.select_dtypes(include = [np.number]).columns),\n",
    "             log_data = [True, False]):\n",
    "    \n",
    "    fig, ax = plt.subplots(1,1,figsize = (12,8))\n",
    "    title = \"Distribution of \" + data\n",
    "    \n",
    "    if log_data:\n",
    "        data = kc[data].replace(0,0.1)\n",
    "        data = data.apply(np.log10)\n",
    "    else:\n",
    "        data = kc[data]\n",
    "    sns.distplot(data,\n",
    "                 ax = ax)\n",
    "    plt.title(title)\n",
    "    plt.show()"
   ]
  },
  {
   "cell_type": "markdown",
   "metadata": {},
   "source": [
    "### 3.  Correlation matrix"
   ]
  },
  {
   "cell_type": "code",
   "execution_count": 25,
   "metadata": {
    "scrolled": false
   },
   "outputs": [
    {
     "data": {
      "image/png": "[encoded data removed]",
      "text/plain": [
       "<Figure size 792x648 with 2 Axes>"
      ]
     },
     "metadata": {},
     "output_type": "display_data"
    }
   ],
   "source": [
    "predictors = kc.drop(labels = 'Price', axis = 1)\n",
    "sns.set_style('white')\n",
    "corr = predictors.corr()\n",
    "mask = np.zeros_like(corr, dtype=np.bool)\n",
    "mask[np.triu_indices_from(mask)] = True\n",
    "f, ax = plt.subplots(figsize=(11, 9))\n",
    "cmap = sns.diverging_palette(220, 10, as_cmap=True)\n",
    "sns.heatmap(corr, mask=mask, cmap=cmap, vmax=.5, vmin = -0.5, center=0,\n",
    "            square=True, linewidths=.5, cbar_kws={\"shrink\": .5}, annot = True)\n",
    "plt.show()\n",
    "sns.set_style()"
   ]
  },
  {
   "cell_type": "markdown",
   "metadata": {},
   "source": [
    "The correlation matrix shows that many of these variables correlate with each other. I suppose I'm not surprised by this. After all, a more expensive house tends to have more bedrooms, bathrooms, space, and floors. Additionally, it is likely to have a higher grade and be newer. So, those things tend to go together and intuitively they will be correlated.\n",
    "\n",
    "From the description of the columns, I don't think that we need to keep all three of: Sqft_living, Sqft_Above, and Sqft_Basement. Sqft_Above indicates the area of the house above the basement. It is likely that the sum of the area above the basement and the basement area is almost always the \"living area\". I'll check this assumption quickly. If this mostly holds true, then I'll drop \"living area\", if not then I'll drop \"above\"."
   ]
  },
  {
   "cell_type": "code",
   "execution_count": 26,
   "metadata": {},
   "outputs": [
    {
     "name": "stdout",
     "output_type": "stream",
     "text": [
      "21082\n",
      "21082\n"
     ]
    }
   ],
   "source": [
    "print(((kc.Sqft_Above+kc.Sqft_Basement)==kc.Sqft_Living).sum()) #This is the number of houses whose area above and below matches total area\n",
    "print(len(kc.Price))"
   ]
  },
  {
   "cell_type": "markdown",
   "metadata": {},
   "source": [
    "How wonderful! It's a perfect match, so I'll drop Sqft_Living since it's accounted for in the sum of basement and above area."
   ]
  },
  {
   "cell_type": "code",
   "execution_count": 27,
   "metadata": {},
   "outputs": [],
   "source": [
    "kc.drop('Sqft_Living', axis = 1, inplace = True)"
   ]
  },
  {
   "cell_type": "code",
   "execution_count": 28,
   "metadata": {},
   "outputs": [],
   "source": [
    "predictors.drop('Sqft_Living', axis = 1, inplace = True)"
   ]
  },
  {
   "cell_type": "markdown",
   "metadata": {},
   "source": [
    "Now I'll look at predictors that measure the difference between the house itself and the houses of neighbors. The interesting thing to look at here, I think, is the houses that are NOT like their neighbors. I imagine that this is where differences arise, so it might be best to create new categories for these comparators that determines if the neighbors are bigger, smaller, or the same. To do this, I'll look at the differences between the house itself and its neighbors for each of these categories.\n",
    "\n",
    "#### 3.1 Analyzing data of neighbors"
   ]
  },
  {
   "cell_type": "code",
   "execution_count": 29,
   "metadata": {},
   "outputs": [],
   "source": [
    "neighbors_data = pd.DataFrame()\n",
    "neighbors_data['Lot_Difference'] = (predictors.Sqft_Lot - predictors.Sqft_Lot15)/predictors.Sqft_Lot15\n",
    "neighbors_data['Living_Difference'] = (predictors.Sqft_Above + predictors.Sqft_Basement - predictors.Sqft_Living15)/predictors.Sqft_Living15"
   ]
  },
  {
   "cell_type": "code",
   "execution_count": 30,
   "metadata": {
    "scrolled": true
   },
   "outputs": [
    {
     "data": {
      "text/html": [
       "<div>\n",
       "<style scoped>\n",
       "    .dataframe tbody tr th:only-of-type {\n",
       "        vertical-align: middle;\n",
       "    }\n",
       "\n",
       "    .dataframe tbody tr th {\n",
       "        vertical-align: top;\n",
       "    }\n",
       "\n",
       "    .dataframe thead th {\n",
       "        text-align: right;\n",
       "    }\n",
       "</style>\n",
       "<table border=\"1\" class=\"dataframe\">\n",
       "  <thead>\n",
       "    <tr style=\"text-align: right;\">\n",
       "      <th></th>\n",
       "      <th>Lot_Difference</th>\n",
       "      <th>Living_Difference</th>\n",
       "    </tr>\n",
       "  </thead>\n",
       "  <tbody>\n",
       "    <tr>\n",
       "      <th>count</th>\n",
       "      <td>21082.000000</td>\n",
       "      <td>21082.000000</td>\n",
       "    </tr>\n",
       "    <tr>\n",
       "      <th>mean</th>\n",
       "      <td>0.134625</td>\n",
       "      <td>0.053131</td>\n",
       "    </tr>\n",
       "    <tr>\n",
       "      <th>std</th>\n",
       "      <td>1.293384</td>\n",
       "      <td>0.320548</td>\n",
       "    </tr>\n",
       "    <tr>\n",
       "      <th>min</th>\n",
       "      <td>-0.945028</td>\n",
       "      <td>-0.812721</td>\n",
       "    </tr>\n",
       "    <tr>\n",
       "      <th>25%</th>\n",
       "      <td>-0.063226</td>\n",
       "      <td>-0.118881</td>\n",
       "    </tr>\n",
       "    <tr>\n",
       "      <th>50%</th>\n",
       "      <td>0.000000</td>\n",
       "      <td>0.000000</td>\n",
       "    </tr>\n",
       "    <tr>\n",
       "      <th>75%</th>\n",
       "      <td>0.093809</td>\n",
       "      <td>0.161033</td>\n",
       "    </tr>\n",
       "    <tr>\n",
       "      <th>max</th>\n",
       "      <td>86.527179</td>\n",
       "      <td>5.000000</td>\n",
       "    </tr>\n",
       "  </tbody>\n",
       "</table>\n",
       "</div>"
      ],
      "text/plain": [
       "       Lot_Difference  Living_Difference\n",
       "count    21082.000000       21082.000000\n",
       "mean         0.134625           0.053131\n",
       "std          1.293384           0.320548\n",
       "min         -0.945028          -0.812721\n",
       "25%         -0.063226          -0.118881\n",
       "50%          0.000000           0.000000\n",
       "75%          0.093809           0.161033\n",
       "max         86.527179           5.000000"
      ]
     },
     "execution_count": 30,
     "metadata": {},
     "output_type": "execute_result"
    }
   ],
   "source": [
    "neighbors_data.describe()"
   ]
  },
  {
   "cell_type": "markdown",
   "metadata": {},
   "source": [
    "The descriptive data alone tells us that there are outliers in the data. I'll look at histograms to determine the cutoffs for outliers."
   ]
  },
  {
   "cell_type": "code",
   "execution_count": 31,
   "metadata": {
    "scrolled": false
   },
   "outputs": [
    {
     "data": {
      "application/vnd.jupyter.widget-view+json": {
       "model_id": "bf06561e13ca418f9fe0746358abc66a",
       "version_major": 2,
       "version_minor": 0
      },
      "text/plain": [
       "interactive(children=(FloatSlider(value=-0.25, description='low_lot', max=0.0, min=-0.5, step=0.01), FloatSlid…"
      ]
     },
     "metadata": {},
     "output_type": "display_data"
    }
   ],
   "source": [
    "@interact\n",
    "def lot_difference(\n",
    "              low_lot = (-0.5,0,0.01),\n",
    "              high_lot = (0,0.5,0.01),\n",
    "              low_living = (-0.5,0,0.01),\n",
    "              high_living = (0,0.5,0.01)):\n",
    "    \n",
    "    fig, (ax1, ax2) = plt.subplots(1,2,figsize = (16,9))\n",
    "    \n",
    "    title = \"Distribution of Lot Difference\"\n",
    "    data = neighbors_data.Lot_Difference\n",
    "    #lower_bound = data.quantile(low_lot)\n",
    "    #upper_bound = data.quantile(high_lot)\n",
    "    data = data[(data > low_lot) & (data < high_lot)]\n",
    "    sns.distplot(data, ax = ax1)\n",
    "    std_text = 'std: {:1.3f}'.format(data.std())\n",
    "    ax1.text(0.5, \n",
    "             0.8, \n",
    "             std_text, \n",
    "             horizontalalignment='left',\n",
    "             verticalalignment='top',\n",
    "             fontsize = 16,\n",
    "             transform=ax.transAxes)\n",
    "    ax1.set_title('Scaled Lot Area Difference')\n",
    "    \n",
    "    title = \"Distribution of Living Difference\"\n",
    "    data = neighbors_data.Living_Difference\n",
    "    #lower_bound = data.quantile(low_living)\n",
    "    #upper_bound = data.quantile(high_living)\n",
    "    data = data[(data > low_living) & (data < high_living)]\n",
    "    sns.distplot(data, ax = ax2)\n",
    "    std_text = 'std: {:1.3f}'.format(data.std())\n",
    "    ax2.text(1.5, \n",
    "             0.8, \n",
    "             std_text, \n",
    "             horizontalalignment='left',\n",
    "             verticalalignment='top',\n",
    "             fontsize = 16,\n",
    "             transform=ax.transAxes)\n",
    "    ax2.set_title('Scaled Living Area Difference')\n",
    "    plt.show()"
   ]
  },
  {
   "cell_type": "markdown",
   "metadata": {},
   "source": [
    "The values center at 0, which makes sense because of the way that house lots and houses are constructed. Given this, it makes sense to define an intuitive value for which someone would pay more or less money. I'll assume that at ±10% of the size of the neighbors, the value of the house in question is likely to be significantly different than the the market vaulue of houses that are similar in size. That being said, I'll make categories that define houses that are above and below the regional value. Just to check my assumption, I'll look at the fraction of houses that are withing ±10% of 0 on the next line."
   ]
  },
  {
   "cell_type": "code",
   "execution_count": 32,
   "metadata": {
    "scrolled": true
   },
   "outputs": [
    {
     "name": "stdout",
     "output_type": "stream",
     "text": [
      "40.94962527274452\n",
      "55.61142206621763\n"
     ]
    }
   ],
   "source": [
    "print(((neighbors_data.Living_Difference > -0.10) & (neighbors_data.Living_Difference < 0.10)).sum()/len(neighbors_data.Living_Difference)*100)\n",
    "print(((neighbors_data.Lot_Difference > -0.10) & (neighbors_data.Lot_Difference < 0.10)).sum()/len(neighbors_data.Lot_Difference)*100)"
   ]
  },
  {
   "cell_type": "markdown",
   "metadata": {},
   "source": [
    "±10% of a difference between sizes in living space and lot size account for 41% and 56% of the data, respectively. I think that enough of the data is represented in all the categories, and intuitively ±10% of a difference in size would likely make a difference for the average consumer. I'll make categories for the values that are above and below this cutoff."
   ]
  },
  {
   "cell_type": "code",
   "execution_count": 33,
   "metadata": {},
   "outputs": [],
   "source": [
    "neighbors_data['Living_Over10'] = (neighbors_data.Living_Difference > 0.10).astype('category')\n",
    "neighbors_data['Living_Under10'] = (neighbors_data.Living_Difference < -.10).astype('category')\n",
    "neighbors_data['Lot_Over10'] = (neighbors_data.Lot_Difference > 0.10).astype('category')\n",
    "neighbors_data['Lot_Under10'] = (neighbors_data.Lot_Difference < -0.10).astype('category')"
   ]
  },
  {
   "cell_type": "code",
   "execution_count": 34,
   "metadata": {},
   "outputs": [],
   "source": [
    "kc['Living_Over10'] = neighbors_data.Living_Over10\n",
    "kc['Living_Under10'] = neighbors_data.Living_Under10\n",
    "kc['Lot_Over10'] = neighbors_data.Lot_Over10\n",
    "kc['Lot_Under10'] = neighbors_data.Lot_Under10\n",
    "kc.drop(labels = ['Sqft_Living15', 'Sqft_Lot15'], axis = 1, inplace = True)"
   ]
  },
  {
   "cell_type": "markdown",
   "metadata": {},
   "source": [
    "Now I'll look at those new categories to see if there is a marked difference."
   ]
  },
  {
   "cell_type": "code",
   "execution_count": 35,
   "metadata": {
    "scrolled": false
   },
   "outputs": [
    {
     "data": {
      "application/vnd.jupyter.widget-view+json": {
       "model_id": "c7d73561aee24695a6d7d526ebdf36ad",
       "version_major": 2,
       "version_minor": 0
      },
      "text/plain": [
       "interactive(children=(Dropdown(description='x', options=('Living_Under10', 'Living_Over10', 'Lot_Under10', 'Lo…"
      ]
     },
     "metadata": {},
     "output_type": "display_data"
    }
   ],
   "source": [
    "@interact\n",
    "def violin_plot(x=['Living_Under10', 'Living_Over10', 'Lot_Under10', 'Lot_Over10'], \n",
    "                yscale = ['log', 'linear'],\n",
    "                hue = ['None', 'Living_Under10', 'Living_Over10', 'Lot_Under10', 'Lot_Over10']):\n",
    "    \n",
    "    fig, ax = plt.subplots(1,1,figsize = (12,8))\n",
    "    if (hue != 'None') & (hue != x):\n",
    "        title = \"Price vs. \" + x + \" sorted by \" + hue\n",
    "        hue = kc[hue]\n",
    "    else:\n",
    "        hue = None\n",
    "        title = \"Price vs. \" + x\n",
    "    \n",
    "    \n",
    "    sns.violinplot(x = kc[x], \n",
    "                   y = kc.Price, \n",
    "                   cut = 0,\n",
    "                   scale = 'area',\n",
    "                   inner = 'box',\n",
    "                   hue = hue,\n",
    "                   ax = ax,\n",
    "                   )\n",
    "    plt.yscale(yscale)\n",
    "    plt.title(title)"
   ]
  },
  {
   "cell_type": "markdown",
   "metadata": {},
   "source": [
    "It is clear that there is a difference in the price when looking at these factors together. It makes sense to keep the new categories.\n",
    "\n",
    "#### 3.2 Dropping Data\n",
    "Now I have to make some decisions about which numerical series to drop. I'll look at the correlations first."
   ]
  },
  {
   "cell_type": "code",
   "execution_count": 36,
   "metadata": {},
   "outputs": [
    {
     "data": {
      "text/plain": [
       "Price            1.000000\n",
       "Grade            0.668099\n",
       "Sqft_Above       0.605481\n",
       "Bathrooms        0.525029\n",
       "Sqft_Basement    0.323018\n",
       "Bedrooms         0.308454\n",
       "Floors           0.256603\n",
       "Sqft_Lot         0.088400\n",
       "Yr_Built         0.054849\n",
       "Name: Price, dtype: float64"
      ]
     },
     "execution_count": 36,
     "metadata": {},
     "output_type": "execute_result"
    }
   ],
   "source": [
    "kc.corr().Price.sort_values(ascending = False)"
   ]
  },
  {
   "cell_type": "markdown",
   "metadata": {},
   "source": [
    "Yr_Built and Sqft_Lot are not well correlated, so they will be dropped from the dataframe. Floors are also not well correlated and it is more highly correlated with Sqft_above, so that will be dropped too."
   ]
  },
  {
   "cell_type": "code",
   "execution_count": 37,
   "metadata": {},
   "outputs": [],
   "source": [
    "kc.drop(labels = ['Yr_Built', 'Sqft_Lot','Floors'], axis = 1, inplace = True)"
   ]
  },
  {
   "cell_type": "code",
   "execution_count": 38,
   "metadata": {},
   "outputs": [
    {
     "data": {
      "image/png": "[encoded data removed]",
      "text/plain": [
       "<Figure size 792x648 with 2 Axes>"
      ]
     },
     "metadata": {},
     "output_type": "display_data"
    }
   ],
   "source": [
    "predictors = kc.drop(labels = 'Price', axis = 1)\n",
    "sns.set_style('white')\n",
    "corr = predictors.corr()\n",
    "mask = np.zeros_like(corr, dtype=np.bool)\n",
    "mask[np.triu_indices_from(mask)] = True\n",
    "f, ax = plt.subplots(figsize=(11, 9))\n",
    "cmap = sns.diverging_palette(220, 10, as_cmap=True)\n",
    "sns.heatmap(corr, mask=mask, cmap=cmap, vmax=.5, vmin = -0.5, center=0,\n",
    "            square=True, linewidths=.5, cbar_kws={\"shrink\": .5}, annot = True)\n",
    "plt.show()\n",
    "sns.set_style()"
   ]
  },
  {
   "cell_type": "markdown",
   "metadata": {},
   "source": [
    "This is better, but there is still correlation between predictors. This is a part of the data scrubbing that I could iterate. For now, I'm content with the results and I'll move on to analyzing the effect of the zip code and month on price.\n",
    "<br>\n",
    "<br>\n",
    "### 4.  Managing Month and Zipcode\n",
    "Zipcode is a categorical series with too many unique values to be functionally useful. RFE will take forever if there are too many dummy variables, and deciding which dummy variables to use is somewhat arbitrary based on the total number of features. It might be best to perform target encoding with the zipcode. I'll do the same for months, though I could leave months as a categorical variable and hot-encode if the correlation is low."
   ]
  },
  {
   "cell_type": "code",
   "execution_count": 39,
   "metadata": {},
   "outputs": [
    {
     "name": "stdout",
     "output_type": "stream",
     "text": [
      "Zipcode Means : Price\t0.6392356631339391\n",
      "Month : Price\t\t0.03937645691403935\n"
     ]
    }
   ],
   "source": [
    "zip_means = kc.groupby('Zipcode')['Price'].mean()\n",
    "month_means = kc.groupby('Month')['Price'].mean()\n",
    "kc['Zipcode_Means'] = kc.Zipcode.map(zip_means)\n",
    "kc['Month_Means'] = kc.Month.map(month_means)\n",
    "print('Zipcode Means : Price\\t' + str(kc.corr().loc['Zipcode_Means','Price']))\n",
    "print('Month : Price\\t\\t' + str(kc.corr().loc['Month_Means','Price']))"
   ]
  },
  {
   "cell_type": "markdown",
   "metadata": {},
   "source": [
    "The correlation between Zipcode Means and Price is high, so I'll keep the target encoding and drop the Zipcodes. The correlation between Month and Price is very low, so I'll one-hot encode."
   ]
  },
  {
   "cell_type": "code",
   "execution_count": 40,
   "metadata": {},
   "outputs": [],
   "source": [
    "kc.drop('Zipcode', axis = 1, inplace = True)"
   ]
  },
  {
   "cell_type": "markdown",
   "metadata": {},
   "source": [
    "In setting the dummies I found out that the dataset has duplicate entries for single ids. I'll drop the duplicates and reset the index."
   ]
  },
  {
   "cell_type": "code",
   "execution_count": 41,
   "metadata": {},
   "outputs": [],
   "source": [
    "kc = kc.reset_index().drop_duplicates(subset = 'id')\n",
    "kc['id'] = kc.id.astype('int')\n",
    "kc = kc.set_index('id')"
   ]
  },
  {
   "cell_type": "code",
   "execution_count": 42,
   "metadata": {},
   "outputs": [],
   "source": [
    "month_dummies = pd.get_dummies(kc.Month)\n",
    "kc = kc.join(month_dummies,on = 'id')\n",
    "kc.drop(labels = ['Month', 'Month_Means'], axis = 1, inplace = True)"
   ]
  },
  {
   "cell_type": "code",
   "execution_count": 43,
   "metadata": {},
   "outputs": [
    {
     "name": "stdout",
     "output_type": "stream",
     "text": [
      "<class 'pandas.core.frame.DataFrame'>\n",
      "Int64Index: 20909 entries, 7129300520 to 1523300157\n",
      "Data columns (total 28 columns):\n",
      "Price             20909 non-null float64\n",
      "Bedrooms          20909 non-null int64\n",
      "Bathrooms         20909 non-null float64\n",
      "Waterfront        20909 non-null category\n",
      "View              20909 non-null category\n",
      "Condition         20909 non-null category\n",
      "Grade             20909 non-null int64\n",
      "Sqft_Above        20909 non-null int64\n",
      "Sqft_Basement     20909 non-null float64\n",
      "Basement          20909 non-null category\n",
      "Renovated         20909 non-null category\n",
      "Living_Over10     20909 non-null category\n",
      "Living_Under10    20909 non-null category\n",
      "Lot_Over10        20909 non-null category\n",
      "Lot_Under10       20909 non-null category\n",
      "Zipcode_Means     20909 non-null float64\n",
      "April             20909 non-null uint8\n",
      "August            20909 non-null uint8\n",
      "December          20909 non-null uint8\n",
      "February          20909 non-null uint8\n",
      "January           20909 non-null uint8\n",
      "July              20909 non-null uint8\n",
      "June              20909 non-null uint8\n",
      "March             20909 non-null uint8\n",
      "May               20909 non-null uint8\n",
      "November          20909 non-null uint8\n",
      "October           20909 non-null uint8\n",
      "September         20909 non-null uint8\n",
      "dtypes: category(9), float64(4), int64(3), uint8(12)\n",
      "memory usage: 1.7 MB\n"
     ]
    }
   ],
   "source": [
    "kc.info()"
   ]
  },
  {
   "cell_type": "markdown",
   "metadata": {},
   "source": [
    "### 5. Scatter Plots\n",
    "The data has been cleaned up and I now have a better sense of what to do when building the model. Now I can look at scatter plots to better understand the relatioship between the predictors and the target.\n",
    "\n",
    "One thing that I'll explore are fits for discrete data based on the median at each value. This will give me a better sense of the function that best fits each curve, which I can leverage to linearize the data before I run MLS.\n",
    "\n",
    "After making the graphs I noticed that there's a house with 33 bedrooms whose price and living area do not corroborate the number of bedrooms. I'll drop it from the dataframe since I can't be certain that it's supposed to have 3 bedrooms instead. That being said, I want to investigate the maximum values again to make sure that I haven't missed any other obvious outliers. I'll look at the scatter plots again after I've gone through the data more carefully."
   ]
  },
  {
   "cell_type": "code",
   "execution_count": 44,
   "metadata": {},
   "outputs": [],
   "source": [
    "for month in list(kc.columns[16:]):\n",
    "    kc[month] = kc[month].astype('category')"
   ]
  },
  {
   "cell_type": "code",
   "execution_count": 45,
   "metadata": {
    "scrolled": true
   },
   "outputs": [
    {
     "data": {
      "text/html": [
       "<div>\n",
       "<style scoped>\n",
       "    .dataframe tbody tr th:only-of-type {\n",
       "        vertical-align: middle;\n",
       "    }\n",
       "\n",
       "    .dataframe tbody tr th {\n",
       "        vertical-align: top;\n",
       "    }\n",
       "\n",
       "    .dataframe thead th {\n",
       "        text-align: right;\n",
       "    }\n",
       "</style>\n",
       "<table border=\"1\" class=\"dataframe\">\n",
       "  <thead>\n",
       "    <tr style=\"text-align: right;\">\n",
       "      <th></th>\n",
       "      <th>Price</th>\n",
       "      <th>Bedrooms</th>\n",
       "      <th>Bathrooms</th>\n",
       "      <th>Grade</th>\n",
       "      <th>Sqft_Above</th>\n",
       "      <th>Sqft_Basement</th>\n",
       "      <th>Zipcode_Means</th>\n",
       "    </tr>\n",
       "  </thead>\n",
       "  <tbody>\n",
       "    <tr>\n",
       "      <th>count</th>\n",
       "      <td>2.090900e+04</td>\n",
       "      <td>20909.000000</td>\n",
       "      <td>20909.000000</td>\n",
       "      <td>20909.000000</td>\n",
       "      <td>20909.000000</td>\n",
       "      <td>20909.000000</td>\n",
       "      <td>2.090900e+04</td>\n",
       "    </tr>\n",
       "    <tr>\n",
       "      <th>mean</th>\n",
       "      <td>5.407119e+05</td>\n",
       "      <td>3.373189</td>\n",
       "      <td>2.118537</td>\n",
       "      <td>7.662538</td>\n",
       "      <td>1791.612607</td>\n",
       "      <td>291.577837</td>\n",
       "      <td>5.407351e+05</td>\n",
       "    </tr>\n",
       "    <tr>\n",
       "      <th>std</th>\n",
       "      <td>3.672847e+05</td>\n",
       "      <td>0.924214</td>\n",
       "      <td>0.768083</td>\n",
       "      <td>1.172407</td>\n",
       "      <td>829.384123</td>\n",
       "      <td>442.196116</td>\n",
       "      <td>2.343787e+05</td>\n",
       "    </tr>\n",
       "    <tr>\n",
       "      <th>min</th>\n",
       "      <td>7.800000e+04</td>\n",
       "      <td>1.000000</td>\n",
       "      <td>0.500000</td>\n",
       "      <td>3.000000</td>\n",
       "      <td>370.000000</td>\n",
       "      <td>0.000000</td>\n",
       "      <td>2.345127e+05</td>\n",
       "    </tr>\n",
       "    <tr>\n",
       "      <th>25%</th>\n",
       "      <td>3.225000e+05</td>\n",
       "      <td>3.000000</td>\n",
       "      <td>1.750000</td>\n",
       "      <td>7.000000</td>\n",
       "      <td>1200.000000</td>\n",
       "      <td>0.000000</td>\n",
       "      <td>3.588097e+05</td>\n",
       "    </tr>\n",
       "    <tr>\n",
       "      <th>50%</th>\n",
       "      <td>4.500000e+05</td>\n",
       "      <td>3.000000</td>\n",
       "      <td>2.250000</td>\n",
       "      <td>7.000000</td>\n",
       "      <td>1560.000000</td>\n",
       "      <td>0.000000</td>\n",
       "      <td>5.233149e+05</td>\n",
       "    </tr>\n",
       "    <tr>\n",
       "      <th>75%</th>\n",
       "      <td>6.450000e+05</td>\n",
       "      <td>4.000000</td>\n",
       "      <td>2.500000</td>\n",
       "      <td>8.000000</td>\n",
       "      <td>2220.000000</td>\n",
       "      <td>560.000000</td>\n",
       "      <td>6.443289e+05</td>\n",
       "    </tr>\n",
       "    <tr>\n",
       "      <th>max</th>\n",
       "      <td>7.700000e+06</td>\n",
       "      <td>33.000000</td>\n",
       "      <td>8.000000</td>\n",
       "      <td>13.000000</td>\n",
       "      <td>9410.000000</td>\n",
       "      <td>4820.000000</td>\n",
       "      <td>2.135612e+06</td>\n",
       "    </tr>\n",
       "  </tbody>\n",
       "</table>\n",
       "</div>"
      ],
      "text/plain": [
       "              Price      Bedrooms     Bathrooms         Grade    Sqft_Above  \\\n",
       "count  2.090900e+04  20909.000000  20909.000000  20909.000000  20909.000000   \n",
       "mean   5.407119e+05      3.373189      2.118537      7.662538   1791.612607   \n",
       "std    3.672847e+05      0.924214      0.768083      1.172407    829.384123   \n",
       "min    7.800000e+04      1.000000      0.500000      3.000000    370.000000   \n",
       "25%    3.225000e+05      3.000000      1.750000      7.000000   1200.000000   \n",
       "50%    4.500000e+05      3.000000      2.250000      7.000000   1560.000000   \n",
       "75%    6.450000e+05      4.000000      2.500000      8.000000   2220.000000   \n",
       "max    7.700000e+06     33.000000      8.000000     13.000000   9410.000000   \n",
       "\n",
       "       Sqft_Basement  Zipcode_Means  \n",
       "count   20909.000000   2.090900e+04  \n",
       "mean      291.577837   5.407351e+05  \n",
       "std       442.196116   2.343787e+05  \n",
       "min         0.000000   2.345127e+05  \n",
       "25%         0.000000   3.588097e+05  \n",
       "50%         0.000000   5.233149e+05  \n",
       "75%       560.000000   6.443289e+05  \n",
       "max      4820.000000   2.135612e+06  "
      ]
     },
     "execution_count": 45,
     "metadata": {},
     "output_type": "execute_result"
    }
   ],
   "source": [
    "kc.describe()"
   ]
  },
  {
   "cell_type": "markdown",
   "metadata": {},
   "source": [
    "Everything else looks okay. I'll get rid of the house with 33 bedrooms and then check again."
   ]
  },
  {
   "cell_type": "code",
   "execution_count": 46,
   "metadata": {},
   "outputs": [],
   "source": [
    "kc.drop(labels = kc.loc[kc.Bedrooms == 33].index, inplace = True)"
   ]
  },
  {
   "cell_type": "code",
   "execution_count": 47,
   "metadata": {
    "scrolled": true
   },
   "outputs": [
    {
     "data": {
      "text/plain": [
       "count    20908.000000\n",
       "mean         3.371772\n",
       "std          0.901236\n",
       "min          1.000000\n",
       "25%          3.000000\n",
       "50%          3.000000\n",
       "75%          4.000000\n",
       "max         11.000000\n",
       "Name: Bedrooms, dtype: float64"
      ]
     },
     "execution_count": 47,
     "metadata": {},
     "output_type": "execute_result"
    }
   ],
   "source": [
    "kc.Bedrooms.describe()"
   ]
  },
  {
   "cell_type": "markdown",
   "metadata": {},
   "source": [
    "This looks much better. I'll continue by exploring the scatter plots of the median values."
   ]
  },
  {
   "cell_type": "code",
   "execution_count": 48,
   "metadata": {
    "scrolled": false
   },
   "outputs": [
    {
     "data": {
      "application/vnd.jupyter.widget-view+json": {
       "model_id": "af240f7d21714d5ab03381dcf4d0b98f",
       "version_major": 2,
       "version_minor": 0
      },
      "text/plain": [
       "interactive(children=(Dropdown(description='x', options=('Bedrooms', 'Bathrooms', 'Grade', 'Zipcode_Means'), v…"
      ]
     },
     "metadata": {},
     "output_type": "display_data"
    }
   ],
   "source": [
    "@interact\n",
    "def discrete_plot(x = ['Bedrooms', 'Bathrooms', 'Grade', 'Zipcode_Means'],\n",
    "                  y_function = ['linear', 'log'],\n",
    "                  x_function = ['linear', 'log', 'squared', 'square-root', 'exp']):\n",
    "    \n",
    "    fig, ax = plt.subplots(1,1,figsize = (12,8))\n",
    "    df = pd.DataFrame(kc.groupby(x).Price.median()).reset_index()\n",
    "    x = df[x]\n",
    "    y = df.Price\n",
    "    def function_mapping(data, function):\n",
    "        function_map = {'linear':data,\n",
    "                            'log':data.apply(np.log10), \n",
    "                            'squared':data.apply(np.square),\n",
    "                            'square-root':data.apply(np.sqrt), \n",
    "                            'exp':data.apply(np.exp)}\n",
    "        return function_map[function]\n",
    "    \n",
    "    x = function_mapping(x,x_function)\n",
    "    y = function_mapping(y,y_function)\n",
    "    corr = np.corrcoef(x,y)\n",
    "    corr_text = 'corr: {:1.3f}'.format(corr[1,0])\n",
    "    sns.scatterplot(x = x, y = y)\n",
    "    plt.text(.025, \n",
    "             0.95, \n",
    "             corr_text, \n",
    "             horizontalalignment='left',\n",
    "             verticalalignment='top',\n",
    "             fontsize = 16,\n",
    "             transform=ax.transAxes)\n",
    "    plt.show()\n",
    "    "
   ]
  },
  {
   "cell_type": "markdown",
   "metadata": {},
   "source": [
    "It appears that taking the log of the price data helps linearize overall. This also helps because the distribution of the price data is normal when it is log transformed. The following relationships have the best correlation values:"
   ]
  },
  {
   "cell_type": "markdown",
   "metadata": {},
   "source": [
    "| Relationship                 | Correlation Value |\n",
    "| ---------------------------- | :---------------: |\n",
    "| log(Price) ~ log(Bedrooms)   | 0.872             |\n",
    "| log(Price) ~ sqrt(Bathrooms) | 0.867             |\n",
    "| log(Price) ~ $Grade^2$       | 0.992             |\n",
    "| log(Price) ~ log(Zipcode)    | 0.992             |"
   ]
  },
  {
   "cell_type": "code",
   "execution_count": 49,
   "metadata": {},
   "outputs": [
    {
     "data": {
      "application/vnd.jupyter.widget-view+json": {
       "model_id": "194e219d2588412597080ba40bf92fc0",
       "version_major": 2,
       "version_minor": 0
      },
      "text/plain": [
       "interactive(children=(Dropdown(description='x', options=('Sqft_Above', 'Sqft_Basement'), value='Sqft_Above'), …"
      ]
     },
     "metadata": {},
     "output_type": "display_data"
    }
   ],
   "source": [
    "@interact\n",
    "def scatter_plot(x = ['Sqft_Above','Sqft_Basement'],\n",
    "                 x_function = ['linear', 'log', 'squared', 'square-root', 'exp'],\n",
    "                 hue = ['None', 'Waterfront', 'View', 'Basement', 'Renovated']):\n",
    "    \n",
    "    fig, ax = plt.subplots(1,1,figsize = (12,8))\n",
    "    def function_mapping(data, function):\n",
    "        function_map = {'linear':data,\n",
    "                            'log':data.apply(np.log10), \n",
    "                            'squared':data.apply(np.square),\n",
    "                            'square-root':data.apply(np.sqrt), \n",
    "                            'exp':data.apply(np.exp)}\n",
    "        return function_map[function]\n",
    "    x_data = kc.loc[kc[x] > 0][x]\n",
    "    x_data = function_mapping(x_data,x_function)\n",
    "    y_data = kc.loc[kc[x] > 0]['Price']\n",
    "    y_data = y_data.apply(np.log10)\n",
    "        \n",
    "    if (hue != 'None'):\n",
    "        hue = kc[hue]\n",
    "    else:\n",
    "        hue = None\n",
    "    \n",
    "    corr = np.corrcoef(x_data,y_data)\n",
    "    corr_text = 'corr: {:1.3f}'.format(corr[1,0])\n",
    "    plt.text(.025, \n",
    "             0.95, \n",
    "             corr_text, \n",
    "             horizontalalignment='left',\n",
    "             verticalalignment='top',\n",
    "             fontsize = 16,\n",
    "             transform=ax.transAxes)\n",
    "    \n",
    "    sns.scatterplot(x = x_data, y = y_data, hue = hue, ax=ax)\n",
    "    plt.show()"
   ]
  },
  {
   "cell_type": "markdown",
   "metadata": {},
   "source": [
    "While not transforming the predictors yields the best correlation values, I'm concerned that there will be a non-random pattern in the residuals if they're left alone. Log transforming Sqft_Above and taking the square root of Sqft_Basement will yield a random residual pattern in both. This relationship and the correlation values is shown below."
   ]
  },
  {
   "cell_type": "markdown",
   "metadata": {},
   "source": [
    "|Relationship|Correlation Value|\n",
    "|---|---|\n",
    "|log(Price) ~ log(Sqft Above)| 0.586 |\n",
    "|log(Price) ~ $SqftBasement^{1/2}$ | 0.374 |"
   ]
  },
  {
   "cell_type": "markdown",
   "metadata": {},
   "source": [
    "<a id=\"3\"></a>\n",
    "## Modeling the Data"
   ]
  },
  {
   "cell_type": "code",
   "execution_count": 75,
   "metadata": {},
   "outputs": [],
   "source": [
    "import statsmodels.formula.api as smf\n",
    "import statsmodels.api as sm"
   ]
  },
  {
   "cell_type": "markdown",
   "metadata": {},
   "source": [
    "First, I'll transform the data based on the analysis that I performed above."
   ]
  },
  {
   "cell_type": "code",
   "execution_count": 52,
   "metadata": {
    "scrolled": true
   },
   "outputs": [
    {
     "data": {
      "text/html": [
       "<div>\n",
       "<style scoped>\n",
       "    .dataframe tbody tr th:only-of-type {\n",
       "        vertical-align: middle;\n",
       "    }\n",
       "\n",
       "    .dataframe tbody tr th {\n",
       "        vertical-align: top;\n",
       "    }\n",
       "\n",
       "    .dataframe thead th {\n",
       "        text-align: right;\n",
       "    }\n",
       "</style>\n",
       "<table border=\"1\" class=\"dataframe\">\n",
       "  <thead>\n",
       "    <tr style=\"text-align: right;\">\n",
       "      <th></th>\n",
       "      <th>Price</th>\n",
       "      <th>Bedrooms</th>\n",
       "      <th>Bathrooms</th>\n",
       "      <th>Grade</th>\n",
       "      <th>Sqft_Above</th>\n",
       "      <th>Sqft_Basement</th>\n",
       "      <th>Zipcode_Means</th>\n",
       "    </tr>\n",
       "  </thead>\n",
       "  <tbody>\n",
       "    <tr>\n",
       "      <th>count</th>\n",
       "      <td>20908.000000</td>\n",
       "      <td>20908.000000</td>\n",
       "      <td>20908.000000</td>\n",
       "      <td>20908.000000</td>\n",
       "      <td>20908.000000</td>\n",
       "      <td>20908.000000</td>\n",
       "      <td>20908.000000</td>\n",
       "    </tr>\n",
       "    <tr>\n",
       "      <th>mean</th>\n",
       "      <td>5.667088</td>\n",
       "      <td>0.511575</td>\n",
       "      <td>1.430670</td>\n",
       "      <td>60.089487</td>\n",
       "      <td>3.212410</td>\n",
       "      <td>10.294494</td>\n",
       "      <td>5.697851</td>\n",
       "    </tr>\n",
       "    <tr>\n",
       "      <th>std</th>\n",
       "      <td>0.228688</td>\n",
       "      <td>0.122368</td>\n",
       "      <td>0.267849</td>\n",
       "      <td>19.178343</td>\n",
       "      <td>0.185503</td>\n",
       "      <td>13.623374</td>\n",
       "      <td>0.171705</td>\n",
       "    </tr>\n",
       "    <tr>\n",
       "      <th>min</th>\n",
       "      <td>4.892095</td>\n",
       "      <td>0.000000</td>\n",
       "      <td>0.707107</td>\n",
       "      <td>9.000000</td>\n",
       "      <td>2.568202</td>\n",
       "      <td>0.000000</td>\n",
       "      <td>5.370166</td>\n",
       "    </tr>\n",
       "    <tr>\n",
       "      <th>25%</th>\n",
       "      <td>5.508530</td>\n",
       "      <td>0.477121</td>\n",
       "      <td>1.322876</td>\n",
       "      <td>49.000000</td>\n",
       "      <td>3.079181</td>\n",
       "      <td>0.000000</td>\n",
       "      <td>5.554864</td>\n",
       "    </tr>\n",
       "    <tr>\n",
       "      <th>50%</th>\n",
       "      <td>5.653213</td>\n",
       "      <td>0.477121</td>\n",
       "      <td>1.500000</td>\n",
       "      <td>49.000000</td>\n",
       "      <td>3.193125</td>\n",
       "      <td>0.000000</td>\n",
       "      <td>5.718763</td>\n",
       "    </tr>\n",
       "    <tr>\n",
       "      <th>75%</th>\n",
       "      <td>5.809560</td>\n",
       "      <td>0.602060</td>\n",
       "      <td>1.581139</td>\n",
       "      <td>64.000000</td>\n",
       "      <td>3.346353</td>\n",
       "      <td>23.664319</td>\n",
       "      <td>5.809108</td>\n",
       "    </tr>\n",
       "    <tr>\n",
       "      <th>max</th>\n",
       "      <td>6.886491</td>\n",
       "      <td>1.041393</td>\n",
       "      <td>2.828427</td>\n",
       "      <td>169.000000</td>\n",
       "      <td>3.973590</td>\n",
       "      <td>69.426220</td>\n",
       "      <td>6.329522</td>\n",
       "    </tr>\n",
       "  </tbody>\n",
       "</table>\n",
       "</div>"
      ],
      "text/plain": [
       "              Price      Bedrooms     Bathrooms         Grade    Sqft_Above  \\\n",
       "count  20908.000000  20908.000000  20908.000000  20908.000000  20908.000000   \n",
       "mean       5.667088      0.511575      1.430670     60.089487      3.212410   \n",
       "std        0.228688      0.122368      0.267849     19.178343      0.185503   \n",
       "min        4.892095      0.000000      0.707107      9.000000      2.568202   \n",
       "25%        5.508530      0.477121      1.322876     49.000000      3.079181   \n",
       "50%        5.653213      0.477121      1.500000     49.000000      3.193125   \n",
       "75%        5.809560      0.602060      1.581139     64.000000      3.346353   \n",
       "max        6.886491      1.041393      2.828427    169.000000      3.973590   \n",
       "\n",
       "       Sqft_Basement  Zipcode_Means  \n",
       "count   20908.000000   20908.000000  \n",
       "mean       10.294494       5.697851  \n",
       "std        13.623374       0.171705  \n",
       "min         0.000000       5.370166  \n",
       "25%         0.000000       5.554864  \n",
       "50%         0.000000       5.718763  \n",
       "75%        23.664319       5.809108  \n",
       "max        69.426220       6.329522  "
      ]
     },
     "execution_count": 52,
     "metadata": {},
     "output_type": "execute_result"
    }
   ],
   "source": [
    "kc_transformed = kc\n",
    "transform = {'Price':np.log10, \n",
    "             'Bedrooms':np.log10, \n",
    "             'Bathrooms':np.sqrt, \n",
    "             'Grade':np.square, \n",
    "             'Sqft_Above':np.log10, \n",
    "             'Sqft_Basement':np.sqrt,\n",
    "             'Zipcode_Means':np.log10}\n",
    "\n",
    "for column in list(kc.columns):\n",
    "    if column in transform.keys():\n",
    "        kc_transformed[column] = kc_transformed[column].apply(transform[column])\n",
    "kc_transformed.describe()"
   ]
  },
  {
   "cell_type": "markdown",
   "metadata": {},
   "source": [
    "I will normalize the data since the range for each column is significantly different from the others."
   ]
  },
  {
   "cell_type": "code",
   "execution_count": 59,
   "metadata": {
    "scrolled": true
   },
   "outputs": [
    {
     "data": {
      "text/html": [
       "<div>\n",
       "<style scoped>\n",
       "    .dataframe tbody tr th:only-of-type {\n",
       "        vertical-align: middle;\n",
       "    }\n",
       "\n",
       "    .dataframe tbody tr th {\n",
       "        vertical-align: top;\n",
       "    }\n",
       "\n",
       "    .dataframe thead th {\n",
       "        text-align: right;\n",
       "    }\n",
       "</style>\n",
       "<table border=\"1\" class=\"dataframe\">\n",
       "  <thead>\n",
       "    <tr style=\"text-align: right;\">\n",
       "      <th></th>\n",
       "      <th>Price</th>\n",
       "      <th>Bedrooms</th>\n",
       "      <th>Bathrooms</th>\n",
       "      <th>Grade</th>\n",
       "      <th>Sqft_Above</th>\n",
       "      <th>Sqft_Basement</th>\n",
       "      <th>Zipcode_Means</th>\n",
       "    </tr>\n",
       "  </thead>\n",
       "  <tbody>\n",
       "    <tr>\n",
       "      <th>min</th>\n",
       "      <td>0.0</td>\n",
       "      <td>0.0</td>\n",
       "      <td>0.0</td>\n",
       "      <td>0.0</td>\n",
       "      <td>0.0</td>\n",
       "      <td>0.0</td>\n",
       "      <td>0.0</td>\n",
       "    </tr>\n",
       "    <tr>\n",
       "      <th>max</th>\n",
       "      <td>1.0</td>\n",
       "      <td>1.0</td>\n",
       "      <td>1.0</td>\n",
       "      <td>1.0</td>\n",
       "      <td>1.0</td>\n",
       "      <td>1.0</td>\n",
       "      <td>1.0</td>\n",
       "    </tr>\n",
       "  </tbody>\n",
       "</table>\n",
       "</div>"
      ],
      "text/plain": [
       "     Price  Bedrooms  Bathrooms  Grade  Sqft_Above  Sqft_Basement  \\\n",
       "min    0.0       0.0        0.0    0.0         0.0            0.0   \n",
       "max    1.0       1.0        1.0    1.0         1.0            1.0   \n",
       "\n",
       "     Zipcode_Means  \n",
       "min            0.0  \n",
       "max            1.0  "
      ]
     },
     "execution_count": 59,
     "metadata": {},
     "output_type": "execute_result"
    }
   ],
   "source": [
    "kc_transformed_scaled = kc_transformed\n",
    "to_scale = kc_transformed_scaled.select_dtypes(include = [np.number]).columns\n",
    "for column in list(to_scale):\n",
    "    data = kc_transformed_scaled[column]\n",
    "    kc_transformed_scaled[column] = (data - data.min())/(data.max()-data.min())\n",
    "kc_transformed_scaled.agg(['min', 'max'])"
   ]
  },
  {
   "cell_type": "markdown",
   "metadata": {},
   "source": [
    "Wonderful! Now I can build the model using the transformed and scaled data."
   ]
  },
  {
   "cell_type": "code",
   "execution_count": 81,
   "metadata": {},
   "outputs": [
    {
     "data": {
      "text/plain": [
       "'Price ~ Bedrooms+Bathrooms+Grade+Sqft_Above+Sqft_Basement+Zipcode_Means+C(Waterfront)+C(View)+C(Condition)+C(Basement)+C(Renovated)+C(Living_Over10)+C(Living_Under10)+C(Lot_Over10)+C(Lot_Under10)+C(April)+C(August)+C(December)+C(February)+C(January)+C(July)+C(June)+C(March)+C(May)+C(November)+C(October) -1'"
      ]
     },
     "execution_count": 81,
     "metadata": {},
     "output_type": "execute_result"
    }
   ],
   "source": [
    "predictors = kc_transformed_scaled.drop(labels = 'Price', axis = 1)\n",
    "predictors_numeric = predictors.select_dtypes(include = [np.number])\n",
    "predictors_categorical = predictors.select_dtypes('category')\n",
    "predictors_categorical = ['C(' + predictor + ')' for predictor in predictors_categorical]\n",
    "predictors_categorical.pop() #Removes last month, which is required since the dummy variables cover all data\n",
    "formula = 'Price ~ ' + '+'.join(predictors_numeric) + '+' + '+'.join(predictors_categorical) + ' -1'\n",
    "formula"
   ]
  },
  {
   "cell_type": "code",
   "execution_count": 82,
   "metadata": {},
   "outputs": [
    {
     "data": {
      "text/html": [
       "<table class=\"simpletable\">\n",
       "<caption>OLS Regression Results</caption>\n",
       "<tr>\n",
       "  <th>Dep. Variable:</th>          <td>Price</td>      <th>  R-squared:         </th>  <td>   0.840</td> \n",
       "</tr>\n",
       "<tr>\n",
       "  <th>Model:</th>                   <td>OLS</td>       <th>  Adj. R-squared:    </th>  <td>   0.840</td> \n",
       "</tr>\n",
       "<tr>\n",
       "  <th>Method:</th>             <td>Least Squares</td>  <th>  F-statistic:       </th>  <td>   3791.</td> \n",
       "</tr>\n",
       "<tr>\n",
       "  <th>Date:</th>             <td>Fri, 01 Feb 2019</td> <th>  Prob (F-statistic):</th>   <td>  0.00</td>  \n",
       "</tr>\n",
       "<tr>\n",
       "  <th>Time:</th>                 <td>00:48:13</td>     <th>  Log-Likelihood:    </th>  <td>  34798.</td> \n",
       "</tr>\n",
       "<tr>\n",
       "  <th>No. Observations:</th>      <td> 20908</td>      <th>  AIC:               </th> <td>-6.954e+04</td>\n",
       "</tr>\n",
       "<tr>\n",
       "  <th>Df Residuals:</th>          <td> 20878</td>      <th>  BIC:               </th> <td>-6.930e+04</td>\n",
       "</tr>\n",
       "<tr>\n",
       "  <th>Df Model:</th>              <td>    29</td>      <th>                     </th>      <td> </td>    \n",
       "</tr>\n",
       "<tr>\n",
       "  <th>Covariance Type:</th>      <td>nonrobust</td>    <th>                     </th>      <td> </td>    \n",
       "</tr>\n",
       "</table>\n",
       "<table class=\"simpletable\">\n",
       "<tr>\n",
       "              <td></td>                 <th>coef</th>     <th>std err</th>      <th>t</th>      <th>P>|t|</th>  <th>[0.025</th>    <th>0.975]</th>  \n",
       "</tr>\n",
       "<tr>\n",
       "  <th>C(Waterfront)[False]</th>      <td>   -0.0056</td> <td>    0.009</td> <td>   -0.616</td> <td> 0.538</td> <td>   -0.023</td> <td>    0.012</td>\n",
       "</tr>\n",
       "<tr>\n",
       "  <th>C(Waterfront)[True]</th>       <td>    0.1063</td> <td>    0.010</td> <td>   10.801</td> <td> 0.000</td> <td>    0.087</td> <td>    0.126</td>\n",
       "</tr>\n",
       "<tr>\n",
       "  <th>C(View)[T.True]</th>           <td>    0.0379</td> <td>    0.001</td> <td>   32.161</td> <td> 0.000</td> <td>    0.036</td> <td>    0.040</td>\n",
       "</tr>\n",
       "<tr>\n",
       "  <th>C(Condition)[T.2]</th>         <td>    0.0210</td> <td>    0.010</td> <td>    2.195</td> <td> 0.028</td> <td>    0.002</td> <td>    0.040</td>\n",
       "</tr>\n",
       "<tr>\n",
       "  <th>C(Condition)[T.3]</th>         <td>    0.0523</td> <td>    0.009</td> <td>    5.905</td> <td> 0.000</td> <td>    0.035</td> <td>    0.070</td>\n",
       "</tr>\n",
       "<tr>\n",
       "  <th>C(Condition)[T.4]</th>         <td>    0.0593</td> <td>    0.009</td> <td>    6.691</td> <td> 0.000</td> <td>    0.042</td> <td>    0.077</td>\n",
       "</tr>\n",
       "<tr>\n",
       "  <th>C(Condition)[T.5]</th>         <td>    0.0813</td> <td>    0.009</td> <td>    9.116</td> <td> 0.000</td> <td>    0.064</td> <td>    0.099</td>\n",
       "</tr>\n",
       "<tr>\n",
       "  <th>C(Basement)[T.True]</th>       <td>    0.0103</td> <td>    0.002</td> <td>    5.158</td> <td> 0.000</td> <td>    0.006</td> <td>    0.014</td>\n",
       "</tr>\n",
       "<tr>\n",
       "  <th>C(Renovated)[T.True]</th>      <td>    0.0230</td> <td>    0.002</td> <td>   13.006</td> <td> 0.000</td> <td>    0.020</td> <td>    0.026</td>\n",
       "</tr>\n",
       "<tr>\n",
       "  <th>C(Living_Over10)[T.True]</th>  <td>    0.0079</td> <td>    0.001</td> <td>    9.516</td> <td> 0.000</td> <td>    0.006</td> <td>    0.010</td>\n",
       "</tr>\n",
       "<tr>\n",
       "  <th>C(Living_Under10)[T.True]</th> <td>    0.0077</td> <td>    0.001</td> <td>    8.863</td> <td> 0.000</td> <td>    0.006</td> <td>    0.009</td>\n",
       "</tr>\n",
       "<tr>\n",
       "  <th>C(Lot_Over10)[T.True]</th>     <td>    0.0038</td> <td>    0.001</td> <td>    4.818</td> <td> 0.000</td> <td>    0.002</td> <td>    0.005</td>\n",
       "</tr>\n",
       "<tr>\n",
       "  <th>C(Lot_Under10)[T.True]</th>    <td>   -0.0006</td> <td>    0.001</td> <td>   -0.720</td> <td> 0.471</td> <td>   -0.002</td> <td>    0.001</td>\n",
       "</tr>\n",
       "<tr>\n",
       "  <th>C(April)[T.1]</th>             <td>    0.0173</td> <td>    0.001</td> <td>   11.651</td> <td> 0.000</td> <td>    0.014</td> <td>    0.020</td>\n",
       "</tr>\n",
       "<tr>\n",
       "  <th>C(August)[T.1]</th>            <td>    0.0012</td> <td>    0.002</td> <td>    0.781</td> <td> 0.435</td> <td>   -0.002</td> <td>    0.004</td>\n",
       "</tr>\n",
       "<tr>\n",
       "  <th>C(December)[T.1]</th>          <td>    0.0025</td> <td>    0.002</td> <td>    1.526</td> <td> 0.127</td> <td>   -0.001</td> <td>    0.006</td>\n",
       "</tr>\n",
       "<tr>\n",
       "  <th>C(February)[T.1]</th>          <td>    0.0036</td> <td>    0.002</td> <td>    2.103</td> <td> 0.035</td> <td>    0.000</td> <td>    0.007</td>\n",
       "</tr>\n",
       "<tr>\n",
       "  <th>C(January)[T.1]</th>           <td>    0.0009</td> <td>    0.002</td> <td>    0.499</td> <td> 0.618</td> <td>   -0.003</td> <td>    0.005</td>\n",
       "</tr>\n",
       "<tr>\n",
       "  <th>C(July)[T.1]</th>              <td>    0.0013</td> <td>    0.001</td> <td>    0.888</td> <td> 0.375</td> <td>   -0.002</td> <td>    0.004</td>\n",
       "</tr>\n",
       "<tr>\n",
       "  <th>C(June)[T.1]</th>              <td>    0.0032</td> <td>    0.001</td> <td>    2.135</td> <td> 0.033</td> <td>    0.000</td> <td>    0.006</td>\n",
       "</tr>\n",
       "<tr>\n",
       "  <th>C(March)[T.1]</th>             <td>    0.0108</td> <td>    0.002</td> <td>    6.939</td> <td> 0.000</td> <td>    0.008</td> <td>    0.014</td>\n",
       "</tr>\n",
       "<tr>\n",
       "  <th>C(May)[T.1]</th>               <td>    0.0054</td> <td>    0.001</td> <td>    3.684</td> <td> 0.000</td> <td>    0.003</td> <td>    0.008</td>\n",
       "</tr>\n",
       "<tr>\n",
       "  <th>C(November)[T.1]</th>          <td>   -0.0002</td> <td>    0.002</td> <td>   -0.115</td> <td> 0.909</td> <td>   -0.003</td> <td>    0.003</td>\n",
       "</tr>\n",
       "<tr>\n",
       "  <th>C(October)[T.1]</th>           <td>    0.0013</td> <td>    0.002</td> <td>    0.827</td> <td> 0.408</td> <td>   -0.002</td> <td>    0.004</td>\n",
       "</tr>\n",
       "<tr>\n",
       "  <th>Bedrooms</th>                  <td>   -0.0263</td> <td>    0.004</td> <td>   -7.183</td> <td> 0.000</td> <td>   -0.033</td> <td>   -0.019</td>\n",
       "</tr>\n",
       "<tr>\n",
       "  <th>Bathrooms</th>                 <td>    0.0066</td> <td>    0.004</td> <td>    1.615</td> <td> 0.106</td> <td>   -0.001</td> <td>    0.015</td>\n",
       "</tr>\n",
       "<tr>\n",
       "  <th>Grade</th>                     <td>    0.2194</td> <td>    0.005</td> <td>   47.616</td> <td> 0.000</td> <td>    0.210</td> <td>    0.228</td>\n",
       "</tr>\n",
       "<tr>\n",
       "  <th>Sqft_Above</th>                <td>    0.2889</td> <td>    0.005</td> <td>   53.078</td> <td> 0.000</td> <td>    0.278</td> <td>    0.300</td>\n",
       "</tr>\n",
       "<tr>\n",
       "  <th>Sqft_Basement</th>             <td>    0.0773</td> <td>    0.005</td> <td>   14.574</td> <td> 0.000</td> <td>    0.067</td> <td>    0.088</td>\n",
       "</tr>\n",
       "<tr>\n",
       "  <th>Zipcode_Means</th>             <td>    0.3386</td> <td>    0.002</td> <td>  172.880</td> <td> 0.000</td> <td>    0.335</td> <td>    0.342</td>\n",
       "</tr>\n",
       "</table>\n",
       "<table class=\"simpletable\">\n",
       "<tr>\n",
       "  <th>Omnibus:</th>       <td>646.514</td> <th>  Durbin-Watson:     </th> <td>   1.993</td>\n",
       "</tr>\n",
       "<tr>\n",
       "  <th>Prob(Omnibus):</th> <td> 0.000</td>  <th>  Jarque-Bera (JB):  </th> <td>1762.279</td>\n",
       "</tr>\n",
       "<tr>\n",
       "  <th>Skew:</th>          <td> 0.006</td>  <th>  Prob(JB):          </th> <td>    0.00</td>\n",
       "</tr>\n",
       "<tr>\n",
       "  <th>Kurtosis:</th>      <td> 4.422</td>  <th>  Cond. No.          </th> <td>    117.</td>\n",
       "</tr>\n",
       "</table><br/><br/>Warnings:<br/>[1] Standard Errors assume that the covariance matrix of the errors is correctly specified."
      ],
      "text/plain": [
       "<class 'statsmodels.iolib.summary.Summary'>\n",
       "\"\"\"\n",
       "                            OLS Regression Results                            \n",
       "==============================================================================\n",
       "Dep. Variable:                  Price   R-squared:                       0.840\n",
       "Model:                            OLS   Adj. R-squared:                  0.840\n",
       "Method:                 Least Squares   F-statistic:                     3791.\n",
       "Date:                Fri, 01 Feb 2019   Prob (F-statistic):               0.00\n",
       "Time:                        00:48:13   Log-Likelihood:                 34798.\n",
       "No. Observations:               20908   AIC:                        -6.954e+04\n",
       "Df Residuals:                   20878   BIC:                        -6.930e+04\n",
       "Df Model:                          29                                         \n",
       "Covariance Type:            nonrobust                                         \n",
       "=============================================================================================\n",
       "                                coef    std err          t      P>|t|      [0.025      0.975]\n",
       "---------------------------------------------------------------------------------------------\n",
       "C(Waterfront)[False]         -0.0056      0.009     -0.616      0.538      -0.023       0.012\n",
       "C(Waterfront)[True]           0.1063      0.010     10.801      0.000       0.087       0.126\n",
       "C(View)[T.True]               0.0379      0.001     32.161      0.000       0.036       0.040\n",
       "C(Condition)[T.2]             0.0210      0.010      2.195      0.028       0.002       0.040\n",
       "C(Condition)[T.3]             0.0523      0.009      5.905      0.000       0.035       0.070\n",
       "C(Condition)[T.4]             0.0593      0.009      6.691      0.000       0.042       0.077\n",
       "C(Condition)[T.5]             0.0813      0.009      9.116      0.000       0.064       0.099\n",
       "C(Basement)[T.True]           0.0103      0.002      5.158      0.000       0.006       0.014\n",
       "C(Renovated)[T.True]          0.0230      0.002     13.006      0.000       0.020       0.026\n",
       "C(Living_Over10)[T.True]      0.0079      0.001      9.516      0.000       0.006       0.010\n",
       "C(Living_Under10)[T.True]     0.0077      0.001      8.863      0.000       0.006       0.009\n",
       "C(Lot_Over10)[T.True]         0.0038      0.001      4.818      0.000       0.002       0.005\n",
       "C(Lot_Under10)[T.True]       -0.0006      0.001     -0.720      0.471      -0.002       0.001\n",
       "C(April)[T.1]                 0.0173      0.001     11.651      0.000       0.014       0.020\n",
       "C(August)[T.1]                0.0012      0.002      0.781      0.435      -0.002       0.004\n",
       "C(December)[T.1]              0.0025      0.002      1.526      0.127      -0.001       0.006\n",
       "C(February)[T.1]              0.0036      0.002      2.103      0.035       0.000       0.007\n",
       "C(January)[T.1]               0.0009      0.002      0.499      0.618      -0.003       0.005\n",
       "C(July)[T.1]                  0.0013      0.001      0.888      0.375      -0.002       0.004\n",
       "C(June)[T.1]                  0.0032      0.001      2.135      0.033       0.000       0.006\n",
       "C(March)[T.1]                 0.0108      0.002      6.939      0.000       0.008       0.014\n",
       "C(May)[T.1]                   0.0054      0.001      3.684      0.000       0.003       0.008\n",
       "C(November)[T.1]             -0.0002      0.002     -0.115      0.909      -0.003       0.003\n",
       "C(October)[T.1]               0.0013      0.002      0.827      0.408      -0.002       0.004\n",
       "Bedrooms                     -0.0263      0.004     -7.183      0.000      -0.033      -0.019\n",
       "Bathrooms                     0.0066      0.004      1.615      0.106      -0.001       0.015\n",
       "Grade                         0.2194      0.005     47.616      0.000       0.210       0.228\n",
       "Sqft_Above                    0.2889      0.005     53.078      0.000       0.278       0.300\n",
       "Sqft_Basement                 0.0773      0.005     14.574      0.000       0.067       0.088\n",
       "Zipcode_Means                 0.3386      0.002    172.880      0.000       0.335       0.342\n",
       "==============================================================================\n",
       "Omnibus:                      646.514   Durbin-Watson:                   1.993\n",
       "Prob(Omnibus):                  0.000   Jarque-Bera (JB):             1762.279\n",
       "Skew:                           0.006   Prob(JB):                         0.00\n",
       "Kurtosis:                       4.422   Cond. No.                         117.\n",
       "==============================================================================\n",
       "\n",
       "Warnings:\n",
       "[1] Standard Errors assume that the covariance matrix of the errors is correctly specified.\n",
       "\"\"\""
      ]
     },
     "execution_count": 82,
     "metadata": {},
     "output_type": "execute_result"
    }
   ],
   "source": [
    "mod = smf.ols(formula=formula, data=kc_transformed_scaled)\n",
    "res = mod.fit()\n",
    "res.summary()"
   ]
  },
  {
   "cell_type": "code",
   "execution_count": 85,
   "metadata": {},
   "outputs": [
    {
     "data": {
      "text/plain": [
       "<matplotlib.collections.PathCollection at 0x1a23efab38>"
      ]
     },
     "execution_count": 85,
     "metadata": {},
     "output_type": "execute_result"
    },
    {
     "data": {
      "image/png": "[encoded data removed]",
      "text/plain": [
       "<Figure size 432x288 with 1 Axes>"
      ]
     },
     "metadata": {},
     "output_type": "display_data"
    }
   ],
   "source": [
    "y_hat = res.predict(predictors)\n",
    "residuals = kc_transformed_scaled.Price - y_hat\n",
    "plt.scatter(kc_transformed_scaled.Price, residuals)"
   ]
  },
  {
   "cell_type": "code",
   "execution_count": 83,
   "metadata": {},
   "outputs": [
    {
     "data": {
      "image/png": "[encoded data removed]",
      "text/plain": [
       "<Figure size 864x576 with 4 Axes>"
      ]
     },
     "metadata": {},
     "output_type": "display_data"
    }
   ],
   "source": [
    "fig = plt.figure(figsize = (12,8))\n",
    "fig = sm.graphics.plot_regress_exog(res, \"Grade\", fig=fig)"
   ]
  },
  {
   "cell_type": "code",
   "execution_count": null,
   "metadata": {},
   "outputs": [],
   "source": []
  }
 ],
 "metadata": {
  "kernelspec": {
   "display_name": "learn-env",
   "language": "python",
   "name": "learn-env"
  },
  "language_info": {
   "codemirror_mode": {
    "name": "ipython",
    "version": 3
   },
   "file_extension": ".py",
   "mimetype": "text/x-python",
   "name": "python",
   "nbconvert_exporter": "python",
   "pygments_lexer": "ipython3",
   "version": "3.6.6"
  }
 },
 "nbformat": 4,
 "nbformat_minor": 2
}
