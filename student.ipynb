{
 "cells": [
  {
   "cell_type": "markdown",
   "metadata": {},
   "source": [
    "## Final Project Submission\n",
    "\n",
    "Please fill out:\n",
    "* Student name: Pedro Jofre Lora\n",
    "* Student pace: self paced\n",
    "* Scheduled project review date/time: \n",
    "* Instructor name: \n",
    "* Blog post URL:\n"
   ]
  },
  {
   "cell_type": "markdown",
   "metadata": {},
   "source": [
    "# [Title of Paper]\n",
    "\n",
    "## Introduction\n",
    "This is the introduction where you explain the relevant information given the question that was asked. \n",
    "\n",
    "## Importing and cleaning data"
   ]
  },
  {
   "cell_type": "code",
   "execution_count": 1,
   "metadata": {},
   "outputs": [
    {
     "name": "stdout",
     "output_type": "stream",
     "text": [
      "<class 'pandas.core.frame.DataFrame'>\n",
      "Int64Index: 21597 entries, 7129300520 to 1523300157\n",
      "Data columns (total 20 columns):\n",
      "Date             21597 non-null object\n",
      "Price            21597 non-null float64\n",
      "Bedrooms         21597 non-null int64\n",
      "Bathrooms        21597 non-null float64\n",
      "Sqft_Living      21597 non-null int64\n",
      "Sqft_Lot         21597 non-null int64\n",
      "Floors           21597 non-null float64\n",
      "Waterfront       19221 non-null float64\n",
      "View             21534 non-null float64\n",
      "Condition        21597 non-null int64\n",
      "Grade            21597 non-null int64\n",
      "Sqft_Above       21597 non-null int64\n",
      "Sqft_Basement    21597 non-null object\n",
      "Yr_Built         21597 non-null int64\n",
      "Yr_Renovated     17755 non-null float64\n",
      "Zipcode          21597 non-null int64\n",
      "Lat              21597 non-null float64\n",
      "Long             21597 non-null float64\n",
      "Sqft_Living15    21597 non-null int64\n",
      "Sqft_Lot15       21597 non-null int64\n",
      "dtypes: float64(8), int64(10), object(2)\n",
      "memory usage: 3.5+ MB\n"
     ]
    }
   ],
   "source": [
    "import pandas as pd\n",
    "import numpy as np\n",
    "import warnings\n",
    "warnings.simplefilter('ignore')\n",
    "\n",
    "# Import the data\n",
    "kc = pd.read_csv('kc_house_data.csv', index_col = 'id')\n",
    "kc.columns = [col_name.title() for col_name in list(kc.columns)]\n",
    "kc.info()"
   ]
  },
  {
   "cell_type": "code",
   "execution_count": 2,
   "metadata": {},
   "outputs": [
    {
     "data": {
      "text/html": [
       "<div>\n",
       "<style scoped>\n",
       "    .dataframe tbody tr th:only-of-type {\n",
       "        vertical-align: middle;\n",
       "    }\n",
       "\n",
       "    .dataframe tbody tr th {\n",
       "        vertical-align: top;\n",
       "    }\n",
       "\n",
       "    .dataframe thead th {\n",
       "        text-align: right;\n",
       "    }\n",
       "</style>\n",
       "<table border=\"1\" class=\"dataframe\">\n",
       "  <thead>\n",
       "    <tr style=\"text-align: right;\">\n",
       "      <th></th>\n",
       "      <th>Waterfront</th>\n",
       "      <th>Condition</th>\n",
       "      <th>View</th>\n",
       "      <th>Floors</th>\n",
       "      <th>Grade</th>\n",
       "      <th>Bedrooms</th>\n",
       "      <th>Bathrooms</th>\n",
       "      <th>Zipcode</th>\n",
       "      <th>Yr_Renovated</th>\n",
       "      <th>Yr_Built</th>\n",
       "      <th>Sqft_Basement</th>\n",
       "      <th>Date</th>\n",
       "      <th>Long</th>\n",
       "      <th>Sqft_Living15</th>\n",
       "      <th>Sqft_Above</th>\n",
       "      <th>Sqft_Living</th>\n",
       "      <th>Price</th>\n",
       "      <th>Lat</th>\n",
       "      <th>Sqft_Lot15</th>\n",
       "      <th>Sqft_Lot</th>\n",
       "    </tr>\n",
       "  </thead>\n",
       "  <tbody>\n",
       "    <tr>\n",
       "      <th>Counts</th>\n",
       "      <td>2</td>\n",
       "      <td>5</td>\n",
       "      <td>5</td>\n",
       "      <td>6</td>\n",
       "      <td>11</td>\n",
       "      <td>12</td>\n",
       "      <td>29</td>\n",
       "      <td>70</td>\n",
       "      <td>70</td>\n",
       "      <td>116</td>\n",
       "      <td>304</td>\n",
       "      <td>372</td>\n",
       "      <td>751</td>\n",
       "      <td>777</td>\n",
       "      <td>942</td>\n",
       "      <td>1034</td>\n",
       "      <td>3622</td>\n",
       "      <td>5033</td>\n",
       "      <td>8682</td>\n",
       "      <td>9776</td>\n",
       "    </tr>\n",
       "  </tbody>\n",
       "</table>\n",
       "</div>"
      ],
      "text/plain": [
       "        Waterfront  Condition  View  Floors  Grade  Bedrooms  Bathrooms  \\\n",
       "Counts           2          5     5       6     11        12         29   \n",
       "\n",
       "        Zipcode  Yr_Renovated  Yr_Built  Sqft_Basement  Date  Long  \\\n",
       "Counts       70            70       116            304   372   751   \n",
       "\n",
       "        Sqft_Living15  Sqft_Above  Sqft_Living  Price   Lat  Sqft_Lot15  \\\n",
       "Counts            777         942         1034   3622  5033        8682   \n",
       "\n",
       "        Sqft_Lot  \n",
       "Counts      9776  "
      ]
     },
     "execution_count": 2,
     "metadata": {},
     "output_type": "execute_result"
    }
   ],
   "source": [
    "pd.DataFrame(\n",
    "    data = kc.nunique().sort_values(), \n",
    "    columns = ['Counts']\n",
    "    ).transpose()"
   ]
  },
  {
   "cell_type": "code",
   "execution_count": 3,
   "metadata": {},
   "outputs": [
    {
     "data": {
      "text/html": [
       "<div>\n",
       "<style scoped>\n",
       "    .dataframe tbody tr th:only-of-type {\n",
       "        vertical-align: middle;\n",
       "    }\n",
       "\n",
       "    .dataframe tbody tr th {\n",
       "        vertical-align: top;\n",
       "    }\n",
       "\n",
       "    .dataframe thead th {\n",
       "        text-align: right;\n",
       "    }\n",
       "</style>\n",
       "<table border=\"1\" class=\"dataframe\">\n",
       "  <thead>\n",
       "    <tr style=\"text-align: right;\">\n",
       "      <th></th>\n",
       "      <th>Price</th>\n",
       "      <th>Bedrooms</th>\n",
       "      <th>Bathrooms</th>\n",
       "      <th>Sqft_Living</th>\n",
       "      <th>Sqft_Lot</th>\n",
       "      <th>Floors</th>\n",
       "      <th>Waterfront</th>\n",
       "      <th>View</th>\n",
       "      <th>Condition</th>\n",
       "      <th>Grade</th>\n",
       "      <th>Sqft_Above</th>\n",
       "      <th>Yr_Built</th>\n",
       "      <th>Yr_Renovated</th>\n",
       "      <th>Zipcode</th>\n",
       "      <th>Lat</th>\n",
       "      <th>Long</th>\n",
       "      <th>Sqft_Living15</th>\n",
       "      <th>Sqft_Lot15</th>\n",
       "    </tr>\n",
       "  </thead>\n",
       "  <tbody>\n",
       "    <tr>\n",
       "      <th>count</th>\n",
       "      <td>2.159700e+04</td>\n",
       "      <td>21597.000000</td>\n",
       "      <td>21597.000000</td>\n",
       "      <td>21597.000000</td>\n",
       "      <td>2.159700e+04</td>\n",
       "      <td>21597.000000</td>\n",
       "      <td>19221.000000</td>\n",
       "      <td>21534.000000</td>\n",
       "      <td>21597.000000</td>\n",
       "      <td>21597.000000</td>\n",
       "      <td>21597.000000</td>\n",
       "      <td>21597.000000</td>\n",
       "      <td>17755.000000</td>\n",
       "      <td>21597.000000</td>\n",
       "      <td>21597.000000</td>\n",
       "      <td>21597.000000</td>\n",
       "      <td>21597.000000</td>\n",
       "      <td>21597.000000</td>\n",
       "    </tr>\n",
       "    <tr>\n",
       "      <th>mean</th>\n",
       "      <td>5.402966e+05</td>\n",
       "      <td>3.373200</td>\n",
       "      <td>2.115826</td>\n",
       "      <td>2080.321850</td>\n",
       "      <td>1.509941e+04</td>\n",
       "      <td>1.494096</td>\n",
       "      <td>0.007596</td>\n",
       "      <td>0.233863</td>\n",
       "      <td>3.409825</td>\n",
       "      <td>7.657915</td>\n",
       "      <td>1788.596842</td>\n",
       "      <td>1970.999676</td>\n",
       "      <td>83.636778</td>\n",
       "      <td>98077.951845</td>\n",
       "      <td>47.560093</td>\n",
       "      <td>-122.213982</td>\n",
       "      <td>1986.620318</td>\n",
       "      <td>12758.283512</td>\n",
       "    </tr>\n",
       "    <tr>\n",
       "      <th>std</th>\n",
       "      <td>3.673681e+05</td>\n",
       "      <td>0.926299</td>\n",
       "      <td>0.768984</td>\n",
       "      <td>918.106125</td>\n",
       "      <td>4.141264e+04</td>\n",
       "      <td>0.539683</td>\n",
       "      <td>0.086825</td>\n",
       "      <td>0.765686</td>\n",
       "      <td>0.650546</td>\n",
       "      <td>1.173200</td>\n",
       "      <td>827.759761</td>\n",
       "      <td>29.375234</td>\n",
       "      <td>399.946414</td>\n",
       "      <td>53.513072</td>\n",
       "      <td>0.138552</td>\n",
       "      <td>0.140724</td>\n",
       "      <td>685.230472</td>\n",
       "      <td>27274.441950</td>\n",
       "    </tr>\n",
       "    <tr>\n",
       "      <th>min</th>\n",
       "      <td>7.800000e+04</td>\n",
       "      <td>1.000000</td>\n",
       "      <td>0.500000</td>\n",
       "      <td>370.000000</td>\n",
       "      <td>5.200000e+02</td>\n",
       "      <td>1.000000</td>\n",
       "      <td>0.000000</td>\n",
       "      <td>0.000000</td>\n",
       "      <td>1.000000</td>\n",
       "      <td>3.000000</td>\n",
       "      <td>370.000000</td>\n",
       "      <td>1900.000000</td>\n",
       "      <td>0.000000</td>\n",
       "      <td>98001.000000</td>\n",
       "      <td>47.155900</td>\n",
       "      <td>-122.519000</td>\n",
       "      <td>399.000000</td>\n",
       "      <td>651.000000</td>\n",
       "    </tr>\n",
       "    <tr>\n",
       "      <th>25%</th>\n",
       "      <td>3.220000e+05</td>\n",
       "      <td>3.000000</td>\n",
       "      <td>1.750000</td>\n",
       "      <td>1430.000000</td>\n",
       "      <td>5.040000e+03</td>\n",
       "      <td>1.000000</td>\n",
       "      <td>0.000000</td>\n",
       "      <td>0.000000</td>\n",
       "      <td>3.000000</td>\n",
       "      <td>7.000000</td>\n",
       "      <td>1190.000000</td>\n",
       "      <td>1951.000000</td>\n",
       "      <td>0.000000</td>\n",
       "      <td>98033.000000</td>\n",
       "      <td>47.471100</td>\n",
       "      <td>-122.328000</td>\n",
       "      <td>1490.000000</td>\n",
       "      <td>5100.000000</td>\n",
       "    </tr>\n",
       "    <tr>\n",
       "      <th>50%</th>\n",
       "      <td>4.500000e+05</td>\n",
       "      <td>3.000000</td>\n",
       "      <td>2.250000</td>\n",
       "      <td>1910.000000</td>\n",
       "      <td>7.618000e+03</td>\n",
       "      <td>1.500000</td>\n",
       "      <td>0.000000</td>\n",
       "      <td>0.000000</td>\n",
       "      <td>3.000000</td>\n",
       "      <td>7.000000</td>\n",
       "      <td>1560.000000</td>\n",
       "      <td>1975.000000</td>\n",
       "      <td>0.000000</td>\n",
       "      <td>98065.000000</td>\n",
       "      <td>47.571800</td>\n",
       "      <td>-122.231000</td>\n",
       "      <td>1840.000000</td>\n",
       "      <td>7620.000000</td>\n",
       "    </tr>\n",
       "    <tr>\n",
       "      <th>75%</th>\n",
       "      <td>6.450000e+05</td>\n",
       "      <td>4.000000</td>\n",
       "      <td>2.500000</td>\n",
       "      <td>2550.000000</td>\n",
       "      <td>1.068500e+04</td>\n",
       "      <td>2.000000</td>\n",
       "      <td>0.000000</td>\n",
       "      <td>0.000000</td>\n",
       "      <td>4.000000</td>\n",
       "      <td>8.000000</td>\n",
       "      <td>2210.000000</td>\n",
       "      <td>1997.000000</td>\n",
       "      <td>0.000000</td>\n",
       "      <td>98118.000000</td>\n",
       "      <td>47.678000</td>\n",
       "      <td>-122.125000</td>\n",
       "      <td>2360.000000</td>\n",
       "      <td>10083.000000</td>\n",
       "    </tr>\n",
       "    <tr>\n",
       "      <th>max</th>\n",
       "      <td>7.700000e+06</td>\n",
       "      <td>33.000000</td>\n",
       "      <td>8.000000</td>\n",
       "      <td>13540.000000</td>\n",
       "      <td>1.651359e+06</td>\n",
       "      <td>3.500000</td>\n",
       "      <td>1.000000</td>\n",
       "      <td>4.000000</td>\n",
       "      <td>5.000000</td>\n",
       "      <td>13.000000</td>\n",
       "      <td>9410.000000</td>\n",
       "      <td>2015.000000</td>\n",
       "      <td>2015.000000</td>\n",
       "      <td>98199.000000</td>\n",
       "      <td>47.777600</td>\n",
       "      <td>-121.315000</td>\n",
       "      <td>6210.000000</td>\n",
       "      <td>871200.000000</td>\n",
       "    </tr>\n",
       "  </tbody>\n",
       "</table>\n",
       "</div>"
      ],
      "text/plain": [
       "              Price      Bedrooms     Bathrooms   Sqft_Living      Sqft_Lot  \\\n",
       "count  2.159700e+04  21597.000000  21597.000000  21597.000000  2.159700e+04   \n",
       "mean   5.402966e+05      3.373200      2.115826   2080.321850  1.509941e+04   \n",
       "std    3.673681e+05      0.926299      0.768984    918.106125  4.141264e+04   \n",
       "min    7.800000e+04      1.000000      0.500000    370.000000  5.200000e+02   \n",
       "25%    3.220000e+05      3.000000      1.750000   1430.000000  5.040000e+03   \n",
       "50%    4.500000e+05      3.000000      2.250000   1910.000000  7.618000e+03   \n",
       "75%    6.450000e+05      4.000000      2.500000   2550.000000  1.068500e+04   \n",
       "max    7.700000e+06     33.000000      8.000000  13540.000000  1.651359e+06   \n",
       "\n",
       "             Floors    Waterfront          View     Condition         Grade  \\\n",
       "count  21597.000000  19221.000000  21534.000000  21597.000000  21597.000000   \n",
       "mean       1.494096      0.007596      0.233863      3.409825      7.657915   \n",
       "std        0.539683      0.086825      0.765686      0.650546      1.173200   \n",
       "min        1.000000      0.000000      0.000000      1.000000      3.000000   \n",
       "25%        1.000000      0.000000      0.000000      3.000000      7.000000   \n",
       "50%        1.500000      0.000000      0.000000      3.000000      7.000000   \n",
       "75%        2.000000      0.000000      0.000000      4.000000      8.000000   \n",
       "max        3.500000      1.000000      4.000000      5.000000     13.000000   \n",
       "\n",
       "         Sqft_Above      Yr_Built  Yr_Renovated       Zipcode           Lat  \\\n",
       "count  21597.000000  21597.000000  17755.000000  21597.000000  21597.000000   \n",
       "mean    1788.596842   1970.999676     83.636778  98077.951845     47.560093   \n",
       "std      827.759761     29.375234    399.946414     53.513072      0.138552   \n",
       "min      370.000000   1900.000000      0.000000  98001.000000     47.155900   \n",
       "25%     1190.000000   1951.000000      0.000000  98033.000000     47.471100   \n",
       "50%     1560.000000   1975.000000      0.000000  98065.000000     47.571800   \n",
       "75%     2210.000000   1997.000000      0.000000  98118.000000     47.678000   \n",
       "max     9410.000000   2015.000000   2015.000000  98199.000000     47.777600   \n",
       "\n",
       "               Long  Sqft_Living15     Sqft_Lot15  \n",
       "count  21597.000000   21597.000000   21597.000000  \n",
       "mean    -122.213982    1986.620318   12758.283512  \n",
       "std        0.140724     685.230472   27274.441950  \n",
       "min     -122.519000     399.000000     651.000000  \n",
       "25%     -122.328000    1490.000000    5100.000000  \n",
       "50%     -122.231000    1840.000000    7620.000000  \n",
       "75%     -122.125000    2360.000000   10083.000000  \n",
       "max     -121.315000    6210.000000  871200.000000  "
      ]
     },
     "execution_count": 3,
     "metadata": {},
     "output_type": "execute_result"
    }
   ],
   "source": [
    "kc.describe()"
   ]
  },
  {
   "cell_type": "markdown",
   "metadata": {},
   "source": [
    "### Problems to Fix\n",
    "1.  Date, View, and Sqft_basement are incorrect types.\n",
    "2.  Waterfront and zipcode likely need to be converted to categorical.\n",
    "3.  Condition and Grade might need to be converted to categorical, unless the numbers are a monotonic scale (scale of 1-5 with 5 being the \"best\").\n",
    "4.  Investigate Yr_Renovated.\n",
    "5.  Deciding what to do with the date.\n",
    "6.  Deciding what to do with the lat and long values.\n",
    "\n",
    "Data could be dropped from View, and it should also be converted to a binary category since the description is \"has been viewed\", and not \"the number of times the propery has been viewed\".\n",
    "\n",
    "Waterfront and zipcode may not need to be converted to categorical and could be tossed out if the distributions of the groups is equal. If the distributions are not equal then they'll both be changed to categorical. It might be best to run separate analyses for the categories if there's enough data, since the relationships may change in shape given the value of a category.\n",
    "\n",
    "Condition and Grade likely will not need to be converted to categorical, though we must assume that they are monotonic scales.\n",
    "\n",
    "There is a surprisingly low mean and a very high std for Yr_Renovated, which may indicate that the data may not accurately represent what's going on. It may be the case that very few homes have renovations on file. If this is the case, then Yr_renovated should be changed to Renovated, which is a binary category indicating whether or not a renovation is on file.\n",
    "\n",
    "The date will likely have a large impact on predicting the final sale price. I'll investigate to see if there is an impact, and then decide what to do.\n",
    "\n",
    "Changing Lat and Long data into rectangular sectors can approximate neighborhoods that can then be used as categories. It would be best to look at a map of king county to see if there are distinct neighborhoods that could be drawn instead. This would be an interesting function...\n",
    "\n",
    "### Some goals\n",
    "-  The model should give a confidence interval for the price, instead of one value\n",
    "\n",
    "### Resolving problems\n",
    "1. Change Date and Sqft_Basement to correct types. Drop Data as necessary. Make a separate Basement as a category."
   ]
  },
  {
   "cell_type": "code",
   "execution_count": 4,
   "metadata": {},
   "outputs": [],
   "source": [
    "kc.Sqft_Basement.replace(to_replace = '?', \n",
    "                         value = np.nan, \n",
    "                         inplace = True)\n",
    "kc.Sqft_Basement = kc.Sqft_Basement.apply(pd.to_numeric)\n",
    "kc = kc[kc.Sqft_Basement.notnull()]\n",
    "kc = kc[kc.View.notnull()]\n",
    "kc.View = kc.View.where(kc.View <= 0, other = 1)\n",
    "kc['View'] = (kc.View > 0).astype('category')"
   ]
  },
  {
   "cell_type": "code",
   "execution_count": 5,
   "metadata": {},
   "outputs": [],
   "source": [
    "kc['Basement'] = (kc.Sqft_Basement>0).astype('category')"
   ]
  },
  {
   "cell_type": "code",
   "execution_count": 6,
   "metadata": {},
   "outputs": [],
   "source": [
    "kc.Date = pd.to_datetime(kc.Date)"
   ]
  },
  {
   "cell_type": "markdown",
   "metadata": {},
   "source": [
    "2. Change Waterfront and zipcode to categories if appropriate"
   ]
  },
  {
   "cell_type": "code",
   "execution_count": 7,
   "metadata": {},
   "outputs": [
    {
     "data": {
      "text/plain": [
       "dict_keys([0.0, 1.0])"
      ]
     },
     "execution_count": 7,
     "metadata": {},
     "output_type": "execute_result"
    }
   ],
   "source": [
    "waterfront_grouping = kc.groupby(by = 'Waterfront')\n",
    "waterfront_grouping.groups.keys()"
   ]
  },
  {
   "cell_type": "code",
   "execution_count": 8,
   "metadata": {},
   "outputs": [],
   "source": [
    "import seaborn as sns\n",
    "import matplotlib.pyplot as plt\n",
    "sns.set_style(style = 'dark')\n",
    "ax1 = waterfront_grouping.get_group(0).Price.plot.hist(density = True)\n",
    "waterfront_grouping.get_group(1).Price.plot.hist(density = True,\n",
    "                                            secondary_y = True,\n",
    "                                            alpha = 0.3,\n",
    "                                            ax = ax1)\n",
    "ax1.set_xlabel('Price');"
   ]
  },
  {
   "cell_type": "markdown",
   "metadata": {},
   "source": [
    "The distributions are clearly different in shape, so waterfront will be converted to a category."
   ]
  },
  {
   "cell_type": "code",
   "execution_count": 9,
   "metadata": {},
   "outputs": [],
   "source": [
    "kc.Waterfront.fillna(0.0,inplace = True) # Assume that a null listing means the house is not waterfront\n",
    "kc.Waterfront = (kc.Waterfront>0).astype('category')"
   ]
  },
  {
   "cell_type": "code",
   "execution_count": 10,
   "metadata": {},
   "outputs": [],
   "source": [
    "del waterfront_grouping # Clean up workspace"
   ]
  },
  {
   "cell_type": "code",
   "execution_count": 11,
   "metadata": {},
   "outputs": [
    {
     "data": {
      "image/png": "[encoded data removed]",
      "text/plain": [
       "<Figure size 216x360 with 1 Axes>"
      ]
     },
     "metadata": {
      "needs_background": "light"
     },
     "output_type": "display_data"
    }
   ],
   "source": [
    "kc.groupby('Zipcode').Price.median().plot.box(figsize = (3,5));"
   ]
  },
  {
   "cell_type": "markdown",
   "metadata": {},
   "source": [
    "The medians of the groups are too spread out to believe that zipcode might not have a significant impact on the final price of the house. It will be converted to a category."
   ]
  },
  {
   "cell_type": "code",
   "execution_count": 12,
   "metadata": {},
   "outputs": [],
   "source": [
    "kc.Zipcode = kc.Zipcode.astype('category')"
   ]
  },
  {
   "cell_type": "markdown",
   "metadata": {},
   "source": [
    "3. Changing Grade and Condition to categories."
   ]
  },
  {
   "cell_type": "code",
   "execution_count": 13,
   "metadata": {},
   "outputs": [
    {
     "data": {
      "image/png": "[encoded data removed]",
      "text/plain": [
       "<Figure size 864x288 with 2 Axes>"
      ]
     },
     "metadata": {
      "needs_background": "light"
     },
     "output_type": "display_data"
    }
   ],
   "source": [
    "fig, (ax1, ax2) = plt.subplots(nrows = 1, ncols = 2, figsize = (12,4))\n",
    "kc.groupby('Grade').Price.median().plot(ax = ax1, title = 'Price by Grade');\n",
    "kc.groupby('Condition').Price.median().plot(ax = ax2, title = 'Price by Condition')\n",
    "ax1.set_ylabel('Price')\n",
    "ax2.set_ylabel('Price')\n",
    "plt.show()"
   ]
  },
  {
   "cell_type": "markdown",
   "metadata": {},
   "source": [
    "Price as a function of Grade is easily approximated by a simple function, so the data will remain numerical. Price as a function of Condition is not easily approximated by a simple function, so it will be converted to a category."
   ]
  },
  {
   "cell_type": "code",
   "execution_count": 14,
   "metadata": {},
   "outputs": [],
   "source": [
    "kc.Condition = kc.Condition.astype('category')"
   ]
  },
  {
   "cell_type": "markdown",
   "metadata": {},
   "source": [
    "4.  Changing Yr_Renovated to Yrs_Since_Renovation is relatively straightforward. The complicated part is that many of the homes have a value of 0.0 for the year renovated, which is nonsensical. It would be good to investigate how many homes have a renovation date on record."
   ]
  },
  {
   "cell_type": "code",
   "execution_count": 15,
   "metadata": {
    "scrolled": false
   },
   "outputs": [
    {
     "data": {
      "text/plain": [
       "'The number of houses with documented renovations is 722'"
      ]
     },
     "execution_count": 15,
     "metadata": {},
     "output_type": "execute_result"
    }
   ],
   "source": [
    "num_unknown_rennovations = kc.Yr_Renovated.replace(to_replace = 0,\n",
    "                                                   value = np.nan).isna().sum()\n",
    "num_renovated = (len(kc) - num_unknown_rennovations)\n",
    "'The number of houses with documented renovations is {0:G}'.format(num_renovated)"
   ]
  },
  {
   "cell_type": "markdown",
   "metadata": {},
   "source": [
    "Since there are so few homes and so many features, I don't think it makes sense to treat this as a continuous variable for those homes that have been renovated."
   ]
  },
  {
   "cell_type": "code",
   "execution_count": 16,
   "metadata": {},
   "outputs": [],
   "source": [
    "kc.Yr_Renovated.fillna(0, inplace = True)\n",
    "kc['Renovated'] = kc.Yr_Renovated.where(kc.Yr_Renovated <= 0, other = 1)\n",
    "kc['Renovated'] = (kc.Renovated > 0).astype('category')\n",
    "kc.drop(labels = 'Yr_Renovated', axis = 1, inplace = True)"
   ]
  },
  {
   "cell_type": "markdown",
   "metadata": {},
   "source": [
    "5. Dealing with the date.\n",
    "\n",
    "My inclination here is that prices are higher in the summer months because demand is higher. I'll look at a 30 day rolling window to spot trends in the median price, and also resample the data by month to also look for trends."
   ]
  },
  {
   "cell_type": "code",
   "execution_count": 17,
   "metadata": {},
   "outputs": [
    {
     "data": {
      "image/png": "[encoded data removed]",
      "text/plain": [
       "<Figure size 864x288 with 2 Axes>"
      ]
     },
     "metadata": {
      "needs_background": "light"
     },
     "output_type": "display_data"
    },
    {
     "data": {
      "text/plain": [
       "'The maximum swing in adjusted price is 11.61%'"
      ]
     },
     "execution_count": 17,
     "metadata": {},
     "output_type": "execute_result"
    }
   ],
   "source": [
    "fig, (ax1, ax2) = plt.subplots(1, 2, figsize = (12,4))\n",
    "kc.groupby('Date').Price.median().rolling(30).median().plot(ax = ax1, title = 'Rolling Window')\n",
    "kc.reset_index().set_index(['Date']).resample('m').Price.median().plot(ax = ax2, title = 'Resampled Data')\n",
    "plt.show()\n",
    "\n",
    "# Calculate the maximum 'swing' in price as compared to the median\n",
    "price_adjustment = (kc.reset_index().set_index(['Date']).resample('m').Price.median() / kc.Price.median() - 1)*100\n",
    "max_swing = price_adjustment.max()-price_adjustment.min()\n",
    "'The maximum swing in adjusted price is {0:2.2f}%'.format(max_swing)"
   ]
  },
  {
   "cell_type": "markdown",
   "metadata": {},
   "source": [
    "The maximum swing on the median price is a hefty 11.61%! The model will have to account for the time of the year in order to be more accurate. The easiest way to do this will be to resample by month and then turn into a category. Complexity can be added to the model later by fitting a function to the date, instead of simply categorizing by month."
   ]
  },
  {
   "cell_type": "code",
   "execution_count": 18,
   "metadata": {},
   "outputs": [],
   "source": [
    "kc['Month'] = kc.Date.dt.month_name().astype('category')\n",
    "kc.drop('Date', axis = 1, inplace = True)"
   ]
  },
  {
   "cell_type": "markdown",
   "metadata": {},
   "source": [
    "6. Deciding what to do with lat and long values\n",
    "\n",
    "Here's a map of King County with zip-code boundaries:\n",
    "<img src=\"https://www.kingcounty.gov/~/media/operations/GIS/maps/vmc/images/zipcodes_westKC_586.ashx?la=en\" alt=\"An image of King County with zip-code boundaries\" title=\"King Country Zip Codes\" />\n",
    "<br><br><br>\n",
    "And, for comparison's sake, here's a map of Manhattan with zip-code boundaries:\n",
    "<img src=\"https://www.propertyshark.com/Real-Estate-Reports/wp-content/uploads/2012/10/infographic-zip-codes-3.png\" alt=\"An image of Manhattan with zip-code boundaries\" title=\"Manhattan Zip Codes\" />\n",
    "\n",
    "Zip code boundaries trace a mixture of natural boundaries and, I suspect, socioeconomic boundaries. This is corroborated by the Manhattan zipcodes, where neighborhoods are roughly approximated by zip codes (I live in NYC, so I'm more familiar with the neighborhoods here). Though zip codes are not a perfect stand-in for neighborhoods, they are adequate for a first pass at this model. If I have time, I will attend to making discrete quadrants that better capture pricing at the neighborhood level. \n"
   ]
  },
  {
   "cell_type": "code",
   "execution_count": 19,
   "metadata": {},
   "outputs": [],
   "source": [
    "kc.drop(labels = ['Lat', 'Long'], axis = 1, inplace = True)"
   ]
  },
  {
   "cell_type": "markdown",
   "metadata": {},
   "source": [
    "To finish up importing the data, I'll check the metadata again:"
   ]
  },
  {
   "cell_type": "code",
   "execution_count": 20,
   "metadata": {
    "scrolled": false
   },
   "outputs": [
    {
     "name": "stdout",
     "output_type": "stream",
     "text": [
      "<class 'pandas.core.frame.DataFrame'>\n",
      "Int64Index: 21082 entries, 7129300520 to 1523300157\n",
      "Data columns (total 19 columns):\n",
      "Price            21082 non-null float64\n",
      "Bedrooms         21082 non-null int64\n",
      "Bathrooms        21082 non-null float64\n",
      "Sqft_Living      21082 non-null int64\n",
      "Sqft_Lot         21082 non-null int64\n",
      "Floors           21082 non-null float64\n",
      "Waterfront       21082 non-null category\n",
      "View             21082 non-null category\n",
      "Condition        21082 non-null category\n",
      "Grade            21082 non-null int64\n",
      "Sqft_Above       21082 non-null int64\n",
      "Sqft_Basement    21082 non-null float64\n",
      "Yr_Built         21082 non-null int64\n",
      "Zipcode          21082 non-null category\n",
      "Sqft_Living15    21082 non-null int64\n",
      "Sqft_Lot15       21082 non-null int64\n",
      "Basement         21082 non-null category\n",
      "Renovated        21082 non-null category\n",
      "Month            21082 non-null category\n",
      "dtypes: category(7), float64(4), int64(8)\n",
      "memory usage: 2.2 MB\n"
     ]
    }
   ],
   "source": [
    "kc.info()"
   ]
  },
  {
   "cell_type": "markdown",
   "metadata": {},
   "source": [
    "That looks significantly better now. Some series' types could be changed to improve efficiency, but I'm not worried about it at this point since the dataframe is small."
   ]
  },
  {
   "cell_type": "markdown",
   "metadata": {},
   "source": [
    "## Exploring Data\n",
    "\n",
    "First I'll look at violin plots of Price for the predictors that have categorical values. Then I'll look at distributions for continuous predictors. Before I go much further, I'll look for correlations between the continuous predictors and make some decisions about what data to drop. Finally, I'll look at scatter plots of Price vs continous predictors. In order to make this less repetitive, I'll use ipywidgets to create interactive displays. I'll dive deeper once this initial exploration is done."
   ]
  },
  {
   "cell_type": "code",
   "execution_count": 21,
   "metadata": {
    "scrolled": false
   },
   "outputs": [],
   "source": [
    "import ipywidgets as widgets\n",
    "from ipywidgets import interact, interact_manual"
   ]
  },
  {
   "cell_type": "markdown",
   "metadata": {},
   "source": [
    "### 1.  Violin plots"
   ]
  },
  {
   "cell_type": "code",
   "execution_count": 22,
   "metadata": {},
   "outputs": [],
   "source": [
    "hue_list = list(kc.select_dtypes('category').columns)\n",
    "hue_list.append('None')"
   ]
  },
  {
   "cell_type": "code",
   "execution_count": 23,
   "metadata": {},
   "outputs": [
    {
     "data": {
      "application/vnd.jupyter.widget-view+json": {
       "model_id": "6513014c581b4841a78211ad740c3632",
       "version_major": 2,
       "version_minor": 0
      },
      "text/plain": [
       "interactive(children=(Dropdown(description='x', options=('Waterfront', 'View', 'Condition', 'Zipcode', 'Baseme…"
      ]
     },
     "metadata": {},
     "output_type": "display_data"
    }
   ],
   "source": [
    "@interact\n",
    "def violin_plot(x=list(kc.select_dtypes('category').columns), \n",
    "                yscale = ['log', 'linear'],\n",
    "                hue = hue_list):\n",
    "    \n",
    "    fig, ax = plt.subplots(1,1,figsize = (12,8))\n",
    "    if (hue != 'None') & (hue != x):\n",
    "        title = \"Price vs. \" + x + \" sorted by \" + hue\n",
    "        hue = kc[hue]\n",
    "    else:\n",
    "        hue = None\n",
    "        title = \"Price vs. \" + x\n",
    "    \n",
    "    \n",
    "    sns.violinplot(x = kc[x], \n",
    "                   y = kc.Price, \n",
    "                   cut = 0,\n",
    "                   scale = 'area',\n",
    "                   inner = 'box',\n",
    "                   hue = hue,\n",
    "                   ax = ax,\n",
    "                   )\n",
    "    plt.yscale(yscale)\n",
    "    plt.title(title)\n"
   ]
  },
  {
   "cell_type": "markdown",
   "metadata": {},
   "source": [
    "### 2.  Histograms of continuous variables"
   ]
  },
  {
   "cell_type": "code",
   "execution_count": 24,
   "metadata": {},
   "outputs": [
    {
     "data": {
      "application/vnd.jupyter.widget-view+json": {
       "model_id": "189db5821c8e429daf66acd5e50f9791",
       "version_major": 2,
       "version_minor": 0
      },
      "text/plain": [
       "interactive(children=(Dropdown(description='data', options=('Price', 'Bedrooms', 'Bathrooms', 'Sqft_Living', '…"
      ]
     },
     "metadata": {},
     "output_type": "display_data"
    }
   ],
   "source": [
    "@interact\n",
    "def hist_plot(data = list(kc.select_dtypes(include = [np.number]).columns),\n",
    "             log_data = [True, False]):\n",
    "    \n",
    "    fig, ax = plt.subplots(1,1,figsize = (12,8))\n",
    "    title = \"Distribution of \" + data\n",
    "    \n",
    "    if log_data:\n",
    "        data = kc[data].replace(0,0.1)\n",
    "        data = data.apply(np.log10)\n",
    "    else:\n",
    "        data = kc[data]\n",
    "    sns.distplot(data,\n",
    "                 ax = ax)\n",
    "    plt.title(title)\n",
    "    plt.show()"
   ]
  },
  {
   "cell_type": "markdown",
   "metadata": {},
   "source": [
    "### 3.  Correlation matrix"
   ]
  },
  {
   "cell_type": "code",
   "execution_count": 25,
   "metadata": {
    "scrolled": false
   },
   "outputs": [
    {
     "data": {
      "image/png": "[encoded data removed]",
      "text/plain": [
       "<Figure size 792x648 with 2 Axes>"
      ]
     },
     "metadata": {},
     "output_type": "display_data"
    }
   ],
   "source": [
    "predictors = kc.drop(labels = 'Price', axis = 1)\n",
    "sns.set_style('white')\n",
    "corr = predictors.corr()\n",
    "mask = np.zeros_like(corr, dtype=np.bool)\n",
    "mask[np.triu_indices_from(mask)] = True\n",
    "f, ax = plt.subplots(figsize=(11, 9))\n",
    "cmap = sns.diverging_palette(220, 10, as_cmap=True)\n",
    "sns.heatmap(corr, mask=mask, cmap=cmap, vmax=.5, vmin = -0.5, center=0,\n",
    "            square=True, linewidths=.5, cbar_kws={\"shrink\": .5}, annot = True)\n",
    "plt.show()\n",
    "sns.set_style()"
   ]
  },
  {
   "cell_type": "markdown",
   "metadata": {},
   "source": [
    "The correlation matrix shows that many of these variables correlate with each other. I suppose I'm not surprised by this. After all, a more expensive house tends to have more bedrooms, bathrooms, space, and floors. Additionally, it is likely to have a higher grade and be newer. So, those things tend to go together and intuitively they will be correlated.\n",
    "\n",
    "From the description of the columns, I don't think that we need to keep all three of: Sqft_living, Sqft_Above, and Sqft_Basement. Sqft_Above indicates the area of the house above the basement. It is likely that the sum of the area above the basement and the basement area is almost always the \"living area\". I'll check this assumption quickly. If this mostly holds true, then I'll drop \"living area\", if not then I'll drop \"above\"."
   ]
  },
  {
   "cell_type": "code",
   "execution_count": 26,
   "metadata": {},
   "outputs": [
    {
     "name": "stdout",
     "output_type": "stream",
     "text": [
      "21082\n",
      "21082\n"
     ]
    }
   ],
   "source": [
    "print(((kc.Sqft_Above+kc.Sqft_Basement)==kc.Sqft_Living).sum()) #This is the number of houses whose area above and below matches total area\n",
    "print(len(kc.Price))"
   ]
  },
  {
   "cell_type": "markdown",
   "metadata": {},
   "source": [
    "How wonderful! It's a perfect match, so I'll drop Sqft_Living since it's accounted for in the sum of basement and above area."
   ]
  },
  {
   "cell_type": "code",
   "execution_count": 27,
   "metadata": {},
   "outputs": [],
   "source": [
    "kc.drop('Sqft_Living', axis = 1, inplace = True)"
   ]
  },
  {
   "cell_type": "code",
   "execution_count": 28,
   "metadata": {},
   "outputs": [],
   "source": [
    "predictors.drop('Sqft_Living', axis = 1, inplace = True)"
   ]
  },
  {
   "cell_type": "markdown",
   "metadata": {},
   "source": [
    "Now I'll look at predictors that measure the difference between the house itself and the houses of neighbors. The interesting thing to look at here, I think, is the houses that are NOT like their neighbors. I imagine that this is where differences arise, so it might be best to create new categories for these comparators that determines if the neighbors are bigger, smaller, or the same. To do this, I'll look at the differences between the house itself and its neighbors for each of these categories.\n",
    "\n",
    "#### 3.1 Analyzing data of neighbors"
   ]
  },
  {
   "cell_type": "code",
   "execution_count": 29,
   "metadata": {},
   "outputs": [],
   "source": [
    "neighbors_data = pd.DataFrame()\n",
    "neighbors_data['Lot_Difference'] = (predictors.Sqft_Lot - predictors.Sqft_Lot15)/predictors.Sqft_Lot15\n",
    "neighbors_data['Living_Difference'] = (predictors.Sqft_Above + predictors.Sqft_Basement - predictors.Sqft_Living15)/predictors.Sqft_Living15"
   ]
  },
  {
   "cell_type": "code",
   "execution_count": 30,
   "metadata": {
    "scrolled": true
   },
   "outputs": [
    {
     "data": {
      "text/html": [
       "<div>\n",
       "<style scoped>\n",
       "    .dataframe tbody tr th:only-of-type {\n",
       "        vertical-align: middle;\n",
       "    }\n",
       "\n",
       "    .dataframe tbody tr th {\n",
       "        vertical-align: top;\n",
       "    }\n",
       "\n",
       "    .dataframe thead th {\n",
       "        text-align: right;\n",
       "    }\n",
       "</style>\n",
       "<table border=\"1\" class=\"dataframe\">\n",
       "  <thead>\n",
       "    <tr style=\"text-align: right;\">\n",
       "      <th></th>\n",
       "      <th>Lot_Difference</th>\n",
       "      <th>Living_Difference</th>\n",
       "    </tr>\n",
       "  </thead>\n",
       "  <tbody>\n",
       "    <tr>\n",
       "      <th>count</th>\n",
       "      <td>21082.000000</td>\n",
       "      <td>21082.000000</td>\n",
       "    </tr>\n",
       "    <tr>\n",
       "      <th>mean</th>\n",
       "      <td>0.134625</td>\n",
       "      <td>0.053131</td>\n",
       "    </tr>\n",
       "    <tr>\n",
       "      <th>std</th>\n",
       "      <td>1.293384</td>\n",
       "      <td>0.320548</td>\n",
       "    </tr>\n",
       "    <tr>\n",
       "      <th>min</th>\n",
       "      <td>-0.945028</td>\n",
       "      <td>-0.812721</td>\n",
       "    </tr>\n",
       "    <tr>\n",
       "      <th>25%</th>\n",
       "      <td>-0.063226</td>\n",
       "      <td>-0.118881</td>\n",
       "    </tr>\n",
       "    <tr>\n",
       "      <th>50%</th>\n",
       "      <td>0.000000</td>\n",
       "      <td>0.000000</td>\n",
       "    </tr>\n",
       "    <tr>\n",
       "      <th>75%</th>\n",
       "      <td>0.093809</td>\n",
       "      <td>0.161033</td>\n",
       "    </tr>\n",
       "    <tr>\n",
       "      <th>max</th>\n",
       "      <td>86.527179</td>\n",
       "      <td>5.000000</td>\n",
       "    </tr>\n",
       "  </tbody>\n",
       "</table>\n",
       "</div>"
      ],
      "text/plain": [
       "       Lot_Difference  Living_Difference\n",
       "count    21082.000000       21082.000000\n",
       "mean         0.134625           0.053131\n",
       "std          1.293384           0.320548\n",
       "min         -0.945028          -0.812721\n",
       "25%         -0.063226          -0.118881\n",
       "50%          0.000000           0.000000\n",
       "75%          0.093809           0.161033\n",
       "max         86.527179           5.000000"
      ]
     },
     "execution_count": 30,
     "metadata": {},
     "output_type": "execute_result"
    }
   ],
   "source": [
    "neighbors_data.describe()"
   ]
  },
  {
   "cell_type": "markdown",
   "metadata": {},
   "source": [
    "The descriptive data alone tells us that there are outliers in the data. I'll look at histograms to determine the cutoffs for outliers."
   ]
  },
  {
   "cell_type": "code",
   "execution_count": 31,
   "metadata": {
    "scrolled": false
   },
   "outputs": [
    {
     "data": {
      "application/vnd.jupyter.widget-view+json": {
       "model_id": "698bad62f7cf4535b2b98dfb6c1d03d3",
       "version_major": 2,
       "version_minor": 0
      },
      "text/plain": [
       "interactive(children=(FloatSlider(value=-0.25, description='low_lot', max=0.0, min=-0.5, step=0.01), FloatSlid…"
      ]
     },
     "metadata": {},
     "output_type": "display_data"
    }
   ],
   "source": [
    "@interact\n",
    "def lot_difference(\n",
    "              low_lot = (-0.5,0,0.01),\n",
    "              high_lot = (0,0.5,0.01),\n",
    "              low_living = (-0.5,0,0.01),\n",
    "              high_living = (0,0.5,0.01)):\n",
    "    \n",
    "    fig, (ax1, ax2) = plt.subplots(1,2,figsize = (16,9))\n",
    "    \n",
    "    title = \"Distribution of Lot Difference\"\n",
    "    data = neighbors_data.Lot_Difference\n",
    "    #lower_bound = data.quantile(low_lot)\n",
    "    #upper_bound = data.quantile(high_lot)\n",
    "    data = data[(data > low_lot) & (data < high_lot)]\n",
    "    sns.distplot(data, ax = ax1)\n",
    "    std_text = 'std: {:1.3f}'.format(data.std())\n",
    "    ax1.text(0.5, \n",
    "             0.8, \n",
    "             std_text, \n",
    "             horizontalalignment='left',\n",
    "             verticalalignment='top',\n",
    "             fontsize = 16,\n",
    "             transform=ax.transAxes)\n",
    "    ax1.set_title('Scaled Lot Area Difference')\n",
    "    \n",
    "    title = \"Distribution of Living Difference\"\n",
    "    data = neighbors_data.Living_Difference\n",
    "    #lower_bound = data.quantile(low_living)\n",
    "    #upper_bound = data.quantile(high_living)\n",
    "    data = data[(data > low_living) & (data < high_living)]\n",
    "    sns.distplot(data, ax = ax2)\n",
    "    std_text = 'std: {:1.3f}'.format(data.std())\n",
    "    ax2.text(1.5, \n",
    "             0.8, \n",
    "             std_text, \n",
    "             horizontalalignment='left',\n",
    "             verticalalignment='top',\n",
    "             fontsize = 16,\n",
    "             transform=ax.transAxes)\n",
    "    ax2.set_title('Scaled Living Area Difference')\n",
    "    plt.show()"
   ]
  },
  {
   "cell_type": "markdown",
   "metadata": {},
   "source": [
    "The values center at 0, which makes sense because of the way that house lots and houses are constructed. Given this, it makes sense to define an intuitive value for which someone would pay more or less money. I'll assume that at ±10% of the size of the neighbors, the value of the house in question is likely to be significantly different than the the market vaulue of houses that are similar in size. That being said, I'll make categories that define houses that are above and below the regional value. Just to check my assumption, I'll look at the fraction of houses that are withing ±10% of 0 on the next line."
   ]
  },
  {
   "cell_type": "code",
   "execution_count": 32,
   "metadata": {
    "scrolled": true
   },
   "outputs": [
    {
     "name": "stdout",
     "output_type": "stream",
     "text": [
      "40.94962527274452\n",
      "55.61142206621763\n"
     ]
    }
   ],
   "source": [
    "print(((neighbors_data.Living_Difference > -0.10) & (neighbors_data.Living_Difference < 0.10)).sum()/len(neighbors_data.Living_Difference)*100)\n",
    "print(((neighbors_data.Lot_Difference > -0.10) & (neighbors_data.Lot_Difference < 0.10)).sum()/len(neighbors_data.Lot_Difference)*100)"
   ]
  },
  {
   "cell_type": "markdown",
   "metadata": {},
   "source": [
    "±10% of a difference between sizes in living space and lot size account for 41% and 56% of the data, respectively. I think that enough of the data is represented in all the categories, and intuitively ±10% of a difference in size would likely make a difference for the average consumer. I'll make categories for the values that are above and below this cutoff."
   ]
  },
  {
   "cell_type": "code",
   "execution_count": 33,
   "metadata": {},
   "outputs": [],
   "source": [
    "neighbors_data['Living_Over10'] = (neighbors_data.Living_Difference > 0.10).astype('category')\n",
    "neighbors_data['Living_Under10'] = (neighbors_data.Living_Difference < -.10).astype('category')\n",
    "neighbors_data['Lot_Over10'] = (neighbors_data.Lot_Difference > 0.10).astype('category')\n",
    "neighbors_data['Lot_Under10'] = (neighbors_data.Lot_Difference < -0.10).astype('category')"
   ]
  },
  {
   "cell_type": "code",
   "execution_count": 34,
   "metadata": {},
   "outputs": [],
   "source": [
    "kc['Living_Over10'] = neighbors_data.Living_Over10\n",
    "kc['Living_Under10'] = neighbors_data.Living_Under10\n",
    "kc['Lot_Over10'] = neighbors_data.Lot_Over10\n",
    "kc['Lot_Under10'] = neighbors_data.Lot_Under10\n",
    "kc.drop(labels = ['Sqft_Living15', 'Sqft_Lot15'], axis = 1, inplace = True)"
   ]
  },
  {
   "cell_type": "markdown",
   "metadata": {},
   "source": [
    "Now I'll look at those new categories to see if there is a marked difference."
   ]
  },
  {
   "cell_type": "code",
   "execution_count": 35,
   "metadata": {
    "scrolled": false
   },
   "outputs": [
    {
     "data": {
      "application/vnd.jupyter.widget-view+json": {
       "model_id": "229517e896fa46209ca49a46e53db849",
       "version_major": 2,
       "version_minor": 0
      },
      "text/plain": [
       "interactive(children=(Dropdown(description='x', options=('Living_Under10', 'Living_Over10', 'Lot_Under10', 'Lo…"
      ]
     },
     "metadata": {},
     "output_type": "display_data"
    }
   ],
   "source": [
    "@interact\n",
    "def violin_plot(x=['Living_Under10', 'Living_Over10', 'Lot_Under10', 'Lot_Over10'], \n",
    "                yscale = ['log', 'linear'],\n",
    "                hue = ['None', 'Living_Under10', 'Living_Over10', 'Lot_Under10', 'Lot_Over10']):\n",
    "    \n",
    "    fig, ax = plt.subplots(1,1,figsize = (12,8))\n",
    "    if (hue != 'None') & (hue != x):\n",
    "        title = \"Price vs. \" + x + \" sorted by \" + hue\n",
    "        hue = kc[hue]\n",
    "    else:\n",
    "        hue = None\n",
    "        title = \"Price vs. \" + x\n",
    "    \n",
    "    \n",
    "    sns.violinplot(x = kc[x], \n",
    "                   y = kc.Price, \n",
    "                   cut = 0,\n",
    "                   scale = 'area',\n",
    "                   inner = 'box',\n",
    "                   hue = hue,\n",
    "                   ax = ax,\n",
    "                   )\n",
    "    plt.yscale(yscale)\n",
    "    plt.title(title)"
   ]
  },
  {
   "cell_type": "markdown",
   "metadata": {},
   "source": [
    "It is clear that there is a difference in the price when looking at these factors together."
   ]
  },
  {
   "cell_type": "code",
   "execution_count": 37,
   "metadata": {},
   "outputs": [
    {
     "data": {
      "application/vnd.jupyter.widget-view+json": {
       "model_id": "32f990424bad4c24950c20378ec3bab1",
       "version_major": 2,
       "version_minor": 0
      },
      "text/plain": [
       "interactive(children=(Dropdown(description='x', options=('Price', 'Bedrooms', 'Bathrooms', 'Sqft_Lot', 'Floors…"
      ]
     },
     "metadata": {},
     "output_type": "display_data"
    }
   ],
   "source": [
    "@interact\n",
    "def scatter_plot(x = list(kc.select_dtypes(include = [np.number]).columns),\n",
    "               log_x = [False, True],\n",
    "               log_y = [False, True],\n",
    "               hue = ['None', 'Waterfront', 'View', 'Basement', 'Renovated']):\n",
    "    \n",
    "    title = 'Price vs. ' + x\n",
    "    fig, ax = plt.subplots(1,1,figsize = (12,8))\n",
    "    if log_x:\n",
    "        x = kc[x].replace(0,0.1)\n",
    "        x = x.apply(np.log10)\n",
    "    else:\n",
    "        x = kc[x]\n",
    "        \n",
    "    if log_y:\n",
    "        y = kc.Price.replace(0,0.1)\n",
    "        y = y.apply(np.log10)\n",
    "    else:\n",
    "        y = kc.Price\n",
    "        \n",
    "    if (hue != 'None'):\n",
    "        hue = kc[hue]\n",
    "    else:\n",
    "        hue = None\n",
    "    \n",
    "    sns.scatterplot(x = x, y = y, hue = hue, ax=ax)\n",
    "    plt.title(title)\n",
    "    plt.show()"
   ]
  },
  {
   "cell_type": "code",
   "execution_count": 40,
   "metadata": {},
   "outputs": [
    {
     "data": {
      "text/plain": [
       "Price            1.000000\n",
       "Grade            0.668099\n",
       "Sqft_Above       0.605481\n",
       "Bathrooms        0.525029\n",
       "Sqft_Basement    0.323018\n",
       "Bedrooms         0.308454\n",
       "Floors           0.256603\n",
       "Sqft_Lot         0.088400\n",
       "Yr_Built         0.054849\n",
       "Name: Price, dtype: float64"
      ]
     },
     "execution_count": 40,
     "metadata": {},
     "output_type": "execute_result"
    }
   ],
   "source": [
    "kc.corr().Price.sort_values(ascending = False)"
   ]
  },
  {
   "cell_type": "markdown",
   "metadata": {},
   "source": [
    "Yr_Built and Sqft_Lot are not well correlated, so they will be dropped from the dataframe. Floors are also not well correlated and it is more highly correlated with Sqft_above, so that will be dropped too. The remaining continuous features can be sorted by RFE."
   ]
  },
  {
   "cell_type": "code",
   "execution_count": 42,
   "metadata": {},
   "outputs": [],
   "source": [
    "kc.drop(labels = ['Yr_Built', 'Sqft_Lot','Floors'], axis = 1, inplace = True)"
   ]
  },
  {
   "cell_type": "code",
   "execution_count": 43,
   "metadata": {},
   "outputs": [
    {
     "data": {
      "image/png": "[encoded data removed]",
      "text/plain": [
       "<Figure size 792x648 with 2 Axes>"
      ]
     },
     "metadata": {},
     "output_type": "display_data"
    }
   ],
   "source": [
    "predictors = kc.drop(labels = 'Price', axis = 1)\n",
    "sns.set_style('white')\n",
    "corr = predictors.corr()\n",
    "mask = np.zeros_like(corr, dtype=np.bool)\n",
    "mask[np.triu_indices_from(mask)] = True\n",
    "f, ax = plt.subplots(figsize=(11, 9))\n",
    "cmap = sns.diverging_palette(220, 10, as_cmap=True)\n",
    "sns.heatmap(corr, mask=mask, cmap=cmap, vmax=.5, vmin = -0.5, center=0,\n",
    "            square=True, linewidths=.5, cbar_kws={\"shrink\": .5}, annot = True)\n",
    "plt.show()\n",
    "sns.set_style()"
   ]
  },
  {
   "cell_type": "code",
   "execution_count": null,
   "metadata": {},
   "outputs": [],
   "source": []
  }
 ],
 "metadata": {
  "kernelspec": {
   "display_name": "learn-env",
   "language": "python",
   "name": "learn-env"
  },
  "language_info": {
   "codemirror_mode": {
    "name": "ipython",
    "version": 3
   },
   "file_extension": ".py",
   "mimetype": "text/x-python",
   "name": "python",
   "nbconvert_exporter": "python",
   "pygments_lexer": "ipython3",
   "version": "3.6.6"
  }
 },
 "nbformat": 4,
 "nbformat_minor": 2
}
