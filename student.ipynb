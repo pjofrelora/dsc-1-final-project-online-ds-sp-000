{
 "cells": [
  {
   "cell_type": "markdown",
   "metadata": {},
   "source": [
    "## Final Project Submission\n",
    "\n",
    "Please fill out:\n",
    "* Student name: Pedro Jofre Lora\n",
    "* Student pace: self paced\n",
    "* Scheduled project review date/time: \n",
    "* Instructor name: Eli Thomas\n",
    "* Blog post URL:\n"
   ]
  },
  {
   "cell_type": "markdown",
   "metadata": {},
   "source": [
    "# Modeling King County Housing Prices Using MLR Supported with Cross-Validated RFE.\n",
    "### Table of Contents\n",
    "1. [Introduction](#1) <br>\n",
    "2. [Importing and Cleaning Data](#2) <br>\n",
    "3. [Exploring and Modifying Data](#3) <br>\n",
    "4. [Modeling Data](#4) <br>\n",
    "5. [Interpreting Data](#5)"
   ]
  },
  {
   "cell_type": "markdown",
   "metadata": {},
   "source": [
    "<a id=\"1\"></a>\n",
    "## 1. Introduction\n",
    "This is the introduction where you explain the relevant information given the question that was asked. "
   ]
  },
  {
   "cell_type": "markdown",
   "metadata": {},
   "source": [
    "<a id=\"2\"></a>\n",
    "## 2. Importing and cleaning data (Obtain and Scrub)\n",
    "### 2.1 Importing Data"
   ]
  },
  {
   "cell_type": "code",
   "execution_count": 1,
   "metadata": {},
   "outputs": [
    {
     "name": "stdout",
     "output_type": "stream",
     "text": [
      "<class 'pandas.core.frame.DataFrame'>\n",
      "Int64Index: 21597 entries, 7129300520 to 1523300157\n",
      "Data columns (total 20 columns):\n",
      "Date             21597 non-null object\n",
      "Price            21597 non-null float64\n",
      "Bedrooms         21597 non-null int64\n",
      "Bathrooms        21597 non-null float64\n",
      "Sqft_Living      21597 non-null int64\n",
      "Sqft_Lot         21597 non-null int64\n",
      "Floors           21597 non-null float64\n",
      "Waterfront       19221 non-null float64\n",
      "View             21534 non-null float64\n",
      "Condition        21597 non-null int64\n",
      "Grade            21597 non-null int64\n",
      "Sqft_Above       21597 non-null int64\n",
      "Sqft_Basement    21597 non-null object\n",
      "Yr_Built         21597 non-null int64\n",
      "Yr_Renovated     17755 non-null float64\n",
      "Zipcode          21597 non-null int64\n",
      "Lat              21597 non-null float64\n",
      "Long             21597 non-null float64\n",
      "Sqft_Living15    21597 non-null int64\n",
      "Sqft_Lot15       21597 non-null int64\n",
      "dtypes: float64(8), int64(10), object(2)\n",
      "memory usage: 3.5+ MB\n"
     ]
    }
   ],
   "source": [
    "import pandas as pd\n",
    "import numpy as np\n",
    "import warnings\n",
    "warnings.simplefilter('ignore')\n",
    "\n",
    "# Import the data\n",
    "kc = pd.read_csv('kc_house_data.csv', index_col = 'id')\n",
    "kc.columns = [col_name.title() for col_name in list(kc.columns)]\n",
    "kc.info()"
   ]
  },
  {
   "cell_type": "code",
   "execution_count": 2,
   "metadata": {},
   "outputs": [
    {
     "data": {
      "text/html": [
       "<div>\n",
       "<style scoped>\n",
       "    .dataframe tbody tr th:only-of-type {\n",
       "        vertical-align: middle;\n",
       "    }\n",
       "\n",
       "    .dataframe tbody tr th {\n",
       "        vertical-align: top;\n",
       "    }\n",
       "\n",
       "    .dataframe thead th {\n",
       "        text-align: right;\n",
       "    }\n",
       "</style>\n",
       "<table border=\"1\" class=\"dataframe\">\n",
       "  <thead>\n",
       "    <tr style=\"text-align: right;\">\n",
       "      <th></th>\n",
       "      <th>Waterfront</th>\n",
       "      <th>Condition</th>\n",
       "      <th>View</th>\n",
       "      <th>Floors</th>\n",
       "      <th>Grade</th>\n",
       "      <th>Bedrooms</th>\n",
       "      <th>Bathrooms</th>\n",
       "      <th>Zipcode</th>\n",
       "      <th>Yr_Renovated</th>\n",
       "      <th>Yr_Built</th>\n",
       "      <th>Sqft_Basement</th>\n",
       "      <th>Date</th>\n",
       "      <th>Long</th>\n",
       "      <th>Sqft_Living15</th>\n",
       "      <th>Sqft_Above</th>\n",
       "      <th>Sqft_Living</th>\n",
       "      <th>Price</th>\n",
       "      <th>Lat</th>\n",
       "      <th>Sqft_Lot15</th>\n",
       "      <th>Sqft_Lot</th>\n",
       "    </tr>\n",
       "  </thead>\n",
       "  <tbody>\n",
       "    <tr>\n",
       "      <th>Counts</th>\n",
       "      <td>2</td>\n",
       "      <td>5</td>\n",
       "      <td>5</td>\n",
       "      <td>6</td>\n",
       "      <td>11</td>\n",
       "      <td>12</td>\n",
       "      <td>29</td>\n",
       "      <td>70</td>\n",
       "      <td>70</td>\n",
       "      <td>116</td>\n",
       "      <td>304</td>\n",
       "      <td>372</td>\n",
       "      <td>751</td>\n",
       "      <td>777</td>\n",
       "      <td>942</td>\n",
       "      <td>1034</td>\n",
       "      <td>3622</td>\n",
       "      <td>5033</td>\n",
       "      <td>8682</td>\n",
       "      <td>9776</td>\n",
       "    </tr>\n",
       "  </tbody>\n",
       "</table>\n",
       "</div>"
      ],
      "text/plain": [
       "        Waterfront  Condition  View  Floors  Grade  Bedrooms  Bathrooms  \\\n",
       "Counts           2          5     5       6     11        12         29   \n",
       "\n",
       "        Zipcode  Yr_Renovated  Yr_Built  Sqft_Basement  Date  Long  \\\n",
       "Counts       70            70       116            304   372   751   \n",
       "\n",
       "        Sqft_Living15  Sqft_Above  Sqft_Living  Price   Lat  Sqft_Lot15  \\\n",
       "Counts            777         942         1034   3622  5033        8682   \n",
       "\n",
       "        Sqft_Lot  \n",
       "Counts      9776  "
      ]
     },
     "execution_count": 2,
     "metadata": {},
     "output_type": "execute_result"
    }
   ],
   "source": [
    "pd.DataFrame(\n",
    "    data = kc.nunique().sort_values(), \n",
    "    columns = ['Counts']\n",
    "    ).transpose()"
   ]
  },
  {
   "cell_type": "code",
   "execution_count": 3,
   "metadata": {
    "scrolled": true
   },
   "outputs": [
    {
     "data": {
      "text/html": [
       "<div>\n",
       "<style scoped>\n",
       "    .dataframe tbody tr th:only-of-type {\n",
       "        vertical-align: middle;\n",
       "    }\n",
       "\n",
       "    .dataframe tbody tr th {\n",
       "        vertical-align: top;\n",
       "    }\n",
       "\n",
       "    .dataframe thead th {\n",
       "        text-align: right;\n",
       "    }\n",
       "</style>\n",
       "<table border=\"1\" class=\"dataframe\">\n",
       "  <thead>\n",
       "    <tr style=\"text-align: right;\">\n",
       "      <th></th>\n",
       "      <th>Price</th>\n",
       "      <th>Bedrooms</th>\n",
       "      <th>Bathrooms</th>\n",
       "      <th>Sqft_Living</th>\n",
       "      <th>Sqft_Lot</th>\n",
       "      <th>Floors</th>\n",
       "      <th>Waterfront</th>\n",
       "      <th>View</th>\n",
       "      <th>Condition</th>\n",
       "      <th>Grade</th>\n",
       "      <th>Sqft_Above</th>\n",
       "      <th>Yr_Built</th>\n",
       "      <th>Yr_Renovated</th>\n",
       "      <th>Zipcode</th>\n",
       "      <th>Lat</th>\n",
       "      <th>Long</th>\n",
       "      <th>Sqft_Living15</th>\n",
       "      <th>Sqft_Lot15</th>\n",
       "    </tr>\n",
       "  </thead>\n",
       "  <tbody>\n",
       "    <tr>\n",
       "      <th>count</th>\n",
       "      <td>2.159700e+04</td>\n",
       "      <td>21597.000000</td>\n",
       "      <td>21597.000000</td>\n",
       "      <td>21597.000000</td>\n",
       "      <td>2.159700e+04</td>\n",
       "      <td>21597.000000</td>\n",
       "      <td>19221.000000</td>\n",
       "      <td>21534.000000</td>\n",
       "      <td>21597.000000</td>\n",
       "      <td>21597.000000</td>\n",
       "      <td>21597.000000</td>\n",
       "      <td>21597.000000</td>\n",
       "      <td>17755.000000</td>\n",
       "      <td>21597.000000</td>\n",
       "      <td>21597.000000</td>\n",
       "      <td>21597.000000</td>\n",
       "      <td>21597.000000</td>\n",
       "      <td>21597.000000</td>\n",
       "    </tr>\n",
       "    <tr>\n",
       "      <th>mean</th>\n",
       "      <td>5.402966e+05</td>\n",
       "      <td>3.373200</td>\n",
       "      <td>2.115826</td>\n",
       "      <td>2080.321850</td>\n",
       "      <td>1.509941e+04</td>\n",
       "      <td>1.494096</td>\n",
       "      <td>0.007596</td>\n",
       "      <td>0.233863</td>\n",
       "      <td>3.409825</td>\n",
       "      <td>7.657915</td>\n",
       "      <td>1788.596842</td>\n",
       "      <td>1970.999676</td>\n",
       "      <td>83.636778</td>\n",
       "      <td>98077.951845</td>\n",
       "      <td>47.560093</td>\n",
       "      <td>-122.213982</td>\n",
       "      <td>1986.620318</td>\n",
       "      <td>12758.283512</td>\n",
       "    </tr>\n",
       "    <tr>\n",
       "      <th>std</th>\n",
       "      <td>3.673681e+05</td>\n",
       "      <td>0.926299</td>\n",
       "      <td>0.768984</td>\n",
       "      <td>918.106125</td>\n",
       "      <td>4.141264e+04</td>\n",
       "      <td>0.539683</td>\n",
       "      <td>0.086825</td>\n",
       "      <td>0.765686</td>\n",
       "      <td>0.650546</td>\n",
       "      <td>1.173200</td>\n",
       "      <td>827.759761</td>\n",
       "      <td>29.375234</td>\n",
       "      <td>399.946414</td>\n",
       "      <td>53.513072</td>\n",
       "      <td>0.138552</td>\n",
       "      <td>0.140724</td>\n",
       "      <td>685.230472</td>\n",
       "      <td>27274.441950</td>\n",
       "    </tr>\n",
       "    <tr>\n",
       "      <th>min</th>\n",
       "      <td>7.800000e+04</td>\n",
       "      <td>1.000000</td>\n",
       "      <td>0.500000</td>\n",
       "      <td>370.000000</td>\n",
       "      <td>5.200000e+02</td>\n",
       "      <td>1.000000</td>\n",
       "      <td>0.000000</td>\n",
       "      <td>0.000000</td>\n",
       "      <td>1.000000</td>\n",
       "      <td>3.000000</td>\n",
       "      <td>370.000000</td>\n",
       "      <td>1900.000000</td>\n",
       "      <td>0.000000</td>\n",
       "      <td>98001.000000</td>\n",
       "      <td>47.155900</td>\n",
       "      <td>-122.519000</td>\n",
       "      <td>399.000000</td>\n",
       "      <td>651.000000</td>\n",
       "    </tr>\n",
       "    <tr>\n",
       "      <th>25%</th>\n",
       "      <td>3.220000e+05</td>\n",
       "      <td>3.000000</td>\n",
       "      <td>1.750000</td>\n",
       "      <td>1430.000000</td>\n",
       "      <td>5.040000e+03</td>\n",
       "      <td>1.000000</td>\n",
       "      <td>0.000000</td>\n",
       "      <td>0.000000</td>\n",
       "      <td>3.000000</td>\n",
       "      <td>7.000000</td>\n",
       "      <td>1190.000000</td>\n",
       "      <td>1951.000000</td>\n",
       "      <td>0.000000</td>\n",
       "      <td>98033.000000</td>\n",
       "      <td>47.471100</td>\n",
       "      <td>-122.328000</td>\n",
       "      <td>1490.000000</td>\n",
       "      <td>5100.000000</td>\n",
       "    </tr>\n",
       "    <tr>\n",
       "      <th>50%</th>\n",
       "      <td>4.500000e+05</td>\n",
       "      <td>3.000000</td>\n",
       "      <td>2.250000</td>\n",
       "      <td>1910.000000</td>\n",
       "      <td>7.618000e+03</td>\n",
       "      <td>1.500000</td>\n",
       "      <td>0.000000</td>\n",
       "      <td>0.000000</td>\n",
       "      <td>3.000000</td>\n",
       "      <td>7.000000</td>\n",
       "      <td>1560.000000</td>\n",
       "      <td>1975.000000</td>\n",
       "      <td>0.000000</td>\n",
       "      <td>98065.000000</td>\n",
       "      <td>47.571800</td>\n",
       "      <td>-122.231000</td>\n",
       "      <td>1840.000000</td>\n",
       "      <td>7620.000000</td>\n",
       "    </tr>\n",
       "    <tr>\n",
       "      <th>75%</th>\n",
       "      <td>6.450000e+05</td>\n",
       "      <td>4.000000</td>\n",
       "      <td>2.500000</td>\n",
       "      <td>2550.000000</td>\n",
       "      <td>1.068500e+04</td>\n",
       "      <td>2.000000</td>\n",
       "      <td>0.000000</td>\n",
       "      <td>0.000000</td>\n",
       "      <td>4.000000</td>\n",
       "      <td>8.000000</td>\n",
       "      <td>2210.000000</td>\n",
       "      <td>1997.000000</td>\n",
       "      <td>0.000000</td>\n",
       "      <td>98118.000000</td>\n",
       "      <td>47.678000</td>\n",
       "      <td>-122.125000</td>\n",
       "      <td>2360.000000</td>\n",
       "      <td>10083.000000</td>\n",
       "    </tr>\n",
       "    <tr>\n",
       "      <th>max</th>\n",
       "      <td>7.700000e+06</td>\n",
       "      <td>33.000000</td>\n",
       "      <td>8.000000</td>\n",
       "      <td>13540.000000</td>\n",
       "      <td>1.651359e+06</td>\n",
       "      <td>3.500000</td>\n",
       "      <td>1.000000</td>\n",
       "      <td>4.000000</td>\n",
       "      <td>5.000000</td>\n",
       "      <td>13.000000</td>\n",
       "      <td>9410.000000</td>\n",
       "      <td>2015.000000</td>\n",
       "      <td>2015.000000</td>\n",
       "      <td>98199.000000</td>\n",
       "      <td>47.777600</td>\n",
       "      <td>-121.315000</td>\n",
       "      <td>6210.000000</td>\n",
       "      <td>871200.000000</td>\n",
       "    </tr>\n",
       "  </tbody>\n",
       "</table>\n",
       "</div>"
      ],
      "text/plain": [
       "              Price      Bedrooms     Bathrooms   Sqft_Living      Sqft_Lot  \\\n",
       "count  2.159700e+04  21597.000000  21597.000000  21597.000000  2.159700e+04   \n",
       "mean   5.402966e+05      3.373200      2.115826   2080.321850  1.509941e+04   \n",
       "std    3.673681e+05      0.926299      0.768984    918.106125  4.141264e+04   \n",
       "min    7.800000e+04      1.000000      0.500000    370.000000  5.200000e+02   \n",
       "25%    3.220000e+05      3.000000      1.750000   1430.000000  5.040000e+03   \n",
       "50%    4.500000e+05      3.000000      2.250000   1910.000000  7.618000e+03   \n",
       "75%    6.450000e+05      4.000000      2.500000   2550.000000  1.068500e+04   \n",
       "max    7.700000e+06     33.000000      8.000000  13540.000000  1.651359e+06   \n",
       "\n",
       "             Floors    Waterfront          View     Condition         Grade  \\\n",
       "count  21597.000000  19221.000000  21534.000000  21597.000000  21597.000000   \n",
       "mean       1.494096      0.007596      0.233863      3.409825      7.657915   \n",
       "std        0.539683      0.086825      0.765686      0.650546      1.173200   \n",
       "min        1.000000      0.000000      0.000000      1.000000      3.000000   \n",
       "25%        1.000000      0.000000      0.000000      3.000000      7.000000   \n",
       "50%        1.500000      0.000000      0.000000      3.000000      7.000000   \n",
       "75%        2.000000      0.000000      0.000000      4.000000      8.000000   \n",
       "max        3.500000      1.000000      4.000000      5.000000     13.000000   \n",
       "\n",
       "         Sqft_Above      Yr_Built  Yr_Renovated       Zipcode           Lat  \\\n",
       "count  21597.000000  21597.000000  17755.000000  21597.000000  21597.000000   \n",
       "mean    1788.596842   1970.999676     83.636778  98077.951845     47.560093   \n",
       "std      827.759761     29.375234    399.946414     53.513072      0.138552   \n",
       "min      370.000000   1900.000000      0.000000  98001.000000     47.155900   \n",
       "25%     1190.000000   1951.000000      0.000000  98033.000000     47.471100   \n",
       "50%     1560.000000   1975.000000      0.000000  98065.000000     47.571800   \n",
       "75%     2210.000000   1997.000000      0.000000  98118.000000     47.678000   \n",
       "max     9410.000000   2015.000000   2015.000000  98199.000000     47.777600   \n",
       "\n",
       "               Long  Sqft_Living15     Sqft_Lot15  \n",
       "count  21597.000000   21597.000000   21597.000000  \n",
       "mean    -122.213982    1986.620318   12758.283512  \n",
       "std        0.140724     685.230472   27274.441950  \n",
       "min     -122.519000     399.000000     651.000000  \n",
       "25%     -122.328000    1490.000000    5100.000000  \n",
       "50%     -122.231000    1840.000000    7620.000000  \n",
       "75%     -122.125000    2360.000000   10083.000000  \n",
       "max     -121.315000    6210.000000  871200.000000  "
      ]
     },
     "execution_count": 3,
     "metadata": {},
     "output_type": "execute_result"
    }
   ],
   "source": [
    "kc.describe()"
   ]
  },
  {
   "cell_type": "markdown",
   "metadata": {},
   "source": [
    "### 2.2 Define problems\n",
    "1.  Date, View, and Sqft_basement are incorrect types.\n",
    "2.  Waterfront and zipcode likely need to be converted to categorical.\n",
    "3.  Condition and Grade might need to be converted to categorical, unless the numbers are a monotonic scale (scale of 1-5 with 5 being the \"best\").\n",
    "4.  Investigate Yr_Renovated.\n",
    "5.  Deciding what to do with the date.\n",
    "6.  Deciding what to do with the lat and long values.\n",
    "\n",
    "Data could be dropped from View, and it should also be converted to a binary category since the description is \"has been viewed\", and not \"the number of times the propery has been viewed\".\n",
    "\n",
    "Waterfront and zipcode may not need to be converted to categorical and could be tossed out if the distributions of the groups is equal. If the distributions are not equal then they'll both be changed to categorical. It might be best to run separate analyses for the categories if there's enough data, since the relationships may change in shape given the value of a category.\n",
    "\n",
    "Condition and Grade likely will not need to be converted to categorical, though we must assume that they are monotonic scales.\n",
    "\n",
    "There is a surprisingly low mean and a very high std for Yr_Renovated, which may indicate that the data may not accurately represent what's going on. It may be the case that very few homes have renovations on file. If this is the case, then Yr_renovated should be changed to Renovated, which is a binary category indicating whether or not a renovation is on file.\n",
    "\n",
    "The date will likely have a large impact on predicting the final sale price. I'll investigate to see if there is an impact, and then decide what to do.\n",
    "\n",
    "Changing Lat and Long data into rectangular sectors can approximate neighborhoods that can then be used as categories. It would be best to look at a map of king county to see if there are distinct neighborhoods that could be drawn instead. This would be an interesting function...\n",
    "\n",
    "\n",
    "### 2.3 Resolving problems\n",
    "#### 2.3.1. Change Date and Sqft_Basement to correct types. Drop Data as necessary. Make a separate Basement as a category."
   ]
  },
  {
   "cell_type": "code",
   "execution_count": 4,
   "metadata": {},
   "outputs": [],
   "source": [
    "kc.Sqft_Basement.replace(to_replace = '?', \n",
    "                         value = np.nan, \n",
    "                         inplace = True)\n",
    "kc.Sqft_Basement = kc.Sqft_Basement.apply(pd.to_numeric)\n",
    "kc = kc[kc.Sqft_Basement.notnull()]\n",
    "kc = kc[kc.View.notnull()]\n",
    "kc.View = kc.View.where(kc.View <= 0, other = 1)\n",
    "kc['View'] = (kc.View > 0).astype('category')"
   ]
  },
  {
   "cell_type": "code",
   "execution_count": 5,
   "metadata": {},
   "outputs": [],
   "source": [
    "kc['Basement'] = (kc.Sqft_Basement>0).astype('category')"
   ]
  },
  {
   "cell_type": "code",
   "execution_count": 6,
   "metadata": {},
   "outputs": [],
   "source": [
    "kc.Date = pd.to_datetime(kc.Date)"
   ]
  },
  {
   "cell_type": "markdown",
   "metadata": {},
   "source": [
    "#### 2.3.2 Change Waterfront and zipcode to categories if appropriate"
   ]
  },
  {
   "cell_type": "code",
   "execution_count": 7,
   "metadata": {},
   "outputs": [
    {
     "data": {
      "text/plain": [
       "dict_keys([0.0, 1.0])"
      ]
     },
     "execution_count": 7,
     "metadata": {},
     "output_type": "execute_result"
    }
   ],
   "source": [
    "waterfront_grouping = kc.groupby(by = 'Waterfront')\n",
    "waterfront_grouping.groups.keys()"
   ]
  },
  {
   "cell_type": "code",
   "execution_count": 8,
   "metadata": {},
   "outputs": [],
   "source": [
    "import seaborn as sns\n",
    "import matplotlib.pyplot as plt"
   ]
  },
  {
   "cell_type": "code",
   "execution_count": 9,
   "metadata": {},
   "outputs": [
    {
     "data": {
      "image/png": "[encoded data removed]",
      "text/plain": [
       "<Figure size 432x288 with 2 Axes>"
      ]
     },
     "metadata": {},
     "output_type": "display_data"
    }
   ],
   "source": [
    "sns.set_style(style = 'dark')\n",
    "ax1 = waterfront_grouping.get_group(0).Price.plot.hist(density = True)\n",
    "waterfront_grouping.get_group(1).Price.plot.hist(density = True,\n",
    "                                            secondary_y = True,\n",
    "                                            alpha = 0.3,\n",
    "                                            ax = ax1)\n",
    "ax1.set_xlabel('Price')\n",
    "plt.show()"
   ]
  },
  {
   "cell_type": "markdown",
   "metadata": {},
   "source": [
    "The distributions are clearly different in shape, so waterfront will be converted to a category."
   ]
  },
  {
   "cell_type": "code",
   "execution_count": 10,
   "metadata": {},
   "outputs": [],
   "source": [
    "kc.Waterfront.fillna(0.0,inplace = True) # Assume that a null listing means the house is not waterfront\n",
    "kc.Waterfront = (kc.Waterfront>0).astype('category')"
   ]
  },
  {
   "cell_type": "code",
   "execution_count": 11,
   "metadata": {},
   "outputs": [
    {
     "data": {
      "image/png": "[encoded data removed]",
      "text/plain": [
       "<Figure size 216x360 with 1 Axes>"
      ]
     },
     "metadata": {},
     "output_type": "display_data"
    }
   ],
   "source": [
    "kc.groupby('Zipcode').Price.median().plot.box(figsize = (3,5));"
   ]
  },
  {
   "cell_type": "markdown",
   "metadata": {},
   "source": [
    "The medians of the groups are too spread out to believe that zipcode might not have a significant impact on the final price of the house. It will be converted to a category."
   ]
  },
  {
   "cell_type": "code",
   "execution_count": 12,
   "metadata": {},
   "outputs": [],
   "source": [
    "kc.Zipcode = kc.Zipcode.astype('category')"
   ]
  },
  {
   "cell_type": "markdown",
   "metadata": {},
   "source": [
    "#### 2.3.3 Changing Grade and Condition to categories."
   ]
  },
  {
   "cell_type": "code",
   "execution_count": 13,
   "metadata": {},
   "outputs": [
    {
     "data": {
      "image/png": "[encoded data removed]",
      "text/plain": [
       "<Figure size 864x288 with 2 Axes>"
      ]
     },
     "metadata": {},
     "output_type": "display_data"
    }
   ],
   "source": [
    "fig, (ax1, ax2) = plt.subplots(nrows = 1, ncols = 2, figsize = (12,4))\n",
    "kc.groupby('Grade').Price.median().plot(ax = ax1, title = 'Price by Grade');\n",
    "kc.groupby('Condition').Price.median().plot(ax = ax2, title = 'Price by Condition')\n",
    "ax1.set_ylabel('Price')\n",
    "ax2.set_ylabel('Price')\n",
    "plt.show()"
   ]
  },
  {
   "cell_type": "markdown",
   "metadata": {},
   "source": [
    "Price as a function of Condition is not easily approximated by a simple function, though this is odd. I'll investigate price by condition more closely to see if there's a reason behind the deviation."
   ]
  },
  {
   "cell_type": "code",
   "execution_count": 14,
   "metadata": {},
   "outputs": [
    {
     "data": {
      "text/html": [
       "<div>\n",
       "<style scoped>\n",
       "    .dataframe tbody tr th:only-of-type {\n",
       "        vertical-align: middle;\n",
       "    }\n",
       "\n",
       "    .dataframe tbody tr th {\n",
       "        vertical-align: top;\n",
       "    }\n",
       "\n",
       "    .dataframe thead th {\n",
       "        text-align: right;\n",
       "    }\n",
       "</style>\n",
       "<table border=\"1\" class=\"dataframe\">\n",
       "  <thead>\n",
       "    <tr style=\"text-align: right;\">\n",
       "      <th></th>\n",
       "      <th>count</th>\n",
       "      <th>max</th>\n",
       "      <th>min</th>\n",
       "      <th>mean</th>\n",
       "      <th>median</th>\n",
       "    </tr>\n",
       "    <tr>\n",
       "      <th>Condition</th>\n",
       "      <th></th>\n",
       "      <th></th>\n",
       "      <th></th>\n",
       "      <th></th>\n",
       "      <th></th>\n",
       "    </tr>\n",
       "  </thead>\n",
       "  <tbody>\n",
       "    <tr>\n",
       "      <th>1</th>\n",
       "      <td>28</td>\n",
       "      <td>1500000.0</td>\n",
       "      <td>78000.0</td>\n",
       "      <td>337801.785714</td>\n",
       "      <td>262500.0</td>\n",
       "    </tr>\n",
       "    <tr>\n",
       "      <th>2</th>\n",
       "      <td>166</td>\n",
       "      <td>2560000.0</td>\n",
       "      <td>80000.0</td>\n",
       "      <td>324541.801205</td>\n",
       "      <td>277000.0</td>\n",
       "    </tr>\n",
       "    <tr>\n",
       "      <th>3</th>\n",
       "      <td>13688</td>\n",
       "      <td>7060000.0</td>\n",
       "      <td>82000.0</td>\n",
       "      <td>542820.430523</td>\n",
       "      <td>450650.0</td>\n",
       "    </tr>\n",
       "    <tr>\n",
       "      <th>4</th>\n",
       "      <td>5538</td>\n",
       "      <td>7700000.0</td>\n",
       "      <td>89000.0</td>\n",
       "      <td>519579.568978</td>\n",
       "      <td>439972.5</td>\n",
       "    </tr>\n",
       "    <tr>\n",
       "      <th>5</th>\n",
       "      <td>1662</td>\n",
       "      <td>3650000.0</td>\n",
       "      <td>110000.0</td>\n",
       "      <td>612872.954272</td>\n",
       "      <td>525444.0</td>\n",
       "    </tr>\n",
       "  </tbody>\n",
       "</table>\n",
       "</div>"
      ],
      "text/plain": [
       "           count        max       min           mean    median\n",
       "Condition                                                     \n",
       "1             28  1500000.0   78000.0  337801.785714  262500.0\n",
       "2            166  2560000.0   80000.0  324541.801205  277000.0\n",
       "3          13688  7060000.0   82000.0  542820.430523  450650.0\n",
       "4           5538  7700000.0   89000.0  519579.568978  439972.5\n",
       "5           1662  3650000.0  110000.0  612872.954272  525444.0"
      ]
     },
     "execution_count": 14,
     "metadata": {},
     "output_type": "execute_result"
    }
   ],
   "source": [
    "kc.groupby('Condition').Price.agg(['count','max','min','mean','median'])"
   ]
  },
  {
   "cell_type": "markdown",
   "metadata": {},
   "source": [
    "The min and max follow a monotonically increasing trend. The scale is most likely meant to be monotonic, so I'll treat it as such and leave Condition as a numerical feature. \n",
    "\n",
    "It is also strange that the lowest value for Grade has a higher price than the two following values for grade. I'll also investigate that further."
   ]
  },
  {
   "cell_type": "code",
   "execution_count": 15,
   "metadata": {},
   "outputs": [
    {
     "data": {
      "text/html": [
       "<div>\n",
       "<style scoped>\n",
       "    .dataframe tbody tr th:only-of-type {\n",
       "        vertical-align: middle;\n",
       "    }\n",
       "\n",
       "    .dataframe tbody tr th {\n",
       "        vertical-align: top;\n",
       "    }\n",
       "\n",
       "    .dataframe thead th {\n",
       "        text-align: right;\n",
       "    }\n",
       "</style>\n",
       "<table border=\"1\" class=\"dataframe\">\n",
       "  <thead>\n",
       "    <tr style=\"text-align: right;\">\n",
       "      <th></th>\n",
       "      <th>count</th>\n",
       "      <th>max</th>\n",
       "      <th>min</th>\n",
       "      <th>mean</th>\n",
       "      <th>median</th>\n",
       "    </tr>\n",
       "    <tr>\n",
       "      <th>Grade</th>\n",
       "      <th></th>\n",
       "      <th></th>\n",
       "      <th></th>\n",
       "      <th></th>\n",
       "      <th></th>\n",
       "    </tr>\n",
       "  </thead>\n",
       "  <tbody>\n",
       "    <tr>\n",
       "      <th>3</th>\n",
       "      <td>1</td>\n",
       "      <td>262000.0</td>\n",
       "      <td>262000.0</td>\n",
       "      <td>2.620000e+05</td>\n",
       "      <td>262000.0</td>\n",
       "    </tr>\n",
       "    <tr>\n",
       "      <th>4</th>\n",
       "      <td>27</td>\n",
       "      <td>435000.0</td>\n",
       "      <td>80000.0</td>\n",
       "      <td>2.120019e+05</td>\n",
       "      <td>200000.0</td>\n",
       "    </tr>\n",
       "    <tr>\n",
       "      <th>5</th>\n",
       "      <td>235</td>\n",
       "      <td>795000.0</td>\n",
       "      <td>78000.0</td>\n",
       "      <td>2.500485e+05</td>\n",
       "      <td>229950.0</td>\n",
       "    </tr>\n",
       "    <tr>\n",
       "      <th>6</th>\n",
       "      <td>1991</td>\n",
       "      <td>1200000.0</td>\n",
       "      <td>82000.0</td>\n",
       "      <td>3.024106e+05</td>\n",
       "      <td>276000.0</td>\n",
       "    </tr>\n",
       "    <tr>\n",
       "      <th>7</th>\n",
       "      <td>8762</td>\n",
       "      <td>2050000.0</td>\n",
       "      <td>90000.0</td>\n",
       "      <td>4.023335e+05</td>\n",
       "      <td>375000.0</td>\n",
       "    </tr>\n",
       "    <tr>\n",
       "      <th>8</th>\n",
       "      <td>5922</td>\n",
       "      <td>3070000.0</td>\n",
       "      <td>140000.0</td>\n",
       "      <td>5.435257e+05</td>\n",
       "      <td>512250.0</td>\n",
       "    </tr>\n",
       "    <tr>\n",
       "      <th>9</th>\n",
       "      <td>2546</td>\n",
       "      <td>2700000.0</td>\n",
       "      <td>230000.0</td>\n",
       "      <td>7.741851e+05</td>\n",
       "      <td>721750.0</td>\n",
       "    </tr>\n",
       "    <tr>\n",
       "      <th>10</th>\n",
       "      <td>1108</td>\n",
       "      <td>3600000.0</td>\n",
       "      <td>316000.0</td>\n",
       "      <td>1.071458e+06</td>\n",
       "      <td>910500.0</td>\n",
       "    </tr>\n",
       "    <tr>\n",
       "      <th>11</th>\n",
       "      <td>389</td>\n",
       "      <td>7060000.0</td>\n",
       "      <td>420000.0</td>\n",
       "      <td>1.494643e+06</td>\n",
       "      <td>1280000.0</td>\n",
       "    </tr>\n",
       "    <tr>\n",
       "      <th>12</th>\n",
       "      <td>88</td>\n",
       "      <td>5350000.0</td>\n",
       "      <td>835000.0</td>\n",
       "      <td>2.167330e+06</td>\n",
       "      <td>1820000.0</td>\n",
       "    </tr>\n",
       "    <tr>\n",
       "      <th>13</th>\n",
       "      <td>13</td>\n",
       "      <td>7700000.0</td>\n",
       "      <td>1780000.0</td>\n",
       "      <td>3.710769e+06</td>\n",
       "      <td>2980000.0</td>\n",
       "    </tr>\n",
       "  </tbody>\n",
       "</table>\n",
       "</div>"
      ],
      "text/plain": [
       "       count        max        min          mean     median\n",
       "Grade                                                      \n",
       "3          1   262000.0   262000.0  2.620000e+05   262000.0\n",
       "4         27   435000.0    80000.0  2.120019e+05   200000.0\n",
       "5        235   795000.0    78000.0  2.500485e+05   229950.0\n",
       "6       1991  1200000.0    82000.0  3.024106e+05   276000.0\n",
       "7       8762  2050000.0    90000.0  4.023335e+05   375000.0\n",
       "8       5922  3070000.0   140000.0  5.435257e+05   512250.0\n",
       "9       2546  2700000.0   230000.0  7.741851e+05   721750.0\n",
       "10      1108  3600000.0   316000.0  1.071458e+06   910500.0\n",
       "11       389  7060000.0   420000.0  1.494643e+06  1280000.0\n",
       "12        88  5350000.0   835000.0  2.167330e+06  1820000.0\n",
       "13        13  7700000.0  1780000.0  3.710769e+06  2980000.0"
      ]
     },
     "execution_count": 15,
     "metadata": {},
     "output_type": "execute_result"
    }
   ],
   "source": [
    "kc.groupby('Grade').Price.agg(['count','max','min','mean','median'])"
   ]
  },
  {
   "cell_type": "markdown",
   "metadata": {},
   "source": [
    "There is only one record for a house with a grade of 3. This record will be eliminated since we don't know if this house is an outlier."
   ]
  },
  {
   "cell_type": "code",
   "execution_count": 16,
   "metadata": {},
   "outputs": [],
   "source": [
    "kc.drop(kc.loc[kc.Grade == 3].index, inplace = True)"
   ]
  },
  {
   "cell_type": "markdown",
   "metadata": {},
   "source": [
    "#### 2.3.4  Changing Yr_Renovated to Yrs_Since_Renovation.\n",
    "This is relatively straightforward. The complicated part is that many of the homes have a value of 0.0 for the year renovated, which is nonsensical. It would be good to investigate how many homes have a renovation date on record."
   ]
  },
  {
   "cell_type": "code",
   "execution_count": 17,
   "metadata": {
    "scrolled": false
   },
   "outputs": [
    {
     "data": {
      "text/plain": [
       "'The number of houses with documented renovations is 722'"
      ]
     },
     "execution_count": 17,
     "metadata": {},
     "output_type": "execute_result"
    }
   ],
   "source": [
    "num_unknown_rennovations = kc.Yr_Renovated.replace(to_replace = 0,\n",
    "                                                   value = np.nan).isna().sum()\n",
    "num_renovated = (len(kc) - num_unknown_rennovations)\n",
    "'The number of houses with documented renovations is {0:G}'.format(num_renovated)"
   ]
  },
  {
   "cell_type": "markdown",
   "metadata": {},
   "source": [
    "Since there are so few homes and so many features, I don't think it makes sense to treat this as a continuous variable for those homes that have been renovated."
   ]
  },
  {
   "cell_type": "code",
   "execution_count": 18,
   "metadata": {},
   "outputs": [],
   "source": [
    "kc.Yr_Renovated.fillna(0, inplace = True)\n",
    "kc['Renovated'] = kc.Yr_Renovated.where(kc.Yr_Renovated <= 0, other = 1)\n",
    "kc['Renovated'] = (kc.Renovated > 0).astype('category')\n",
    "kc.drop(labels = 'Yr_Renovated', axis = 1, inplace = True)"
   ]
  },
  {
   "cell_type": "markdown",
   "metadata": {},
   "source": [
    "#### 2.3.5 Dealing with the date.\n",
    "\n",
    "My inclination here is that prices are higher in the summer months because demand is higher. I'll look at a 30 day rolling window to spot trends in the median price, and also resample the data by month to also look for trends."
   ]
  },
  {
   "cell_type": "code",
   "execution_count": 19,
   "metadata": {},
   "outputs": [
    {
     "data": {
      "image/png": "[encoded data removed]",
      "text/plain": [
       "<Figure size 864x288 with 2 Axes>"
      ]
     },
     "metadata": {},
     "output_type": "display_data"
    },
    {
     "data": {
      "text/plain": [
       "'The maximum swing in adjusted price is 11.61%'"
      ]
     },
     "execution_count": 19,
     "metadata": {},
     "output_type": "execute_result"
    }
   ],
   "source": [
    "fig, (ax1, ax2) = plt.subplots(1, 2, figsize = (12,4))\n",
    "kc.groupby('Date').Price.median().rolling(30).median().plot(ax = ax1, title = 'Rolling Window')\n",
    "kc.reset_index().set_index(['Date']).resample('m').Price.median().plot(ax = ax2, title = 'Resampled Data')\n",
    "plt.show()\n",
    "\n",
    "# Calculate the maximum 'swing' in price as compared to the median\n",
    "price_adjustment = (kc.reset_index().set_index(['Date']).resample('m').Price.median() / kc.Price.median() - 1)*100\n",
    "max_swing = price_adjustment.max()-price_adjustment.min()\n",
    "'The maximum swing in adjusted price is {0:2.2f}%'.format(max_swing)"
   ]
  },
  {
   "cell_type": "markdown",
   "metadata": {},
   "source": [
    "The maximum swing on the median price is a hefty 11.61%! The model will have to account for the time of the year in order to be more accurate. The easiest way to do this will be to resample by month and then turn into a category. Complexity can be added to the model later by fitting a function to the date, instead of simply categorizing by month."
   ]
  },
  {
   "cell_type": "code",
   "execution_count": 20,
   "metadata": {},
   "outputs": [],
   "source": [
    "kc['Month'] = kc.Date.dt.month_name().astype('category')\n",
    "kc.drop('Date', axis = 1, inplace = True)"
   ]
  },
  {
   "cell_type": "markdown",
   "metadata": {},
   "source": [
    "#### 2.3.6 Deciding what to do with lat and long values\n",
    "\n",
    "Here's a map of King County with zip-code boundaries:\n",
    "<img src=\"https://www.kingcounty.gov/~/media/operations/GIS/maps/vmc/images/zipcodes_westKC_586.ashx?la=en\" alt=\"An image of King County with zip-code boundaries\" title=\"King Country Zip Codes\" />\n",
    "<br><br><br>\n",
    "And, for comparison's sake, here's a map of Manhattan with zip-code boundaries:\n",
    "<img src=\"https://www.propertyshark.com/Real-Estate-Reports/wp-content/uploads/2012/10/infographic-zip-codes-3.png\" alt=\"An image of Manhattan with zip-code boundaries\" title=\"Manhattan Zip Codes\" />\n",
    "\n",
    "Zip code boundaries trace a mixture of natural boundaries and, I suspect, socioeconomic boundaries. This is corroborated by the Manhattan zipcodes, where neighborhoods are roughly approximated by zip codes (I live in NYC, so I'm more familiar with the neighborhoods here). Though zip codes are not a perfect stand-in for neighborhoods, they are adequate for a first pass at this model. If I have time, I will attend to making discrete quadrants that better capture pricing at the neighborhood level. \n"
   ]
  },
  {
   "cell_type": "code",
   "execution_count": 21,
   "metadata": {},
   "outputs": [],
   "source": [
    "kc.drop(labels = ['Lat', 'Long'], axis = 1, inplace = True)"
   ]
  },
  {
   "cell_type": "markdown",
   "metadata": {},
   "source": [
    "To finish up importing the data, I'll check the metadata again:"
   ]
  },
  {
   "cell_type": "code",
   "execution_count": 22,
   "metadata": {
    "scrolled": false
   },
   "outputs": [
    {
     "name": "stdout",
     "output_type": "stream",
     "text": [
      "<class 'pandas.core.frame.DataFrame'>\n",
      "Int64Index: 21081 entries, 7129300520 to 1523300157\n",
      "Data columns (total 19 columns):\n",
      "Price            21081 non-null float64\n",
      "Bedrooms         21081 non-null int64\n",
      "Bathrooms        21081 non-null float64\n",
      "Sqft_Living      21081 non-null int64\n",
      "Sqft_Lot         21081 non-null int64\n",
      "Floors           21081 non-null float64\n",
      "Waterfront       21081 non-null category\n",
      "View             21081 non-null category\n",
      "Condition        21081 non-null int64\n",
      "Grade            21081 non-null int64\n",
      "Sqft_Above       21081 non-null int64\n",
      "Sqft_Basement    21081 non-null float64\n",
      "Yr_Built         21081 non-null int64\n",
      "Zipcode          21081 non-null category\n",
      "Sqft_Living15    21081 non-null int64\n",
      "Sqft_Lot15       21081 non-null int64\n",
      "Basement         21081 non-null category\n",
      "Renovated        21081 non-null category\n",
      "Month            21081 non-null category\n",
      "dtypes: category(6), float64(4), int64(9)\n",
      "memory usage: 2.4 MB\n"
     ]
    }
   ],
   "source": [
    "kc.info()"
   ]
  },
  {
   "cell_type": "markdown",
   "metadata": {},
   "source": [
    "That looks significantly better now. Some series' types could be changed to improve efficiency, but I'm not worried about it at this point since the dataframe is small."
   ]
  },
  {
   "cell_type": "markdown",
   "metadata": {},
   "source": [
    "<a id=\"3\"></a>\n",
    "## 3. Exploring and Modifying Data (Explore)\n",
    "\n",
    "First I'll look at violin plots of Price for the predictors that have categorical values. Then I'll look at distributions for continuous predictors. Before I go much further, I'll look for correlations between the continuous predictors and make some decisions about what data to drop. Finally, I'll look at scatter plots of Price vs continous predictors. In order to make this less repetitive, I'll use ipywidgets to create interactive displays. I'll dive deeper once this initial exploration is done."
   ]
  },
  {
   "cell_type": "code",
   "execution_count": 23,
   "metadata": {
    "scrolled": false
   },
   "outputs": [],
   "source": [
    "import ipywidgets as widgets\n",
    "from ipywidgets import interact, interact_manual"
   ]
  },
  {
   "cell_type": "markdown",
   "metadata": {},
   "source": [
    "### 3.1  Violin plots"
   ]
  },
  {
   "cell_type": "code",
   "execution_count": 24,
   "metadata": {},
   "outputs": [],
   "source": [
    "hue_list = list(kc.select_dtypes('category').columns)\n",
    "hue_list.append('None')"
   ]
  },
  {
   "cell_type": "code",
   "execution_count": 25,
   "metadata": {},
   "outputs": [
    {
     "data": {
      "application/vnd.jupyter.widget-view+json": {
       "model_id": "02cff0909de94dd0ba37c9095d4593c2",
       "version_major": 2,
       "version_minor": 0
      },
      "text/plain": [
       "interactive(children=(Dropdown(description='x', options=('Waterfront', 'View', 'Zipcode', 'Basement', 'Renovat…"
      ]
     },
     "metadata": {},
     "output_type": "display_data"
    }
   ],
   "source": [
    "@interact\n",
    "def violin_plot(x=list(kc.select_dtypes('category').columns), \n",
    "                yscale = ['log', 'linear'],\n",
    "                hue = hue_list):\n",
    "    \n",
    "    fig, ax = plt.subplots(1,1,figsize = (12,8))\n",
    "    if (hue != 'None') & (hue != x):\n",
    "        title = \"Price vs. \" + x + \" sorted by \" + hue\n",
    "        hue = kc[hue]\n",
    "    else:\n",
    "        hue = None\n",
    "        title = \"Price vs. \" + x\n",
    "    \n",
    "    \n",
    "    sns.violinplot(x = kc[x], \n",
    "                   y = kc.Price, \n",
    "                   cut = 0,\n",
    "                   scale = 'area',\n",
    "                   inner = 'box',\n",
    "                   hue = hue,\n",
    "                   ax = ax,\n",
    "                   )\n",
    "    plt.yscale(yscale)\n",
    "    plt.title(title)\n"
   ]
  },
  {
   "cell_type": "markdown",
   "metadata": {},
   "source": [
    "### 3.2  Histograms of continuous variables"
   ]
  },
  {
   "cell_type": "code",
   "execution_count": 26,
   "metadata": {},
   "outputs": [
    {
     "data": {
      "application/vnd.jupyter.widget-view+json": {
       "model_id": "59426d131c2141aab8b9193a2eb8dd4f",
       "version_major": 2,
       "version_minor": 0
      },
      "text/plain": [
       "interactive(children=(Dropdown(description='data', options=('Price', 'Bedrooms', 'Bathrooms', 'Sqft_Living', '…"
      ]
     },
     "metadata": {},
     "output_type": "display_data"
    }
   ],
   "source": [
    "@interact\n",
    "def hist_plot(data = list(kc.select_dtypes(include = [np.number]).columns),\n",
    "             log_data = [True, False]):\n",
    "    \n",
    "    fig, ax = plt.subplots(1,1,figsize = (12,8))\n",
    "    title = \"Distribution of \" + data\n",
    "    \n",
    "    if log_data:\n",
    "        data = kc[data].replace(0,0.1)\n",
    "        data = data.apply(np.log10)\n",
    "    else:\n",
    "        data = kc[data]\n",
    "    sns.distplot(data,\n",
    "                 ax = ax)\n",
    "    plt.title(title)\n",
    "    plt.show()"
   ]
  },
  {
   "cell_type": "markdown",
   "metadata": {},
   "source": [
    "### 3.3  Correlation matrix"
   ]
  },
  {
   "cell_type": "code",
   "execution_count": 27,
   "metadata": {
    "scrolled": false
   },
   "outputs": [
    {
     "data": {
      "image/png": "[encoded data removed]",
      "text/plain": [
       "<Figure size 792x648 with 2 Axes>"
      ]
     },
     "metadata": {},
     "output_type": "display_data"
    }
   ],
   "source": [
    "predictors = kc.drop(labels = 'Price', axis = 1)\n",
    "sns.set_style('white')\n",
    "corr = predictors.corr()\n",
    "mask = np.zeros_like(corr, dtype=np.bool)\n",
    "mask[np.triu_indices_from(mask)] = True\n",
    "f, ax = plt.subplots(figsize=(11, 9))\n",
    "cmap = sns.diverging_palette(220, 10, as_cmap=True)\n",
    "sns.heatmap(corr, mask=mask, cmap=cmap, vmax=.5, vmin = -0.5, center=0,\n",
    "            square=True, linewidths=.5, cbar_kws={\"shrink\": .5}, annot = True)\n",
    "plt.show()\n",
    "sns.set_style()"
   ]
  },
  {
   "cell_type": "markdown",
   "metadata": {},
   "source": [
    "The correlation matrix shows that many of these variables correlate with each other. I suppose I'm not surprised by this. After all, a more expensive house tends to have more bedrooms, bathrooms, space, and floors. Additionally, it is likely to have a higher grade and be newer. So, those things tend to go together and intuitively they will be correlated.\n",
    "\n",
    "From the description of the columns, I don't think that we need to keep all three of: Sqft_living, Sqft_Above, and Sqft_Basement. Sqft_Above indicates the area of the house above the basement. It is likely that the sum of the area above the basement and the basement area is almost always the \"living area\". I'll check this assumption quickly. If this mostly holds true, then I'll drop \"living area\", if not then I'll drop \"above\"."
   ]
  },
  {
   "cell_type": "code",
   "execution_count": 28,
   "metadata": {},
   "outputs": [
    {
     "name": "stdout",
     "output_type": "stream",
     "text": [
      "21081\n",
      "21081\n"
     ]
    }
   ],
   "source": [
    "print(((kc.Sqft_Above+kc.Sqft_Basement)==kc.Sqft_Living).sum()) #This is the number of houses whose area above and below matches total area\n",
    "print(len(kc.Price))"
   ]
  },
  {
   "cell_type": "markdown",
   "metadata": {},
   "source": [
    "How wonderful! It's a perfect match, so I'll drop Sqft_Living since it's accounted for in the sum of basement and above area."
   ]
  },
  {
   "cell_type": "code",
   "execution_count": 29,
   "metadata": {},
   "outputs": [],
   "source": [
    "kc.drop('Sqft_Living', axis = 1, inplace = True)"
   ]
  },
  {
   "cell_type": "code",
   "execution_count": 30,
   "metadata": {},
   "outputs": [],
   "source": [
    "predictors.drop('Sqft_Living', axis = 1, inplace = True)"
   ]
  },
  {
   "cell_type": "markdown",
   "metadata": {},
   "source": [
    "Now I'll look at predictors that measure the difference between the house itself and the houses of neighbors. The interesting thing to look at here, I think, is the houses that are NOT like their neighbors. I imagine that this is where differences arise, so it might be best to create new categories for these comparators that determines if the neighbors are bigger, smaller, or the same. To do this, I'll look at the differences between the house itself and its neighbors for each of these categories.\n",
    "\n",
    "#### 3.3.1 Analyzing data of neighbors"
   ]
  },
  {
   "cell_type": "code",
   "execution_count": 31,
   "metadata": {},
   "outputs": [],
   "source": [
    "neighbors_data = pd.DataFrame()\n",
    "neighbors_data['Lot_Difference'] = (predictors.Sqft_Lot - predictors.Sqft_Lot15)/predictors.Sqft_Lot15\n",
    "neighbors_data['Living_Difference'] = (predictors.Sqft_Above + predictors.Sqft_Basement - predictors.Sqft_Living15)/predictors.Sqft_Living15"
   ]
  },
  {
   "cell_type": "code",
   "execution_count": 32,
   "metadata": {
    "scrolled": true
   },
   "outputs": [
    {
     "data": {
      "text/html": [
       "<div>\n",
       "<style scoped>\n",
       "    .dataframe tbody tr th:only-of-type {\n",
       "        vertical-align: middle;\n",
       "    }\n",
       "\n",
       "    .dataframe tbody tr th {\n",
       "        vertical-align: top;\n",
       "    }\n",
       "\n",
       "    .dataframe thead th {\n",
       "        text-align: right;\n",
       "    }\n",
       "</style>\n",
       "<table border=\"1\" class=\"dataframe\">\n",
       "  <thead>\n",
       "    <tr style=\"text-align: right;\">\n",
       "      <th></th>\n",
       "      <th>Lot_Difference</th>\n",
       "      <th>Living_Difference</th>\n",
       "    </tr>\n",
       "  </thead>\n",
       "  <tbody>\n",
       "    <tr>\n",
       "      <th>count</th>\n",
       "      <td>21081.000000</td>\n",
       "      <td>21081.000000</td>\n",
       "    </tr>\n",
       "    <tr>\n",
       "      <th>mean</th>\n",
       "      <td>0.134628</td>\n",
       "      <td>0.053163</td>\n",
       "    </tr>\n",
       "    <tr>\n",
       "      <th>std</th>\n",
       "      <td>1.293415</td>\n",
       "      <td>0.320523</td>\n",
       "    </tr>\n",
       "    <tr>\n",
       "      <th>min</th>\n",
       "      <td>-0.945028</td>\n",
       "      <td>-0.812721</td>\n",
       "    </tr>\n",
       "    <tr>\n",
       "      <th>25%</th>\n",
       "      <td>-0.063227</td>\n",
       "      <td>-0.118881</td>\n",
       "    </tr>\n",
       "    <tr>\n",
       "      <th>50%</th>\n",
       "      <td>0.000000</td>\n",
       "      <td>0.000000</td>\n",
       "    </tr>\n",
       "    <tr>\n",
       "      <th>75%</th>\n",
       "      <td>0.093828</td>\n",
       "      <td>0.161039</td>\n",
       "    </tr>\n",
       "    <tr>\n",
       "      <th>max</th>\n",
       "      <td>86.527179</td>\n",
       "      <td>5.000000</td>\n",
       "    </tr>\n",
       "  </tbody>\n",
       "</table>\n",
       "</div>"
      ],
      "text/plain": [
       "       Lot_Difference  Living_Difference\n",
       "count    21081.000000       21081.000000\n",
       "mean         0.134628           0.053163\n",
       "std          1.293415           0.320523\n",
       "min         -0.945028          -0.812721\n",
       "25%         -0.063227          -0.118881\n",
       "50%          0.000000           0.000000\n",
       "75%          0.093828           0.161039\n",
       "max         86.527179           5.000000"
      ]
     },
     "execution_count": 32,
     "metadata": {},
     "output_type": "execute_result"
    }
   ],
   "source": [
    "neighbors_data.describe()"
   ]
  },
  {
   "cell_type": "markdown",
   "metadata": {},
   "source": [
    "The descriptive data alone tells us that there are outliers in the data. I'll look at histograms to determine the cutoffs for outliers."
   ]
  },
  {
   "cell_type": "code",
   "execution_count": 33,
   "metadata": {
    "scrolled": false
   },
   "outputs": [
    {
     "data": {
      "application/vnd.jupyter.widget-view+json": {
       "model_id": "9bd992580a674fd187945c693345dcd1",
       "version_major": 2,
       "version_minor": 0
      },
      "text/plain": [
       "interactive(children=(FloatSlider(value=-0.25, description='low_lot', max=0.0, min=-0.5, step=0.01), FloatSlid…"
      ]
     },
     "metadata": {},
     "output_type": "display_data"
    }
   ],
   "source": [
    "@interact\n",
    "def lot_difference(\n",
    "              low_lot = (-0.5,0,0.01),\n",
    "              high_lot = (0,0.5,0.01),\n",
    "              low_living = (-0.5,0,0.01),\n",
    "              high_living = (0,0.5,0.01)):\n",
    "    \n",
    "    fig, (ax1, ax2) = plt.subplots(1,2,figsize = (16,9))\n",
    "    \n",
    "    title = \"Distribution of Lot Difference\"\n",
    "    data = neighbors_data.Lot_Difference\n",
    "    #lower_bound = data.quantile(low_lot)\n",
    "    #upper_bound = data.quantile(high_lot)\n",
    "    data = data[(data > low_lot) & (data < high_lot)]\n",
    "    sns.distplot(data, ax = ax1)\n",
    "    std_text = 'std: {:1.3f}'.format(data.std())\n",
    "    ax1.text(0.5, \n",
    "             0.8, \n",
    "             std_text, \n",
    "             horizontalalignment='left',\n",
    "             verticalalignment='top',\n",
    "             fontsize = 16,\n",
    "             transform=ax.transAxes)\n",
    "    ax1.set_title('Scaled Lot Area Difference')\n",
    "    \n",
    "    title = \"Distribution of Living Difference\"\n",
    "    data = neighbors_data.Living_Difference\n",
    "    #lower_bound = data.quantile(low_living)\n",
    "    #upper_bound = data.quantile(high_living)\n",
    "    data = data[(data > low_living) & (data < high_living)]\n",
    "    sns.distplot(data, ax = ax2)\n",
    "    std_text = 'std: {:1.3f}'.format(data.std())\n",
    "    ax2.text(1.5, \n",
    "             0.8, \n",
    "             std_text, \n",
    "             horizontalalignment='left',\n",
    "             verticalalignment='top',\n",
    "             fontsize = 16,\n",
    "             transform=ax.transAxes)\n",
    "    ax2.set_title('Scaled Living Area Difference')\n",
    "    plt.show()"
   ]
  },
  {
   "cell_type": "markdown",
   "metadata": {},
   "source": [
    "The values center at 0, which makes sense because of the way that house lots and houses are constructed. Given this, it makes sense to define an intuitive value for which someone would pay more or less money. I'll assume that at ±10% of the size of the neighbors, the value of the house in question is likely to be significantly different than the the market vaulue of houses that are similar in size. That being said, I'll make categories that define houses that are above and below the regional value. Just to check my assumption, I'll look at the fraction of houses that are withing ±10% of 0 on the next line."
   ]
  },
  {
   "cell_type": "code",
   "execution_count": 34,
   "metadata": {
    "scrolled": true
   },
   "outputs": [
    {
     "name": "stdout",
     "output_type": "stream",
     "text": [
      "90.80214411081067\n",
      "90.03367961671648\n"
     ]
    }
   ],
   "source": [
    "print(((neighbors_data.Living_Difference > -0.50) & (neighbors_data.Living_Difference < 0.50)).sum()/len(neighbors_data.Living_Difference)*100)\n",
    "print(((neighbors_data.Lot_Difference > -0.50) & (neighbors_data.Lot_Difference < 0.50)).sum()/len(neighbors_data.Lot_Difference)*100)"
   ]
  },
  {
   "cell_type": "markdown",
   "metadata": {},
   "source": [
    "±50% of a difference between sizes in living space and lot size account for 90% of the data in both categories. I think that enough of the data is represented in all the categories, and intuitively ±50% of a difference in size would almost certainly make a difference for the average consumer. I'll make categories for the values that are above and below this cutoff.\n",
    "\n",
    "Of course, if this turns out not to be a significant factor in the model then my intuition is incorrect OR the data simply doesn't support a difference in price. I'll assess this after the model is built."
   ]
  },
  {
   "cell_type": "code",
   "execution_count": 35,
   "metadata": {},
   "outputs": [],
   "source": [
    "neighbors_data['Living_Over50'] = (neighbors_data.Living_Difference > 0.50).astype('category')\n",
    "neighbors_data['Living_Under50'] = (neighbors_data.Living_Difference < -.50).astype('category')\n",
    "neighbors_data['Lot_Over50'] = (neighbors_data.Lot_Difference > 0.50).astype('category')\n",
    "neighbors_data['Lot_Under50'] = (neighbors_data.Lot_Difference < -0.50).astype('category')"
   ]
  },
  {
   "cell_type": "code",
   "execution_count": 36,
   "metadata": {},
   "outputs": [],
   "source": [
    "kc['Living_Over50'] = neighbors_data.Living_Over50\n",
    "kc['Living_Under50'] = neighbors_data.Living_Under50\n",
    "kc['Lot_Over50'] = neighbors_data.Lot_Over50\n",
    "kc['Lot_Under50'] = neighbors_data.Lot_Under50\n",
    "kc.drop(labels = ['Sqft_Living15', 'Sqft_Lot15'], axis = 1, inplace = True)"
   ]
  },
  {
   "cell_type": "markdown",
   "metadata": {},
   "source": [
    "Now I'll look at those new categories to see if there is a marked difference."
   ]
  },
  {
   "cell_type": "code",
   "execution_count": 37,
   "metadata": {
    "scrolled": false
   },
   "outputs": [
    {
     "data": {
      "application/vnd.jupyter.widget-view+json": {
       "model_id": "ba20416be9de4945a530f076a063a57a",
       "version_major": 2,
       "version_minor": 0
      },
      "text/plain": [
       "interactive(children=(Dropdown(description='x', options=('Living_Under50', 'Living_Over50', 'Lot_Under50', 'Lo…"
      ]
     },
     "metadata": {},
     "output_type": "display_data"
    }
   ],
   "source": [
    "@interact\n",
    "def violin_plot(x=['Living_Under50', 'Living_Over50', 'Lot_Under50', 'Lot_Over50'], \n",
    "                yscale = ['log', 'linear'],\n",
    "                hue = ['None', 'Living_Under50', 'Living_Over50', 'Lot_Under50', 'Lot_Over50']):\n",
    "    \n",
    "    fig, ax = plt.subplots(1,1,figsize = (12,8))\n",
    "    if (hue != 'None') & (hue != x):\n",
    "        title = \"Price vs. \" + x + \" sorted by \" + hue\n",
    "        hue = kc[hue]\n",
    "    else:\n",
    "        hue = None\n",
    "        title = \"Price vs. \" + x\n",
    "    \n",
    "    \n",
    "    sns.violinplot(x = kc[x], \n",
    "                   y = kc.Price, \n",
    "                   cut = 0,\n",
    "                   scale = 'area',\n",
    "                   inner = 'box',\n",
    "                   hue = hue,\n",
    "                   ax = ax,\n",
    "                   )\n",
    "    plt.yscale(yscale)\n",
    "    plt.title(title)"
   ]
  },
  {
   "cell_type": "markdown",
   "metadata": {},
   "source": [
    "It is clear that there is a difference in the price for some of these violin plots. This is especially true when looking at the combined data.\n",
    "\n",
    "### 3.4 Dropping Data\n",
    "Now I have to make some decisions about which numerical series to drop. I'll look at the correlations first."
   ]
  },
  {
   "cell_type": "code",
   "execution_count": 38,
   "metadata": {},
   "outputs": [
    {
     "data": {
      "text/plain": [
       "Price            1.000000\n",
       "Grade            0.668215\n",
       "Sqft_Above       0.605468\n",
       "Bathrooms        0.525011\n",
       "Sqft_Basement    0.323002\n",
       "Bedrooms         0.308414\n",
       "Floors           0.256579\n",
       "Sqft_Lot         0.088399\n",
       "Yr_Built         0.054792\n",
       "Condition        0.034706\n",
       "Name: Price, dtype: float64"
      ]
     },
     "execution_count": 38,
     "metadata": {},
     "output_type": "execute_result"
    }
   ],
   "source": [
    "kc.corr().Price.sort_values(ascending = False)"
   ]
  },
  {
   "cell_type": "markdown",
   "metadata": {},
   "source": [
    "Condition, Yr_Built, and Sqft_Lot are not well correlated, so they will be dropped from the dataframe. Floors are also not well correlated and it is more highly correlated with Sqft_above, so that will be dropped too."
   ]
  },
  {
   "cell_type": "code",
   "execution_count": 39,
   "metadata": {},
   "outputs": [],
   "source": [
    "kc.drop(labels = ['Condition','Yr_Built', 'Sqft_Lot','Floors'], axis = 1, inplace = True)"
   ]
  },
  {
   "cell_type": "code",
   "execution_count": 40,
   "metadata": {},
   "outputs": [
    {
     "data": {
      "image/png": "[encoded data removed]",
      "text/plain": [
       "<Figure size 792x648 with 2 Axes>"
      ]
     },
     "metadata": {},
     "output_type": "display_data"
    }
   ],
   "source": [
    "sns.set_style('white')\n",
    "corr = kc.drop(labels = 'Price', axis = 1).corr()\n",
    "mask = np.zeros_like(corr, dtype=np.bool)\n",
    "mask[np.triu_indices_from(mask)] = True\n",
    "f, ax = plt.subplots(figsize=(11, 9))\n",
    "cmap = sns.diverging_palette(220, 10, as_cmap=True)\n",
    "sns.heatmap(corr, mask=mask, cmap=cmap, vmax=.5, vmin = -0.5, center=0,\n",
    "            square=True, linewidths=.5, cbar_kws={\"shrink\": .5}, annot = True)\n",
    "plt.show()\n",
    "sns.set_style()"
   ]
  },
  {
   "cell_type": "markdown",
   "metadata": {},
   "source": [
    "This is better, but there is still correlation between predictors. I will drop more features from the dataframe if this multicollinearity becomes a problem in the model. For now, I'm content with the results and I'll move on to analyzing the effect of the zip code and month on price.\n",
    "<br>\n",
    "<br>\n",
    "### 3.5  Managing Month and Zipcode\n",
    "Zipcode is a categorical series with too many unique values to be functionally useful. RFE will take forever if there are too many dummy variables, and deciding which dummy variables to use is somewhat arbitrary based on the total number of features. It might be best to perform target encoding with the zipcode. I'll do the same for months, though I could leave months as a categorical variable and hot-encode if the correlation is low."
   ]
  },
  {
   "cell_type": "code",
   "execution_count": 41,
   "metadata": {},
   "outputs": [
    {
     "name": "stdout",
     "output_type": "stream",
     "text": [
      "Zipcode Means : Price\t0.6392238778761902\n",
      "Month : Price\t\t0.039301703113603696\n"
     ]
    }
   ],
   "source": [
    "zip_means = kc.groupby('Zipcode')['Price'].mean()\n",
    "month_means = kc.groupby('Month')['Price'].mean()\n",
    "kc['Zipcode_Means'] = kc.Zipcode.map(zip_means)\n",
    "kc['Month_Means'] = kc.Month.map(month_means)\n",
    "print('Zipcode Means : Price\\t' + str(kc.corr().loc['Zipcode_Means','Price']))\n",
    "print('Month : Price\\t\\t' + str(kc.corr().loc['Month_Means','Price']))"
   ]
  },
  {
   "cell_type": "markdown",
   "metadata": {},
   "source": [
    "The correlation between Zipcode Means and Price is high, so I'll keep the target encoding and drop the Zipcodes. The correlation between Month and Price is very low, so I'll one-hot encode."
   ]
  },
  {
   "cell_type": "code",
   "execution_count": 42,
   "metadata": {},
   "outputs": [],
   "source": [
    "kc.drop('Zipcode', axis = 1, inplace = True)"
   ]
  },
  {
   "cell_type": "markdown",
   "metadata": {},
   "source": [
    "In setting the dummies I found out that the dataset has duplicate entries for single ids. I'll drop the duplicates and reset the index."
   ]
  },
  {
   "cell_type": "code",
   "execution_count": 43,
   "metadata": {},
   "outputs": [],
   "source": [
    "kc = kc.reset_index().drop_duplicates(subset = 'id')\n",
    "kc['id'] = kc.id.astype('int')\n",
    "kc = kc.set_index('id')"
   ]
  },
  {
   "cell_type": "code",
   "execution_count": 44,
   "metadata": {},
   "outputs": [],
   "source": [
    "month_dummies = pd.get_dummies(kc.Month)\n",
    "kc = kc.join(month_dummies,on = 'id')\n",
    "kc.drop(labels = ['Month', 'Month_Means'], axis = 1, inplace = True)"
   ]
  },
  {
   "cell_type": "markdown",
   "metadata": {},
   "source": [
    "I will also drop the last month, September, since it is encoded in the other month variables (if not every other month, then it must be September). This will ensure that statsmodel doesn't inject another intercept unknowingly. "
   ]
  },
  {
   "cell_type": "code",
   "execution_count": 45,
   "metadata": {},
   "outputs": [],
   "source": [
    "kc.drop(labels = 'September', axis = 1, inplace = True)"
   ]
  },
  {
   "cell_type": "markdown",
   "metadata": {},
   "source": [
    "#### 3.6 Converting categorical data to uint8\n",
    "This is a silly step, but I have discovered that statsmodel behaves strangely when categorical data is passed to it. Statsmodel calculates an intercept when categorical data is passed into statsmodel appropriately even if the intercept has been explicitly removed."
   ]
  },
  {
   "cell_type": "code",
   "execution_count": 46,
   "metadata": {},
   "outputs": [],
   "source": [
    "columns = kc.select_dtypes('category')\n",
    "for column in columns:\n",
    "    kc[column] = kc[column].astype('uint8')"
   ]
  },
  {
   "cell_type": "code",
   "execution_count": 47,
   "metadata": {},
   "outputs": [
    {
     "name": "stdout",
     "output_type": "stream",
     "text": [
      "<class 'pandas.core.frame.DataFrame'>\n",
      "Int64Index: 20908 entries, 7129300520 to 1523300157\n",
      "Data columns (total 26 columns):\n",
      "Price             20908 non-null float64\n",
      "Bedrooms          20908 non-null int64\n",
      "Bathrooms         20908 non-null float64\n",
      "Waterfront        20908 non-null uint8\n",
      "View              20908 non-null uint8\n",
      "Grade             20908 non-null int64\n",
      "Sqft_Above        20908 non-null int64\n",
      "Sqft_Basement     20908 non-null float64\n",
      "Basement          20908 non-null uint8\n",
      "Renovated         20908 non-null uint8\n",
      "Living_Over50     20908 non-null uint8\n",
      "Living_Under50    20908 non-null uint8\n",
      "Lot_Over50        20908 non-null uint8\n",
      "Lot_Under50       20908 non-null uint8\n",
      "Zipcode_Means     20908 non-null float64\n",
      "April             20908 non-null uint8\n",
      "August            20908 non-null uint8\n",
      "December          20908 non-null uint8\n",
      "February          20908 non-null uint8\n",
      "January           20908 non-null uint8\n",
      "July              20908 non-null uint8\n",
      "June              20908 non-null uint8\n",
      "March             20908 non-null uint8\n",
      "May               20908 non-null uint8\n",
      "November          20908 non-null uint8\n",
      "October           20908 non-null uint8\n",
      "dtypes: float64(4), int64(3), uint8(19)\n",
      "memory usage: 1.7 MB\n"
     ]
    }
   ],
   "source": [
    "kc.info()"
   ]
  },
  {
   "cell_type": "markdown",
   "metadata": {},
   "source": [
    "### 3.6 Scatter Plots\n",
    "The data has been cleaned up and I now have a better sense of what to do when building the model. Now I can look at scatter plots to better understand the relatioship between the predictors and the target.\n",
    "\n",
    "One thing that I'll explore are fits for discrete data based on the median at each value. This will give me a better sense of the function that best fits each curve, which I can leverage to linearize the data before I run MLS.\n",
    "\n",
    "After making the graphs I noticed that there's a house with 33 bedrooms whose price and living area do not corroborate the number of bedrooms. I'll drop it from the dataframe since I can't be certain that it's supposed to have 3 bedrooms instead. That being said, I want to investigate the maximum values again to make sure that I haven't missed any other obvious outliers. I'll look at the scatter plots again after I've gone through the data more carefully."
   ]
  },
  {
   "cell_type": "code",
   "execution_count": 48,
   "metadata": {
    "scrolled": true
   },
   "outputs": [
    {
     "data": {
      "text/html": [
       "<div>\n",
       "<style scoped>\n",
       "    .dataframe tbody tr th:only-of-type {\n",
       "        vertical-align: middle;\n",
       "    }\n",
       "\n",
       "    .dataframe tbody tr th {\n",
       "        vertical-align: top;\n",
       "    }\n",
       "\n",
       "    .dataframe thead th {\n",
       "        text-align: right;\n",
       "    }\n",
       "</style>\n",
       "<table border=\"1\" class=\"dataframe\">\n",
       "  <thead>\n",
       "    <tr style=\"text-align: right;\">\n",
       "      <th></th>\n",
       "      <th>Price</th>\n",
       "      <th>Bedrooms</th>\n",
       "      <th>Bathrooms</th>\n",
       "      <th>Waterfront</th>\n",
       "      <th>View</th>\n",
       "      <th>Grade</th>\n",
       "      <th>Sqft_Above</th>\n",
       "      <th>Sqft_Basement</th>\n",
       "      <th>Basement</th>\n",
       "      <th>Renovated</th>\n",
       "      <th>...</th>\n",
       "      <th>August</th>\n",
       "      <th>December</th>\n",
       "      <th>February</th>\n",
       "      <th>January</th>\n",
       "      <th>July</th>\n",
       "      <th>June</th>\n",
       "      <th>March</th>\n",
       "      <th>May</th>\n",
       "      <th>November</th>\n",
       "      <th>October</th>\n",
       "    </tr>\n",
       "  </thead>\n",
       "  <tbody>\n",
       "    <tr>\n",
       "      <th>count</th>\n",
       "      <td>2.090800e+04</td>\n",
       "      <td>20908.000000</td>\n",
       "      <td>20908.000000</td>\n",
       "      <td>20908.000000</td>\n",
       "      <td>20908.000000</td>\n",
       "      <td>20908.000000</td>\n",
       "      <td>20908.000000</td>\n",
       "      <td>20908.000000</td>\n",
       "      <td>20908.000000</td>\n",
       "      <td>20908.000000</td>\n",
       "      <td>...</td>\n",
       "      <td>20908.000000</td>\n",
       "      <td>20908.000000</td>\n",
       "      <td>20908.000000</td>\n",
       "      <td>20908.000000</td>\n",
       "      <td>20908.000000</td>\n",
       "      <td>20908.000000</td>\n",
       "      <td>20908.000000</td>\n",
       "      <td>20908.000000</td>\n",
       "      <td>20908.000000</td>\n",
       "      <td>20908.000000</td>\n",
       "    </tr>\n",
       "    <tr>\n",
       "      <th>mean</th>\n",
       "      <td>5.407252e+05</td>\n",
       "      <td>3.373302</td>\n",
       "      <td>2.118603</td>\n",
       "      <td>0.006744</td>\n",
       "      <td>0.098336</td>\n",
       "      <td>7.662761</td>\n",
       "      <td>1791.673426</td>\n",
       "      <td>291.591783</td>\n",
       "      <td>0.393103</td>\n",
       "      <td>0.034341</td>\n",
       "      <td>...</td>\n",
       "      <td>0.090444</td>\n",
       "      <td>0.068204</td>\n",
       "      <td>0.056820</td>\n",
       "      <td>0.044528</td>\n",
       "      <td>0.103453</td>\n",
       "      <td>0.101684</td>\n",
       "      <td>0.085757</td>\n",
       "      <td>0.112349</td>\n",
       "      <td>0.065382</td>\n",
       "      <td>0.087287</td>\n",
       "    </tr>\n",
       "    <tr>\n",
       "      <th>std</th>\n",
       "      <td>3.672884e+05</td>\n",
       "      <td>0.924090</td>\n",
       "      <td>0.768043</td>\n",
       "      <td>0.081845</td>\n",
       "      <td>0.297775</td>\n",
       "      <td>1.171992</td>\n",
       "      <td>829.357329</td>\n",
       "      <td>442.202093</td>\n",
       "      <td>0.488451</td>\n",
       "      <td>0.182108</td>\n",
       "      <td>...</td>\n",
       "      <td>0.286823</td>\n",
       "      <td>0.252101</td>\n",
       "      <td>0.231505</td>\n",
       "      <td>0.206271</td>\n",
       "      <td>0.304557</td>\n",
       "      <td>0.302239</td>\n",
       "      <td>0.280011</td>\n",
       "      <td>0.315803</td>\n",
       "      <td>0.247204</td>\n",
       "      <td>0.282262</td>\n",
       "    </tr>\n",
       "    <tr>\n",
       "      <th>min</th>\n",
       "      <td>7.800000e+04</td>\n",
       "      <td>1.000000</td>\n",
       "      <td>0.500000</td>\n",
       "      <td>0.000000</td>\n",
       "      <td>0.000000</td>\n",
       "      <td>4.000000</td>\n",
       "      <td>370.000000</td>\n",
       "      <td>0.000000</td>\n",
       "      <td>0.000000</td>\n",
       "      <td>0.000000</td>\n",
       "      <td>...</td>\n",
       "      <td>0.000000</td>\n",
       "      <td>0.000000</td>\n",
       "      <td>0.000000</td>\n",
       "      <td>0.000000</td>\n",
       "      <td>0.000000</td>\n",
       "      <td>0.000000</td>\n",
       "      <td>0.000000</td>\n",
       "      <td>0.000000</td>\n",
       "      <td>0.000000</td>\n",
       "      <td>0.000000</td>\n",
       "    </tr>\n",
       "    <tr>\n",
       "      <th>25%</th>\n",
       "      <td>3.225000e+05</td>\n",
       "      <td>3.000000</td>\n",
       "      <td>1.750000</td>\n",
       "      <td>0.000000</td>\n",
       "      <td>0.000000</td>\n",
       "      <td>7.000000</td>\n",
       "      <td>1200.000000</td>\n",
       "      <td>0.000000</td>\n",
       "      <td>0.000000</td>\n",
       "      <td>0.000000</td>\n",
       "      <td>...</td>\n",
       "      <td>0.000000</td>\n",
       "      <td>0.000000</td>\n",
       "      <td>0.000000</td>\n",
       "      <td>0.000000</td>\n",
       "      <td>0.000000</td>\n",
       "      <td>0.000000</td>\n",
       "      <td>0.000000</td>\n",
       "      <td>0.000000</td>\n",
       "      <td>0.000000</td>\n",
       "      <td>0.000000</td>\n",
       "    </tr>\n",
       "    <tr>\n",
       "      <th>50%</th>\n",
       "      <td>4.500000e+05</td>\n",
       "      <td>3.000000</td>\n",
       "      <td>2.250000</td>\n",
       "      <td>0.000000</td>\n",
       "      <td>0.000000</td>\n",
       "      <td>7.000000</td>\n",
       "      <td>1560.000000</td>\n",
       "      <td>0.000000</td>\n",
       "      <td>0.000000</td>\n",
       "      <td>0.000000</td>\n",
       "      <td>...</td>\n",
       "      <td>0.000000</td>\n",
       "      <td>0.000000</td>\n",
       "      <td>0.000000</td>\n",
       "      <td>0.000000</td>\n",
       "      <td>0.000000</td>\n",
       "      <td>0.000000</td>\n",
       "      <td>0.000000</td>\n",
       "      <td>0.000000</td>\n",
       "      <td>0.000000</td>\n",
       "      <td>0.000000</td>\n",
       "    </tr>\n",
       "    <tr>\n",
       "      <th>75%</th>\n",
       "      <td>6.450000e+05</td>\n",
       "      <td>4.000000</td>\n",
       "      <td>2.500000</td>\n",
       "      <td>0.000000</td>\n",
       "      <td>0.000000</td>\n",
       "      <td>8.000000</td>\n",
       "      <td>2220.000000</td>\n",
       "      <td>560.000000</td>\n",
       "      <td>1.000000</td>\n",
       "      <td>0.000000</td>\n",
       "      <td>...</td>\n",
       "      <td>0.000000</td>\n",
       "      <td>0.000000</td>\n",
       "      <td>0.000000</td>\n",
       "      <td>0.000000</td>\n",
       "      <td>0.000000</td>\n",
       "      <td>0.000000</td>\n",
       "      <td>0.000000</td>\n",
       "      <td>0.000000</td>\n",
       "      <td>0.000000</td>\n",
       "      <td>0.000000</td>\n",
       "    </tr>\n",
       "    <tr>\n",
       "      <th>max</th>\n",
       "      <td>7.700000e+06</td>\n",
       "      <td>33.000000</td>\n",
       "      <td>8.000000</td>\n",
       "      <td>1.000000</td>\n",
       "      <td>1.000000</td>\n",
       "      <td>13.000000</td>\n",
       "      <td>9410.000000</td>\n",
       "      <td>4820.000000</td>\n",
       "      <td>1.000000</td>\n",
       "      <td>1.000000</td>\n",
       "      <td>...</td>\n",
       "      <td>1.000000</td>\n",
       "      <td>1.000000</td>\n",
       "      <td>1.000000</td>\n",
       "      <td>1.000000</td>\n",
       "      <td>1.000000</td>\n",
       "      <td>1.000000</td>\n",
       "      <td>1.000000</td>\n",
       "      <td>1.000000</td>\n",
       "      <td>1.000000</td>\n",
       "      <td>1.000000</td>\n",
       "    </tr>\n",
       "  </tbody>\n",
       "</table>\n",
       "<p>8 rows × 26 columns</p>\n",
       "</div>"
      ],
      "text/plain": [
       "              Price      Bedrooms     Bathrooms    Waterfront          View  \\\n",
       "count  2.090800e+04  20908.000000  20908.000000  20908.000000  20908.000000   \n",
       "mean   5.407252e+05      3.373302      2.118603      0.006744      0.098336   \n",
       "std    3.672884e+05      0.924090      0.768043      0.081845      0.297775   \n",
       "min    7.800000e+04      1.000000      0.500000      0.000000      0.000000   \n",
       "25%    3.225000e+05      3.000000      1.750000      0.000000      0.000000   \n",
       "50%    4.500000e+05      3.000000      2.250000      0.000000      0.000000   \n",
       "75%    6.450000e+05      4.000000      2.500000      0.000000      0.000000   \n",
       "max    7.700000e+06     33.000000      8.000000      1.000000      1.000000   \n",
       "\n",
       "              Grade    Sqft_Above  Sqft_Basement      Basement     Renovated  \\\n",
       "count  20908.000000  20908.000000   20908.000000  20908.000000  20908.000000   \n",
       "mean       7.662761   1791.673426     291.591783      0.393103      0.034341   \n",
       "std        1.171992    829.357329     442.202093      0.488451      0.182108   \n",
       "min        4.000000    370.000000       0.000000      0.000000      0.000000   \n",
       "25%        7.000000   1200.000000       0.000000      0.000000      0.000000   \n",
       "50%        7.000000   1560.000000       0.000000      0.000000      0.000000   \n",
       "75%        8.000000   2220.000000     560.000000      1.000000      0.000000   \n",
       "max       13.000000   9410.000000    4820.000000      1.000000      1.000000   \n",
       "\n",
       "           ...             August      December      February       January  \\\n",
       "count      ...       20908.000000  20908.000000  20908.000000  20908.000000   \n",
       "mean       ...           0.090444      0.068204      0.056820      0.044528   \n",
       "std        ...           0.286823      0.252101      0.231505      0.206271   \n",
       "min        ...           0.000000      0.000000      0.000000      0.000000   \n",
       "25%        ...           0.000000      0.000000      0.000000      0.000000   \n",
       "50%        ...           0.000000      0.000000      0.000000      0.000000   \n",
       "75%        ...           0.000000      0.000000      0.000000      0.000000   \n",
       "max        ...           1.000000      1.000000      1.000000      1.000000   \n",
       "\n",
       "               July          June         March           May      November  \\\n",
       "count  20908.000000  20908.000000  20908.000000  20908.000000  20908.000000   \n",
       "mean       0.103453      0.101684      0.085757      0.112349      0.065382   \n",
       "std        0.304557      0.302239      0.280011      0.315803      0.247204   \n",
       "min        0.000000      0.000000      0.000000      0.000000      0.000000   \n",
       "25%        0.000000      0.000000      0.000000      0.000000      0.000000   \n",
       "50%        0.000000      0.000000      0.000000      0.000000      0.000000   \n",
       "75%        0.000000      0.000000      0.000000      0.000000      0.000000   \n",
       "max        1.000000      1.000000      1.000000      1.000000      1.000000   \n",
       "\n",
       "            October  \n",
       "count  20908.000000  \n",
       "mean       0.087287  \n",
       "std        0.282262  \n",
       "min        0.000000  \n",
       "25%        0.000000  \n",
       "50%        0.000000  \n",
       "75%        0.000000  \n",
       "max        1.000000  \n",
       "\n",
       "[8 rows x 26 columns]"
      ]
     },
     "execution_count": 48,
     "metadata": {},
     "output_type": "execute_result"
    }
   ],
   "source": [
    "kc.describe()"
   ]
  },
  {
   "cell_type": "markdown",
   "metadata": {},
   "source": [
    "Everything else looks okay. I'll get rid of the house with 33 bedrooms and then check again."
   ]
  },
  {
   "cell_type": "code",
   "execution_count": 49,
   "metadata": {},
   "outputs": [],
   "source": [
    "kc.drop(labels = kc.loc[kc.Bedrooms == 33].index, inplace = True)"
   ]
  },
  {
   "cell_type": "code",
   "execution_count": 50,
   "metadata": {
    "scrolled": true
   },
   "outputs": [
    {
     "data": {
      "text/plain": [
       "count    20907.000000\n",
       "mean         3.371885\n",
       "std          0.901108\n",
       "min          1.000000\n",
       "25%          3.000000\n",
       "50%          3.000000\n",
       "75%          4.000000\n",
       "max         11.000000\n",
       "Name: Bedrooms, dtype: float64"
      ]
     },
     "execution_count": 50,
     "metadata": {},
     "output_type": "execute_result"
    }
   ],
   "source": [
    "kc.Bedrooms.describe()"
   ]
  },
  {
   "cell_type": "markdown",
   "metadata": {},
   "source": [
    "This looks much better. I'll continue by exploring the scatter plots of the median values."
   ]
  },
  {
   "cell_type": "code",
   "execution_count": 51,
   "metadata": {
    "scrolled": false
   },
   "outputs": [
    {
     "data": {
      "application/vnd.jupyter.widget-view+json": {
       "model_id": "228d1b3f68e64b048d93978f85c5e716",
       "version_major": 2,
       "version_minor": 0
      },
      "text/plain": [
       "interactive(children=(Dropdown(description='x', options=('Bedrooms', 'Bathrooms', 'Grade', 'Zipcode_Means'), v…"
      ]
     },
     "metadata": {},
     "output_type": "display_data"
    }
   ],
   "source": [
    "@interact\n",
    "def discrete_plot(x = ['Bedrooms', 'Bathrooms', 'Grade', 'Zipcode_Means'],\n",
    "                  y_function = ['linear', 'log'],\n",
    "                  x_function = ['linear', 'log', 'squared', 'square-root', 'exp']):\n",
    "    \n",
    "    fig, ax = plt.subplots(1,1,figsize = (12,8))\n",
    "    df = pd.DataFrame(kc.groupby(x).Price.median()).reset_index()\n",
    "    x = df[x]\n",
    "    y = df.Price\n",
    "    def function_mapping(data, function):\n",
    "        function_map = {'linear':data,\n",
    "                            'log':data.apply(np.log10), \n",
    "                            'squared':data.apply(np.square),\n",
    "                            'square-root':data.apply(np.sqrt), \n",
    "                            'exp':data.apply(np.exp)}\n",
    "        return function_map[function]\n",
    "    \n",
    "    x = function_mapping(x,x_function)\n",
    "    y = function_mapping(y,y_function)\n",
    "    corr = np.corrcoef(x,y)\n",
    "    corr_text = 'corr: {:1.3f}'.format(corr[1,0])\n",
    "    sns.scatterplot(x = x, y = y)\n",
    "    plt.text(.025, \n",
    "             0.95, \n",
    "             corr_text, \n",
    "             horizontalalignment='left',\n",
    "             verticalalignment='top',\n",
    "             fontsize = 16,\n",
    "             transform=ax.transAxes)\n",
    "    plt.show()\n",
    "    "
   ]
  },
  {
   "cell_type": "markdown",
   "metadata": {},
   "source": [
    "It appears that taking the log of the price data helps linearize overall. This also helps because the distribution of the price data is normal when it is log transformed. The following relationships have the best correlation values:"
   ]
  },
  {
   "cell_type": "markdown",
   "metadata": {},
   "source": [
    "| Relationship                 | Correlation Value |\n",
    "| ---------------------------- | :---------------: |\n",
    "| log(Price) ~ log(Bedrooms)   | 0.871             |\n",
    "| log(Price) ~ sqrt(Bathrooms) | 0.867             |\n",
    "| log(Price) ~ $Grade^2$       | 0.998             |\n",
    "| log(Price) ~ log(Zipcode)    | 0.992             |"
   ]
  },
  {
   "cell_type": "code",
   "execution_count": 52,
   "metadata": {},
   "outputs": [
    {
     "data": {
      "application/vnd.jupyter.widget-view+json": {
       "model_id": "9585951bc1ff4ee59ddb4d8d9f1b22fe",
       "version_major": 2,
       "version_minor": 0
      },
      "text/plain": [
       "interactive(children=(Dropdown(description='x', options=('Sqft_Above', 'Sqft_Basement'), value='Sqft_Above'), …"
      ]
     },
     "metadata": {},
     "output_type": "display_data"
    }
   ],
   "source": [
    "@interact\n",
    "def scatter_plot(x = ['Sqft_Above','Sqft_Basement'],\n",
    "                 x_function = ['linear', 'log', 'squared', 'square-root', 'exp'],\n",
    "                 hue = ['None', 'Waterfront', 'View', 'Basement', 'Renovated']):\n",
    "    \n",
    "    fig, ax = plt.subplots(1,1,figsize = (12,8))\n",
    "    def function_mapping(data, function):\n",
    "        function_map = {'linear':data,\n",
    "                            'log':data.apply(np.log10), \n",
    "                            'squared':data.apply(np.square),\n",
    "                            'square-root':data.apply(np.sqrt), \n",
    "                            'exp':data.apply(np.exp)}\n",
    "        return function_map[function]\n",
    "    x_data = kc.loc[kc[x] > 0][x]\n",
    "    x_data = function_mapping(x_data,x_function)\n",
    "    y_data = kc.loc[kc[x] > 0]['Price']\n",
    "    y_data = y_data.apply(np.log10)\n",
    "        \n",
    "    if (hue != 'None'):\n",
    "        hue = kc[hue]\n",
    "    else:\n",
    "        hue = None\n",
    "    \n",
    "    corr = np.corrcoef(x_data,y_data)\n",
    "    corr_text = 'corr: {:1.3f}'.format(corr[1,0])\n",
    "    plt.text(.025, \n",
    "             0.95, \n",
    "             corr_text, \n",
    "             horizontalalignment='left',\n",
    "             verticalalignment='top',\n",
    "             fontsize = 16,\n",
    "             transform=ax.transAxes)\n",
    "    \n",
    "    sns.scatterplot(x = x_data, y = y_data, hue = hue, ax=ax)\n",
    "    plt.show()"
   ]
  },
  {
   "cell_type": "markdown",
   "metadata": {},
   "source": [
    "While not transforming the predictors yields the best correlation values, I'm concerned that there will be a non-random pattern in the residuals if they're left alone. Log transforming Sqft_Above and taking the square root of Sqft_Basement will yield a random residual pattern in both. This relationship and the correlation values is shown below."
   ]
  },
  {
   "cell_type": "markdown",
   "metadata": {},
   "source": [
    "|Relationship|Correlation Value|\n",
    "|---|---|\n",
    "|log(Price) ~ log(Sqft Above)| 0.586 |\n",
    "|log(Price) ~ $SqftBasement^{1/2}$ | 0.374 |"
   ]
  },
  {
   "cell_type": "markdown",
   "metadata": {},
   "source": [
    "<a id=\"4\"></a>\n",
    "## 4. Modeling Data"
   ]
  },
  {
   "cell_type": "code",
   "execution_count": 53,
   "metadata": {},
   "outputs": [],
   "source": [
    "import statsmodels.formula.api as smf\n",
    "import statsmodels.api as sm"
   ]
  },
  {
   "cell_type": "markdown",
   "metadata": {},
   "source": [
    "First, I'll transform the data based on the analysis that I performed above."
   ]
  },
  {
   "cell_type": "code",
   "execution_count": 54,
   "metadata": {
    "scrolled": true
   },
   "outputs": [
    {
     "data": {
      "text/html": [
       "<div>\n",
       "<style scoped>\n",
       "    .dataframe tbody tr th:only-of-type {\n",
       "        vertical-align: middle;\n",
       "    }\n",
       "\n",
       "    .dataframe tbody tr th {\n",
       "        vertical-align: top;\n",
       "    }\n",
       "\n",
       "    .dataframe thead th {\n",
       "        text-align: right;\n",
       "    }\n",
       "</style>\n",
       "<table border=\"1\" class=\"dataframe\">\n",
       "  <thead>\n",
       "    <tr style=\"text-align: right;\">\n",
       "      <th></th>\n",
       "      <th>Price</th>\n",
       "      <th>Bedrooms</th>\n",
       "      <th>Bathrooms</th>\n",
       "      <th>Waterfront</th>\n",
       "      <th>View</th>\n",
       "      <th>Grade</th>\n",
       "      <th>Sqft_Above</th>\n",
       "      <th>Sqft_Basement</th>\n",
       "      <th>Basement</th>\n",
       "      <th>Renovated</th>\n",
       "      <th>...</th>\n",
       "      <th>August</th>\n",
       "      <th>December</th>\n",
       "      <th>February</th>\n",
       "      <th>January</th>\n",
       "      <th>July</th>\n",
       "      <th>June</th>\n",
       "      <th>March</th>\n",
       "      <th>May</th>\n",
       "      <th>November</th>\n",
       "      <th>October</th>\n",
       "    </tr>\n",
       "  </thead>\n",
       "  <tbody>\n",
       "    <tr>\n",
       "      <th>count</th>\n",
       "      <td>20907.000000</td>\n",
       "      <td>20907.000000</td>\n",
       "      <td>20907.000000</td>\n",
       "      <td>20907.000000</td>\n",
       "      <td>20907.000000</td>\n",
       "      <td>20907.000000</td>\n",
       "      <td>20907.000000</td>\n",
       "      <td>20907.000000</td>\n",
       "      <td>20907.000000</td>\n",
       "      <td>20907.000000</td>\n",
       "      <td>...</td>\n",
       "      <td>20907.000000</td>\n",
       "      <td>20907.000000</td>\n",
       "      <td>20907.000000</td>\n",
       "      <td>20907.000000</td>\n",
       "      <td>20907.000000</td>\n",
       "      <td>20907.000000</td>\n",
       "      <td>20907.000000</td>\n",
       "      <td>20907.000000</td>\n",
       "      <td>20907.000000</td>\n",
       "      <td>20907.000000</td>\n",
       "    </tr>\n",
       "    <tr>\n",
       "      <th>mean</th>\n",
       "      <td>5.667100</td>\n",
       "      <td>0.511599</td>\n",
       "      <td>1.430697</td>\n",
       "      <td>0.006744</td>\n",
       "      <td>0.098340</td>\n",
       "      <td>60.091931</td>\n",
       "      <td>3.212434</td>\n",
       "      <td>10.294986</td>\n",
       "      <td>0.393074</td>\n",
       "      <td>0.034343</td>\n",
       "      <td>...</td>\n",
       "      <td>0.090448</td>\n",
       "      <td>0.068207</td>\n",
       "      <td>0.056823</td>\n",
       "      <td>0.044531</td>\n",
       "      <td>0.103458</td>\n",
       "      <td>0.101641</td>\n",
       "      <td>0.085761</td>\n",
       "      <td>0.112355</td>\n",
       "      <td>0.065385</td>\n",
       "      <td>0.087291</td>\n",
       "    </tr>\n",
       "    <tr>\n",
       "      <th>std</th>\n",
       "      <td>0.228687</td>\n",
       "      <td>0.122320</td>\n",
       "      <td>0.267827</td>\n",
       "      <td>0.081847</td>\n",
       "      <td>0.297781</td>\n",
       "      <td>19.175547</td>\n",
       "      <td>0.185476</td>\n",
       "      <td>13.623514</td>\n",
       "      <td>0.488445</td>\n",
       "      <td>0.182112</td>\n",
       "      <td>...</td>\n",
       "      <td>0.286830</td>\n",
       "      <td>0.252107</td>\n",
       "      <td>0.231510</td>\n",
       "      <td>0.206276</td>\n",
       "      <td>0.304564</td>\n",
       "      <td>0.302182</td>\n",
       "      <td>0.280017</td>\n",
       "      <td>0.315810</td>\n",
       "      <td>0.247210</td>\n",
       "      <td>0.282268</td>\n",
       "    </tr>\n",
       "    <tr>\n",
       "      <th>min</th>\n",
       "      <td>4.892095</td>\n",
       "      <td>0.000000</td>\n",
       "      <td>0.707107</td>\n",
       "      <td>0.000000</td>\n",
       "      <td>0.000000</td>\n",
       "      <td>16.000000</td>\n",
       "      <td>2.568202</td>\n",
       "      <td>0.000000</td>\n",
       "      <td>0.000000</td>\n",
       "      <td>0.000000</td>\n",
       "      <td>...</td>\n",
       "      <td>0.000000</td>\n",
       "      <td>0.000000</td>\n",
       "      <td>0.000000</td>\n",
       "      <td>0.000000</td>\n",
       "      <td>0.000000</td>\n",
       "      <td>0.000000</td>\n",
       "      <td>0.000000</td>\n",
       "      <td>0.000000</td>\n",
       "      <td>0.000000</td>\n",
       "      <td>0.000000</td>\n",
       "    </tr>\n",
       "    <tr>\n",
       "      <th>25%</th>\n",
       "      <td>5.508530</td>\n",
       "      <td>0.477121</td>\n",
       "      <td>1.322876</td>\n",
       "      <td>0.000000</td>\n",
       "      <td>0.000000</td>\n",
       "      <td>49.000000</td>\n",
       "      <td>3.079181</td>\n",
       "      <td>0.000000</td>\n",
       "      <td>0.000000</td>\n",
       "      <td>0.000000</td>\n",
       "      <td>...</td>\n",
       "      <td>0.000000</td>\n",
       "      <td>0.000000</td>\n",
       "      <td>0.000000</td>\n",
       "      <td>0.000000</td>\n",
       "      <td>0.000000</td>\n",
       "      <td>0.000000</td>\n",
       "      <td>0.000000</td>\n",
       "      <td>0.000000</td>\n",
       "      <td>0.000000</td>\n",
       "      <td>0.000000</td>\n",
       "    </tr>\n",
       "    <tr>\n",
       "      <th>50%</th>\n",
       "      <td>5.653213</td>\n",
       "      <td>0.477121</td>\n",
       "      <td>1.500000</td>\n",
       "      <td>0.000000</td>\n",
       "      <td>0.000000</td>\n",
       "      <td>49.000000</td>\n",
       "      <td>3.193125</td>\n",
       "      <td>0.000000</td>\n",
       "      <td>0.000000</td>\n",
       "      <td>0.000000</td>\n",
       "      <td>...</td>\n",
       "      <td>0.000000</td>\n",
       "      <td>0.000000</td>\n",
       "      <td>0.000000</td>\n",
       "      <td>0.000000</td>\n",
       "      <td>0.000000</td>\n",
       "      <td>0.000000</td>\n",
       "      <td>0.000000</td>\n",
       "      <td>0.000000</td>\n",
       "      <td>0.000000</td>\n",
       "      <td>0.000000</td>\n",
       "    </tr>\n",
       "    <tr>\n",
       "      <th>75%</th>\n",
       "      <td>5.809560</td>\n",
       "      <td>0.602060</td>\n",
       "      <td>1.581139</td>\n",
       "      <td>0.000000</td>\n",
       "      <td>0.000000</td>\n",
       "      <td>64.000000</td>\n",
       "      <td>3.346353</td>\n",
       "      <td>23.664319</td>\n",
       "      <td>1.000000</td>\n",
       "      <td>0.000000</td>\n",
       "      <td>...</td>\n",
       "      <td>0.000000</td>\n",
       "      <td>0.000000</td>\n",
       "      <td>0.000000</td>\n",
       "      <td>0.000000</td>\n",
       "      <td>0.000000</td>\n",
       "      <td>0.000000</td>\n",
       "      <td>0.000000</td>\n",
       "      <td>0.000000</td>\n",
       "      <td>0.000000</td>\n",
       "      <td>0.000000</td>\n",
       "    </tr>\n",
       "    <tr>\n",
       "      <th>max</th>\n",
       "      <td>6.886491</td>\n",
       "      <td>1.041393</td>\n",
       "      <td>2.828427</td>\n",
       "      <td>1.000000</td>\n",
       "      <td>1.000000</td>\n",
       "      <td>169.000000</td>\n",
       "      <td>3.973590</td>\n",
       "      <td>69.426220</td>\n",
       "      <td>1.000000</td>\n",
       "      <td>1.000000</td>\n",
       "      <td>...</td>\n",
       "      <td>1.000000</td>\n",
       "      <td>1.000000</td>\n",
       "      <td>1.000000</td>\n",
       "      <td>1.000000</td>\n",
       "      <td>1.000000</td>\n",
       "      <td>1.000000</td>\n",
       "      <td>1.000000</td>\n",
       "      <td>1.000000</td>\n",
       "      <td>1.000000</td>\n",
       "      <td>1.000000</td>\n",
       "    </tr>\n",
       "  </tbody>\n",
       "</table>\n",
       "<p>8 rows × 26 columns</p>\n",
       "</div>"
      ],
      "text/plain": [
       "              Price      Bedrooms     Bathrooms    Waterfront          View  \\\n",
       "count  20907.000000  20907.000000  20907.000000  20907.000000  20907.000000   \n",
       "mean       5.667100      0.511599      1.430697      0.006744      0.098340   \n",
       "std        0.228687      0.122320      0.267827      0.081847      0.297781   \n",
       "min        4.892095      0.000000      0.707107      0.000000      0.000000   \n",
       "25%        5.508530      0.477121      1.322876      0.000000      0.000000   \n",
       "50%        5.653213      0.477121      1.500000      0.000000      0.000000   \n",
       "75%        5.809560      0.602060      1.581139      0.000000      0.000000   \n",
       "max        6.886491      1.041393      2.828427      1.000000      1.000000   \n",
       "\n",
       "              Grade    Sqft_Above  Sqft_Basement      Basement     Renovated  \\\n",
       "count  20907.000000  20907.000000   20907.000000  20907.000000  20907.000000   \n",
       "mean      60.091931      3.212434      10.294986      0.393074      0.034343   \n",
       "std       19.175547      0.185476      13.623514      0.488445      0.182112   \n",
       "min       16.000000      2.568202       0.000000      0.000000      0.000000   \n",
       "25%       49.000000      3.079181       0.000000      0.000000      0.000000   \n",
       "50%       49.000000      3.193125       0.000000      0.000000      0.000000   \n",
       "75%       64.000000      3.346353      23.664319      1.000000      0.000000   \n",
       "max      169.000000      3.973590      69.426220      1.000000      1.000000   \n",
       "\n",
       "           ...             August      December      February       January  \\\n",
       "count      ...       20907.000000  20907.000000  20907.000000  20907.000000   \n",
       "mean       ...           0.090448      0.068207      0.056823      0.044531   \n",
       "std        ...           0.286830      0.252107      0.231510      0.206276   \n",
       "min        ...           0.000000      0.000000      0.000000      0.000000   \n",
       "25%        ...           0.000000      0.000000      0.000000      0.000000   \n",
       "50%        ...           0.000000      0.000000      0.000000      0.000000   \n",
       "75%        ...           0.000000      0.000000      0.000000      0.000000   \n",
       "max        ...           1.000000      1.000000      1.000000      1.000000   \n",
       "\n",
       "               July          June         March           May      November  \\\n",
       "count  20907.000000  20907.000000  20907.000000  20907.000000  20907.000000   \n",
       "mean       0.103458      0.101641      0.085761      0.112355      0.065385   \n",
       "std        0.304564      0.302182      0.280017      0.315810      0.247210   \n",
       "min        0.000000      0.000000      0.000000      0.000000      0.000000   \n",
       "25%        0.000000      0.000000      0.000000      0.000000      0.000000   \n",
       "50%        0.000000      0.000000      0.000000      0.000000      0.000000   \n",
       "75%        0.000000      0.000000      0.000000      0.000000      0.000000   \n",
       "max        1.000000      1.000000      1.000000      1.000000      1.000000   \n",
       "\n",
       "            October  \n",
       "count  20907.000000  \n",
       "mean       0.087291  \n",
       "std        0.282268  \n",
       "min        0.000000  \n",
       "25%        0.000000  \n",
       "50%        0.000000  \n",
       "75%        0.000000  \n",
       "max        1.000000  \n",
       "\n",
       "[8 rows x 26 columns]"
      ]
     },
     "execution_count": 54,
     "metadata": {},
     "output_type": "execute_result"
    }
   ],
   "source": [
    "kc_transformed = kc.copy()\n",
    "transform = {'Price':np.log10, \n",
    "             'Bedrooms':np.log10, \n",
    "             'Bathrooms':np.sqrt, \n",
    "             'Grade':np.square, \n",
    "             'Sqft_Above':np.log10, \n",
    "             'Sqft_Basement':np.sqrt,\n",
    "             'Zipcode_Means':np.log10}\n",
    "\n",
    "for column in list(kc.columns):\n",
    "    if column in transform.keys():\n",
    "        kc_transformed[column] = kc_transformed[column].apply(transform[column])\n",
    "kc_transformed.describe()"
   ]
  },
  {
   "cell_type": "markdown",
   "metadata": {},
   "source": [
    "I will normalize the data since the range for each column is significantly different from the others."
   ]
  },
  {
   "cell_type": "code",
   "execution_count": 55,
   "metadata": {
    "scrolled": false
   },
   "outputs": [
    {
     "data": {
      "text/html": [
       "<div>\n",
       "<style scoped>\n",
       "    .dataframe tbody tr th:only-of-type {\n",
       "        vertical-align: middle;\n",
       "    }\n",
       "\n",
       "    .dataframe tbody tr th {\n",
       "        vertical-align: top;\n",
       "    }\n",
       "\n",
       "    .dataframe thead th {\n",
       "        text-align: right;\n",
       "    }\n",
       "</style>\n",
       "<table border=\"1\" class=\"dataframe\">\n",
       "  <thead>\n",
       "    <tr style=\"text-align: right;\">\n",
       "      <th></th>\n",
       "      <th>Price</th>\n",
       "      <th>Bedrooms</th>\n",
       "      <th>Bathrooms</th>\n",
       "      <th>Waterfront</th>\n",
       "      <th>View</th>\n",
       "      <th>Grade</th>\n",
       "      <th>Sqft_Above</th>\n",
       "      <th>Sqft_Basement</th>\n",
       "      <th>Basement</th>\n",
       "      <th>Renovated</th>\n",
       "      <th>...</th>\n",
       "      <th>August</th>\n",
       "      <th>December</th>\n",
       "      <th>February</th>\n",
       "      <th>January</th>\n",
       "      <th>July</th>\n",
       "      <th>June</th>\n",
       "      <th>March</th>\n",
       "      <th>May</th>\n",
       "      <th>November</th>\n",
       "      <th>October</th>\n",
       "    </tr>\n",
       "  </thead>\n",
       "  <tbody>\n",
       "    <tr>\n",
       "      <th>min</th>\n",
       "      <td>0.0</td>\n",
       "      <td>0.0</td>\n",
       "      <td>0.0</td>\n",
       "      <td>0.0</td>\n",
       "      <td>0.0</td>\n",
       "      <td>0.0</td>\n",
       "      <td>0.0</td>\n",
       "      <td>0.0</td>\n",
       "      <td>0.0</td>\n",
       "      <td>0.0</td>\n",
       "      <td>...</td>\n",
       "      <td>0.0</td>\n",
       "      <td>0.0</td>\n",
       "      <td>0.0</td>\n",
       "      <td>0.0</td>\n",
       "      <td>0.0</td>\n",
       "      <td>0.0</td>\n",
       "      <td>0.0</td>\n",
       "      <td>0.0</td>\n",
       "      <td>0.0</td>\n",
       "      <td>0.0</td>\n",
       "    </tr>\n",
       "    <tr>\n",
       "      <th>max</th>\n",
       "      <td>1.0</td>\n",
       "      <td>1.0</td>\n",
       "      <td>1.0</td>\n",
       "      <td>1.0</td>\n",
       "      <td>1.0</td>\n",
       "      <td>1.0</td>\n",
       "      <td>1.0</td>\n",
       "      <td>1.0</td>\n",
       "      <td>1.0</td>\n",
       "      <td>1.0</td>\n",
       "      <td>...</td>\n",
       "      <td>1.0</td>\n",
       "      <td>1.0</td>\n",
       "      <td>1.0</td>\n",
       "      <td>1.0</td>\n",
       "      <td>1.0</td>\n",
       "      <td>1.0</td>\n",
       "      <td>1.0</td>\n",
       "      <td>1.0</td>\n",
       "      <td>1.0</td>\n",
       "      <td>1.0</td>\n",
       "    </tr>\n",
       "  </tbody>\n",
       "</table>\n",
       "<p>2 rows × 26 columns</p>\n",
       "</div>"
      ],
      "text/plain": [
       "     Price  Bedrooms  Bathrooms  Waterfront  View  Grade  Sqft_Above  \\\n",
       "min    0.0       0.0        0.0         0.0   0.0    0.0         0.0   \n",
       "max    1.0       1.0        1.0         1.0   1.0    1.0         1.0   \n",
       "\n",
       "     Sqft_Basement  Basement  Renovated   ...     August  December  February  \\\n",
       "min            0.0       0.0        0.0   ...        0.0       0.0       0.0   \n",
       "max            1.0       1.0        1.0   ...        1.0       1.0       1.0   \n",
       "\n",
       "     January  July  June  March  May  November  October  \n",
       "min      0.0   0.0   0.0    0.0  0.0       0.0      0.0  \n",
       "max      1.0   1.0   1.0    1.0  1.0       1.0      1.0  \n",
       "\n",
       "[2 rows x 26 columns]"
      ]
     },
     "execution_count": 55,
     "metadata": {},
     "output_type": "execute_result"
    }
   ],
   "source": [
    "kc_transformed_scaled = kc_transformed.copy()\n",
    "to_scale = kc_transformed_scaled.select_dtypes(include = [np.number]).columns\n",
    "for column in list(to_scale):\n",
    "    data = kc_transformed_scaled[column]\n",
    "    kc_transformed_scaled[column] = (data - data.min())/(data.max()-data.min())\n",
    "kc_transformed_scaled.agg(['min', 'max'])"
   ]
  },
  {
   "cell_type": "markdown",
   "metadata": {},
   "source": [
    "Wonderful! Now I can build the model using the transformed and scaled data. I'll make training and testing sets to work with from now on. First I'll make the formula."
   ]
  },
  {
   "cell_type": "code",
   "execution_count": 56,
   "metadata": {},
   "outputs": [
    {
     "name": "stdout",
     "output_type": "stream",
     "text": [
      "Price ~ Bedrooms + Bathrooms + Waterfront + View + Grade + Sqft_Above + Sqft_Basement + Basement + Renovated + Living_Over50 + Living_Under50 + Lot_Over50 + Lot_Under50 + Zipcode_Means + April + August + December + February + January + July + June + March + May + November + October - 1\n",
      "25\n"
     ]
    }
   ],
   "source": [
    "predictors = kc_transformed_scaled.drop(labels = 'Price', axis = 1).copy()\n",
    "target = kc_transformed_scaled.Price.copy()\n",
    "predictor_list = list(predictors.columns)\n",
    "formula = 'Price ~ ' + ' + '.join(list(predictors.columns)) + ' - 1'\n",
    "print(formula)\n",
    "print(len(predictors.columns))"
   ]
  },
  {
   "cell_type": "markdown",
   "metadata": {},
   "source": [
    "This formula accounts for all 26 predictors. I'm concerned about two things: 1) this is way too many predictors, so the model may not be sensical, and 2) there is likely still correlation between predictors. It will be easy to see if there are indeed to many predictors - the model will have some predictors whose coefficients are not statistically significant if too many predictors are confounding the results. It should also be easy to see if correlation between predictors is causing a problem by checking the values of the coefficients against our understanding of the problem. For example, we know that more bedrooms, more bathrooms, and more space indicate a higher price. If any of these coefficients are negative, then it stands to reason that interactions between the predictors is causing a problem in the model. I'll perform a multiple linear regression and look at the outputs.\n",
    "\n",
    "The train/test set is made below."
   ]
  },
  {
   "cell_type": "code",
   "execution_count": 57,
   "metadata": {},
   "outputs": [],
   "source": [
    "from sklearn.model_selection import train_test_split\n",
    "\n",
    "predictor_train, predictor_test, target_train, target_test = train_test_split(\n",
    "    predictors, target, test_size=0.20, random_state=42) # Seed with 42 for reproducibility"
   ]
  },
  {
   "cell_type": "code",
   "execution_count": 58,
   "metadata": {},
   "outputs": [
    {
     "data": {
      "text/html": [
       "<table class=\"simpletable\">\n",
       "<caption>OLS Regression Results</caption>\n",
       "<tr>\n",
       "  <th>Dep. Variable:</th>          <td>Price</td>      <th>  R-squared:         </th>  <td>   0.986</td> \n",
       "</tr>\n",
       "<tr>\n",
       "  <th>Model:</th>                   <td>OLS</td>       <th>  Adj. R-squared:    </th>  <td>   0.986</td> \n",
       "</tr>\n",
       "<tr>\n",
       "  <th>Method:</th>             <td>Least Squares</td>  <th>  F-statistic:       </th>  <td>4.752e+04</td>\n",
       "</tr>\n",
       "<tr>\n",
       "  <th>Date:</th>             <td>Tue, 05 Feb 2019</td> <th>  Prob (F-statistic):</th>   <td>  0.00</td>  \n",
       "</tr>\n",
       "<tr>\n",
       "  <th>Time:</th>                 <td>19:13:08</td>     <th>  Log-Likelihood:    </th>  <td>  27162.</td> \n",
       "</tr>\n",
       "<tr>\n",
       "  <th>No. Observations:</th>      <td> 16725</td>      <th>  AIC:               </th> <td>-5.427e+04</td>\n",
       "</tr>\n",
       "<tr>\n",
       "  <th>Df Residuals:</th>          <td> 16700</td>      <th>  BIC:               </th> <td>-5.408e+04</td>\n",
       "</tr>\n",
       "<tr>\n",
       "  <th>Df Model:</th>              <td>    25</td>      <th>                     </th>      <td> </td>    \n",
       "</tr>\n",
       "<tr>\n",
       "  <th>Covariance Type:</th>      <td>nonrobust</td>    <th>                     </th>      <td> </td>    \n",
       "</tr>\n",
       "</table>\n",
       "<table class=\"simpletable\">\n",
       "<tr>\n",
       "         <td></td>           <th>coef</th>     <th>std err</th>      <th>t</th>      <th>P>|t|</th>  <th>[0.025</th>    <th>0.975]</th>  \n",
       "</tr>\n",
       "<tr>\n",
       "  <th>Bedrooms</th>       <td>    0.0343</td> <td>    0.004</td> <td>    8.826</td> <td> 0.000</td> <td>    0.027</td> <td>    0.042</td>\n",
       "</tr>\n",
       "<tr>\n",
       "  <th>Bathrooms</th>      <td>   -0.0094</td> <td>    0.005</td> <td>   -2.006</td> <td> 0.045</td> <td>   -0.019</td> <td>   -0.000</td>\n",
       "</tr>\n",
       "<tr>\n",
       "  <th>Waterfront</th>     <td>    0.1086</td> <td>    0.005</td> <td>   22.764</td> <td> 0.000</td> <td>    0.099</td> <td>    0.118</td>\n",
       "</tr>\n",
       "<tr>\n",
       "  <th>View</th>           <td>    0.0381</td> <td>    0.001</td> <td>   27.905</td> <td> 0.000</td> <td>    0.035</td> <td>    0.041</td>\n",
       "</tr>\n",
       "<tr>\n",
       "  <th>Grade</th>          <td>    0.1882</td> <td>    0.005</td> <td>   37.683</td> <td> 0.000</td> <td>    0.178</td> <td>    0.198</td>\n",
       "</tr>\n",
       "<tr>\n",
       "  <th>Sqft_Above</th>     <td>    0.3258</td> <td>    0.006</td> <td>   56.213</td> <td> 0.000</td> <td>    0.314</td> <td>    0.337</td>\n",
       "</tr>\n",
       "<tr>\n",
       "  <th>Sqft_Basement</th>  <td>    0.0656</td> <td>    0.006</td> <td>   11.156</td> <td> 0.000</td> <td>    0.054</td> <td>    0.077</td>\n",
       "</tr>\n",
       "<tr>\n",
       "  <th>Basement</th>       <td>    0.0199</td> <td>    0.002</td> <td>    8.820</td> <td> 0.000</td> <td>    0.015</td> <td>    0.024</td>\n",
       "</tr>\n",
       "<tr>\n",
       "  <th>Renovated</th>      <td>    0.0215</td> <td>    0.002</td> <td>   10.622</td> <td> 0.000</td> <td>    0.018</td> <td>    0.026</td>\n",
       "</tr>\n",
       "<tr>\n",
       "  <th>Living_Over50</th>  <td>    0.0061</td> <td>    0.001</td> <td>    4.104</td> <td> 0.000</td> <td>    0.003</td> <td>    0.009</td>\n",
       "</tr>\n",
       "<tr>\n",
       "  <th>Living_Under50</th> <td>    0.0331</td> <td>    0.003</td> <td>   10.438</td> <td> 0.000</td> <td>    0.027</td> <td>    0.039</td>\n",
       "</tr>\n",
       "<tr>\n",
       "  <th>Lot_Over50</th>     <td>    0.0112</td> <td>    0.001</td> <td>    7.962</td> <td> 0.000</td> <td>    0.008</td> <td>    0.014</td>\n",
       "</tr>\n",
       "<tr>\n",
       "  <th>Lot_Under50</th>    <td>   -0.0069</td> <td>    0.003</td> <td>   -2.523</td> <td> 0.012</td> <td>   -0.012</td> <td>   -0.002</td>\n",
       "</tr>\n",
       "<tr>\n",
       "  <th>Zipcode_Means</th>  <td>    0.3547</td> <td>    0.002</td> <td>  160.414</td> <td> 0.000</td> <td>    0.350</td> <td>    0.359</td>\n",
       "</tr>\n",
       "<tr>\n",
       "  <th>April</th>          <td>    0.0390</td> <td>    0.002</td> <td>   24.745</td> <td> 0.000</td> <td>    0.036</td> <td>    0.042</td>\n",
       "</tr>\n",
       "<tr>\n",
       "  <th>August</th>         <td>    0.0235</td> <td>    0.002</td> <td>   14.476</td> <td> 0.000</td> <td>    0.020</td> <td>    0.027</td>\n",
       "</tr>\n",
       "<tr>\n",
       "  <th>December</th>       <td>    0.0229</td> <td>    0.002</td> <td>   12.925</td> <td> 0.000</td> <td>    0.019</td> <td>    0.026</td>\n",
       "</tr>\n",
       "<tr>\n",
       "  <th>February</th>       <td>    0.0264</td> <td>    0.002</td> <td>   13.932</td> <td> 0.000</td> <td>    0.023</td> <td>    0.030</td>\n",
       "</tr>\n",
       "<tr>\n",
       "  <th>January</th>        <td>    0.0206</td> <td>    0.002</td> <td>   10.083</td> <td> 0.000</td> <td>    0.017</td> <td>    0.025</td>\n",
       "</tr>\n",
       "<tr>\n",
       "  <th>July</th>           <td>    0.0228</td> <td>    0.002</td> <td>   14.504</td> <td> 0.000</td> <td>    0.020</td> <td>    0.026</td>\n",
       "</tr>\n",
       "<tr>\n",
       "  <th>June</th>           <td>    0.0253</td> <td>    0.002</td> <td>   16.086</td> <td> 0.000</td> <td>    0.022</td> <td>    0.028</td>\n",
       "</tr>\n",
       "<tr>\n",
       "  <th>March</th>          <td>    0.0314</td> <td>    0.002</td> <td>   19.062</td> <td> 0.000</td> <td>    0.028</td> <td>    0.035</td>\n",
       "</tr>\n",
       "<tr>\n",
       "  <th>May</th>            <td>    0.0274</td> <td>    0.002</td> <td>   17.885</td> <td> 0.000</td> <td>    0.024</td> <td>    0.030</td>\n",
       "</tr>\n",
       "<tr>\n",
       "  <th>November</th>       <td>    0.0219</td> <td>    0.002</td> <td>   12.222</td> <td> 0.000</td> <td>    0.018</td> <td>    0.025</td>\n",
       "</tr>\n",
       "<tr>\n",
       "  <th>October</th>        <td>    0.0230</td> <td>    0.002</td> <td>   14.024</td> <td> 0.000</td> <td>    0.020</td> <td>    0.026</td>\n",
       "</tr>\n",
       "</table>\n",
       "<table class=\"simpletable\">\n",
       "<tr>\n",
       "  <th>Omnibus:</th>       <td>394.011</td> <th>  Durbin-Watson:     </th> <td>   2.004</td> \n",
       "</tr>\n",
       "<tr>\n",
       "  <th>Prob(Omnibus):</th> <td> 0.000</td>  <th>  Jarque-Bera (JB):  </th> <td> 920.264</td> \n",
       "</tr>\n",
       "<tr>\n",
       "  <th>Skew:</th>          <td> 0.028</td>  <th>  Prob(JB):          </th> <td>1.47e-200</td>\n",
       "</tr>\n",
       "<tr>\n",
       "  <th>Kurtosis:</th>      <td> 4.148</td>  <th>  Cond. No.          </th> <td>    21.8</td> \n",
       "</tr>\n",
       "</table><br/><br/>Warnings:<br/>[1] Standard Errors assume that the covariance matrix of the errors is correctly specified."
      ],
      "text/plain": [
       "<class 'statsmodels.iolib.summary.Summary'>\n",
       "\"\"\"\n",
       "                            OLS Regression Results                            \n",
       "==============================================================================\n",
       "Dep. Variable:                  Price   R-squared:                       0.986\n",
       "Model:                            OLS   Adj. R-squared:                  0.986\n",
       "Method:                 Least Squares   F-statistic:                 4.752e+04\n",
       "Date:                Tue, 05 Feb 2019   Prob (F-statistic):               0.00\n",
       "Time:                        19:13:08   Log-Likelihood:                 27162.\n",
       "No. Observations:               16725   AIC:                        -5.427e+04\n",
       "Df Residuals:                   16700   BIC:                        -5.408e+04\n",
       "Df Model:                          25                                         \n",
       "Covariance Type:            nonrobust                                         \n",
       "==================================================================================\n",
       "                     coef    std err          t      P>|t|      [0.025      0.975]\n",
       "----------------------------------------------------------------------------------\n",
       "Bedrooms           0.0343      0.004      8.826      0.000       0.027       0.042\n",
       "Bathrooms         -0.0094      0.005     -2.006      0.045      -0.019      -0.000\n",
       "Waterfront         0.1086      0.005     22.764      0.000       0.099       0.118\n",
       "View               0.0381      0.001     27.905      0.000       0.035       0.041\n",
       "Grade              0.1882      0.005     37.683      0.000       0.178       0.198\n",
       "Sqft_Above         0.3258      0.006     56.213      0.000       0.314       0.337\n",
       "Sqft_Basement      0.0656      0.006     11.156      0.000       0.054       0.077\n",
       "Basement           0.0199      0.002      8.820      0.000       0.015       0.024\n",
       "Renovated          0.0215      0.002     10.622      0.000       0.018       0.026\n",
       "Living_Over50      0.0061      0.001      4.104      0.000       0.003       0.009\n",
       "Living_Under50     0.0331      0.003     10.438      0.000       0.027       0.039\n",
       "Lot_Over50         0.0112      0.001      7.962      0.000       0.008       0.014\n",
       "Lot_Under50       -0.0069      0.003     -2.523      0.012      -0.012      -0.002\n",
       "Zipcode_Means      0.3547      0.002    160.414      0.000       0.350       0.359\n",
       "April              0.0390      0.002     24.745      0.000       0.036       0.042\n",
       "August             0.0235      0.002     14.476      0.000       0.020       0.027\n",
       "December           0.0229      0.002     12.925      0.000       0.019       0.026\n",
       "February           0.0264      0.002     13.932      0.000       0.023       0.030\n",
       "January            0.0206      0.002     10.083      0.000       0.017       0.025\n",
       "July               0.0228      0.002     14.504      0.000       0.020       0.026\n",
       "June               0.0253      0.002     16.086      0.000       0.022       0.028\n",
       "March              0.0314      0.002     19.062      0.000       0.028       0.035\n",
       "May                0.0274      0.002     17.885      0.000       0.024       0.030\n",
       "November           0.0219      0.002     12.222      0.000       0.018       0.025\n",
       "October            0.0230      0.002     14.024      0.000       0.020       0.026\n",
       "==============================================================================\n",
       "Omnibus:                      394.011   Durbin-Watson:                   2.004\n",
       "Prob(Omnibus):                  0.000   Jarque-Bera (JB):              920.264\n",
       "Skew:                           0.028   Prob(JB):                    1.47e-200\n",
       "Kurtosis:                       4.148   Cond. No.                         21.8\n",
       "==============================================================================\n",
       "\n",
       "Warnings:\n",
       "[1] Standard Errors assume that the covariance matrix of the errors is correctly specified.\n",
       "\"\"\""
      ]
     },
     "execution_count": 58,
     "metadata": {},
     "output_type": "execute_result"
    }
   ],
   "source": [
    "mod = smf.ols(formula=formula, data = predictor_train.join(target_train))\n",
    "res = mod.fit()\n",
    "res.summary()"
   ]
  },
  {
   "cell_type": "markdown",
   "metadata": {},
   "source": [
    "Woah! An $r^2$ value of 0.986! This model clearly fits the training data very well, though the same may not be the case for the test data. There are other problems, too. The fact that predictors are correlated with each other is causing problems that show up as non-sensical coefficient estimates. There is a negative correlation for bathrooms (!), for example. I'll perform RFE with cross validation in order to obtain a better model, though I imagine that I'll likely end up with the same problems since RFE only looks to optimize $r^2$, RMSE, or other similar indicators. Maybe this is an opportunity to build my own forward selector?\n"
   ]
  },
  {
   "cell_type": "code",
   "execution_count": 59,
   "metadata": {},
   "outputs": [],
   "source": [
    "from sklearn.feature_selection import RFECV\n",
    "from sklearn.svm import SVR"
   ]
  },
  {
   "cell_type": "code",
   "execution_count": 60,
   "metadata": {},
   "outputs": [],
   "source": [
    "estimator = SVR(kernel = 'linear')\n",
    "selector = RFECV(estimator = estimator, cv = 3, scoring = 'neg_mean_squared_error')"
   ]
  },
  {
   "cell_type": "code",
   "execution_count": 61,
   "metadata": {},
   "outputs": [],
   "source": [
    "selector = selector.fit(predictor_train, target_train)"
   ]
  },
  {
   "cell_type": "code",
   "execution_count": 62,
   "metadata": {},
   "outputs": [],
   "source": [
    "RFE_predictors = predictor_train.columns[selector.get_support()]"
   ]
  },
  {
   "cell_type": "code",
   "execution_count": 63,
   "metadata": {},
   "outputs": [
    {
     "name": "stdout",
     "output_type": "stream",
     "text": [
      "Price ~ Bedrooms + Bathrooms + Waterfront + View + Grade + Sqft_Above + Sqft_Basement + Basement + Renovated + Lot_Over50 + Lot_Under50 + Zipcode_Means + April + May - 1\n"
     ]
    }
   ],
   "source": [
    "formula = 'Price ~ ' + ' + '.join(RFE_predictors) + ' - 1'\n",
    "print(formula)"
   ]
  },
  {
   "cell_type": "code",
   "execution_count": 64,
   "metadata": {},
   "outputs": [
    {
     "data": {
      "text/html": [
       "<table class=\"simpletable\">\n",
       "<caption>OLS Regression Results</caption>\n",
       "<tr>\n",
       "  <th>Dep. Variable:</th>          <td>Price</td>      <th>  R-squared:         </th>  <td>   0.986</td> \n",
       "</tr>\n",
       "<tr>\n",
       "  <th>Model:</th>                   <td>OLS</td>       <th>  Adj. R-squared:    </th>  <td>   0.986</td> \n",
       "</tr>\n",
       "<tr>\n",
       "  <th>Method:</th>             <td>Least Squares</td>  <th>  F-statistic:       </th>  <td>8.156e+04</td>\n",
       "</tr>\n",
       "<tr>\n",
       "  <th>Date:</th>             <td>Tue, 05 Feb 2019</td> <th>  Prob (F-statistic):</th>   <td>  0.00</td>  \n",
       "</tr>\n",
       "<tr>\n",
       "  <th>Time:</th>                 <td>19:13:56</td>     <th>  Log-Likelihood:    </th>  <td>  26830.</td> \n",
       "</tr>\n",
       "<tr>\n",
       "  <th>No. Observations:</th>      <td> 16725</td>      <th>  AIC:               </th> <td>-5.363e+04</td>\n",
       "</tr>\n",
       "<tr>\n",
       "  <th>Df Residuals:</th>          <td> 16711</td>      <th>  BIC:               </th> <td>-5.352e+04</td>\n",
       "</tr>\n",
       "<tr>\n",
       "  <th>Df Model:</th>              <td>    14</td>      <th>                     </th>      <td> </td>    \n",
       "</tr>\n",
       "<tr>\n",
       "  <th>Covariance Type:</th>      <td>nonrobust</td>    <th>                     </th>      <td> </td>    \n",
       "</tr>\n",
       "</table>\n",
       "<table class=\"simpletable\">\n",
       "<tr>\n",
       "        <td></td>           <th>coef</th>     <th>std err</th>      <th>t</th>      <th>P>|t|</th>  <th>[0.025</th>    <th>0.975]</th>  \n",
       "</tr>\n",
       "<tr>\n",
       "  <th>Bedrooms</th>      <td>    0.0595</td> <td>    0.004</td> <td>   15.837</td> <td> 0.000</td> <td>    0.052</td> <td>    0.067</td>\n",
       "</tr>\n",
       "<tr>\n",
       "  <th>Bathrooms</th>     <td>   -0.0154</td> <td>    0.005</td> <td>   -3.206</td> <td> 0.001</td> <td>   -0.025</td> <td>   -0.006</td>\n",
       "</tr>\n",
       "<tr>\n",
       "  <th>Waterfront</th>    <td>    0.1104</td> <td>    0.005</td> <td>   22.685</td> <td> 0.000</td> <td>    0.101</td> <td>    0.120</td>\n",
       "</tr>\n",
       "<tr>\n",
       "  <th>View</th>          <td>    0.0379</td> <td>    0.001</td> <td>   27.300</td> <td> 0.000</td> <td>    0.035</td> <td>    0.041</td>\n",
       "</tr>\n",
       "<tr>\n",
       "  <th>Grade</th>         <td>    0.1796</td> <td>    0.005</td> <td>   35.426</td> <td> 0.000</td> <td>    0.170</td> <td>    0.189</td>\n",
       "</tr>\n",
       "<tr>\n",
       "  <th>Sqft_Above</th>    <td>    0.3471</td> <td>    0.006</td> <td>   60.324</td> <td> 0.000</td> <td>    0.336</td> <td>    0.358</td>\n",
       "</tr>\n",
       "<tr>\n",
       "  <th>Sqft_Basement</th> <td>    0.0520</td> <td>    0.006</td> <td>    8.945</td> <td> 0.000</td> <td>    0.041</td> <td>    0.063</td>\n",
       "</tr>\n",
       "<tr>\n",
       "  <th>Basement</th>      <td>    0.0270</td> <td>    0.002</td> <td>   11.995</td> <td> 0.000</td> <td>    0.023</td> <td>    0.031</td>\n",
       "</tr>\n",
       "<tr>\n",
       "  <th>Renovated</th>     <td>    0.0223</td> <td>    0.002</td> <td>   10.784</td> <td> 0.000</td> <td>    0.018</td> <td>    0.026</td>\n",
       "</tr>\n",
       "<tr>\n",
       "  <th>Lot_Over50</th>    <td>    0.0123</td> <td>    0.001</td> <td>    8.609</td> <td> 0.000</td> <td>    0.009</td> <td>    0.015</td>\n",
       "</tr>\n",
       "<tr>\n",
       "  <th>Lot_Under50</th>   <td>   -0.0028</td> <td>    0.003</td> <td>   -0.995</td> <td> 0.320</td> <td>   -0.008</td> <td>    0.003</td>\n",
       "</tr>\n",
       "<tr>\n",
       "  <th>Zipcode_Means</th> <td>    0.3632</td> <td>    0.002</td> <td>  163.905</td> <td> 0.000</td> <td>    0.359</td> <td>    0.368</td>\n",
       "</tr>\n",
       "<tr>\n",
       "  <th>April</th>         <td>    0.0183</td> <td>    0.001</td> <td>   14.655</td> <td> 0.000</td> <td>    0.016</td> <td>    0.021</td>\n",
       "</tr>\n",
       "<tr>\n",
       "  <th>May</th>           <td>    0.0069</td> <td>    0.001</td> <td>    5.798</td> <td> 0.000</td> <td>    0.005</td> <td>    0.009</td>\n",
       "</tr>\n",
       "</table>\n",
       "<table class=\"simpletable\">\n",
       "<tr>\n",
       "  <th>Omnibus:</th>       <td>388.945</td> <th>  Durbin-Watson:     </th> <td>   2.001</td> \n",
       "</tr>\n",
       "<tr>\n",
       "  <th>Prob(Omnibus):</th> <td> 0.000</td>  <th>  Jarque-Bera (JB):  </th> <td> 845.487</td> \n",
       "</tr>\n",
       "<tr>\n",
       "  <th>Skew:</th>          <td> 0.097</td>  <th>  Prob(JB):          </th> <td>2.54e-184</td>\n",
       "</tr>\n",
       "<tr>\n",
       "  <th>Kurtosis:</th>      <td> 4.084</td>  <th>  Cond. No.          </th> <td>    20.8</td> \n",
       "</tr>\n",
       "</table><br/><br/>Warnings:<br/>[1] Standard Errors assume that the covariance matrix of the errors is correctly specified."
      ],
      "text/plain": [
       "<class 'statsmodels.iolib.summary.Summary'>\n",
       "\"\"\"\n",
       "                            OLS Regression Results                            \n",
       "==============================================================================\n",
       "Dep. Variable:                  Price   R-squared:                       0.986\n",
       "Model:                            OLS   Adj. R-squared:                  0.986\n",
       "Method:                 Least Squares   F-statistic:                 8.156e+04\n",
       "Date:                Tue, 05 Feb 2019   Prob (F-statistic):               0.00\n",
       "Time:                        19:13:56   Log-Likelihood:                 26830.\n",
       "No. Observations:               16725   AIC:                        -5.363e+04\n",
       "Df Residuals:                   16711   BIC:                        -5.352e+04\n",
       "Df Model:                          14                                         \n",
       "Covariance Type:            nonrobust                                         \n",
       "=================================================================================\n",
       "                    coef    std err          t      P>|t|      [0.025      0.975]\n",
       "---------------------------------------------------------------------------------\n",
       "Bedrooms          0.0595      0.004     15.837      0.000       0.052       0.067\n",
       "Bathrooms        -0.0154      0.005     -3.206      0.001      -0.025      -0.006\n",
       "Waterfront        0.1104      0.005     22.685      0.000       0.101       0.120\n",
       "View              0.0379      0.001     27.300      0.000       0.035       0.041\n",
       "Grade             0.1796      0.005     35.426      0.000       0.170       0.189\n",
       "Sqft_Above        0.3471      0.006     60.324      0.000       0.336       0.358\n",
       "Sqft_Basement     0.0520      0.006      8.945      0.000       0.041       0.063\n",
       "Basement          0.0270      0.002     11.995      0.000       0.023       0.031\n",
       "Renovated         0.0223      0.002     10.784      0.000       0.018       0.026\n",
       "Lot_Over50        0.0123      0.001      8.609      0.000       0.009       0.015\n",
       "Lot_Under50      -0.0028      0.003     -0.995      0.320      -0.008       0.003\n",
       "Zipcode_Means     0.3632      0.002    163.905      0.000       0.359       0.368\n",
       "April             0.0183      0.001     14.655      0.000       0.016       0.021\n",
       "May               0.0069      0.001      5.798      0.000       0.005       0.009\n",
       "==============================================================================\n",
       "Omnibus:                      388.945   Durbin-Watson:                   2.001\n",
       "Prob(Omnibus):                  0.000   Jarque-Bera (JB):              845.487\n",
       "Skew:                           0.097   Prob(JB):                    2.54e-184\n",
       "Kurtosis:                       4.084   Cond. No.                         20.8\n",
       "==============================================================================\n",
       "\n",
       "Warnings:\n",
       "[1] Standard Errors assume that the covariance matrix of the errors is correctly specified.\n",
       "\"\"\""
      ]
     },
     "execution_count": 64,
     "metadata": {},
     "output_type": "execute_result"
    }
   ],
   "source": [
    "mod = smf.ols(formula=formula, data = predictor_train.join(target_train))\n",
    "res = mod.fit()\n",
    "res.summary()"
   ]
  },
  {
   "cell_type": "markdown",
   "metadata": {},
   "source": [
    "This model is not siginficantly better than the previous with regards to the problems identified.  There are still problems with correlation between predictors, and there are some predictors whose coefficients are not statistically significant. It's a shame that SKLearn's RFE can't catch this. I will eliminate the predictors that are insignificant and one of the offending multicollinear predictors (Bathrooms), and then rebuild the model."
   ]
  },
  {
   "cell_type": "code",
   "execution_count": 65,
   "metadata": {},
   "outputs": [],
   "source": [
    "RFE_predictors = list(RFE_predictors)\n",
    "RFE_predictors.remove('Lot_Under50')\n",
    "RFE_predictors.remove('Bathrooms')"
   ]
  },
  {
   "cell_type": "code",
   "execution_count": 66,
   "metadata": {
    "scrolled": true
   },
   "outputs": [
    {
     "name": "stdout",
     "output_type": "stream",
     "text": [
      "Price ~ Bedrooms + Waterfront + View + Grade + Sqft_Above + Sqft_Basement + Basement + Renovated + Lot_Over50 + Zipcode_Means + April + May - 1\n"
     ]
    }
   ],
   "source": [
    "formula = 'Price ~ ' + ' + '.join(RFE_predictors) + ' - 1'\n",
    "print(formula)"
   ]
  },
  {
   "cell_type": "code",
   "execution_count": 67,
   "metadata": {},
   "outputs": [
    {
     "data": {
      "text/html": [
       "<table class=\"simpletable\">\n",
       "<caption>OLS Regression Results</caption>\n",
       "<tr>\n",
       "  <th>Dep. Variable:</th>          <td>Price</td>      <th>  R-squared:         </th>  <td>   0.986</td> \n",
       "</tr>\n",
       "<tr>\n",
       "  <th>Model:</th>                   <td>OLS</td>       <th>  Adj. R-squared:    </th>  <td>   0.986</td> \n",
       "</tr>\n",
       "<tr>\n",
       "  <th>Method:</th>             <td>Least Squares</td>  <th>  F-statistic:       </th>  <td>9.509e+04</td>\n",
       "</tr>\n",
       "<tr>\n",
       "  <th>Date:</th>             <td>Tue, 05 Feb 2019</td> <th>  Prob (F-statistic):</th>   <td>  0.00</td>  \n",
       "</tr>\n",
       "<tr>\n",
       "  <th>Time:</th>                 <td>19:13:56</td>     <th>  Log-Likelihood:    </th>  <td>  26824.</td> \n",
       "</tr>\n",
       "<tr>\n",
       "  <th>No. Observations:</th>      <td> 16725</td>      <th>  AIC:               </th> <td>-5.362e+04</td>\n",
       "</tr>\n",
       "<tr>\n",
       "  <th>Df Residuals:</th>          <td> 16713</td>      <th>  BIC:               </th> <td>-5.353e+04</td>\n",
       "</tr>\n",
       "<tr>\n",
       "  <th>Df Model:</th>              <td>    12</td>      <th>                     </th>      <td> </td>    \n",
       "</tr>\n",
       "<tr>\n",
       "  <th>Covariance Type:</th>      <td>nonrobust</td>    <th>                     </th>      <td> </td>    \n",
       "</tr>\n",
       "</table>\n",
       "<table class=\"simpletable\">\n",
       "<tr>\n",
       "        <td></td>           <th>coef</th>     <th>std err</th>      <th>t</th>      <th>P>|t|</th>  <th>[0.025</th>    <th>0.975]</th>  \n",
       "</tr>\n",
       "<tr>\n",
       "  <th>Bedrooms</th>      <td>    0.0582</td> <td>    0.004</td> <td>   15.581</td> <td> 0.000</td> <td>    0.051</td> <td>    0.066</td>\n",
       "</tr>\n",
       "<tr>\n",
       "  <th>Waterfront</th>    <td>    0.1102</td> <td>    0.005</td> <td>   22.663</td> <td> 0.000</td> <td>    0.101</td> <td>    0.120</td>\n",
       "</tr>\n",
       "<tr>\n",
       "  <th>View</th>          <td>    0.0381</td> <td>    0.001</td> <td>   27.443</td> <td> 0.000</td> <td>    0.035</td> <td>    0.041</td>\n",
       "</tr>\n",
       "<tr>\n",
       "  <th>Grade</th>         <td>    0.1763</td> <td>    0.005</td> <td>   35.444</td> <td> 0.000</td> <td>    0.167</td> <td>    0.186</td>\n",
       "</tr>\n",
       "<tr>\n",
       "  <th>Sqft_Above</th>    <td>    0.3395</td> <td>    0.005</td> <td>   64.898</td> <td> 0.000</td> <td>    0.329</td> <td>    0.350</td>\n",
       "</tr>\n",
       "<tr>\n",
       "  <th>Sqft_Basement</th> <td>    0.0503</td> <td>    0.006</td> <td>    8.724</td> <td> 0.000</td> <td>    0.039</td> <td>    0.062</td>\n",
       "</tr>\n",
       "<tr>\n",
       "  <th>Basement</th>      <td>    0.0266</td> <td>    0.002</td> <td>   11.846</td> <td> 0.000</td> <td>    0.022</td> <td>    0.031</td>\n",
       "</tr>\n",
       "<tr>\n",
       "  <th>Renovated</th>     <td>    0.0220</td> <td>    0.002</td> <td>   10.672</td> <td> 0.000</td> <td>    0.018</td> <td>    0.026</td>\n",
       "</tr>\n",
       "<tr>\n",
       "  <th>Lot_Over50</th>    <td>    0.0126</td> <td>    0.001</td> <td>    8.824</td> <td> 0.000</td> <td>    0.010</td> <td>    0.015</td>\n",
       "</tr>\n",
       "<tr>\n",
       "  <th>Zipcode_Means</th> <td>    0.3635</td> <td>    0.002</td> <td>  164.525</td> <td> 0.000</td> <td>    0.359</td> <td>    0.368</td>\n",
       "</tr>\n",
       "<tr>\n",
       "  <th>April</th>         <td>    0.0183</td> <td>    0.001</td> <td>   14.654</td> <td> 0.000</td> <td>    0.016</td> <td>    0.021</td>\n",
       "</tr>\n",
       "<tr>\n",
       "  <th>May</th>           <td>    0.0069</td> <td>    0.001</td> <td>    5.803</td> <td> 0.000</td> <td>    0.005</td> <td>    0.009</td>\n",
       "</tr>\n",
       "</table>\n",
       "<table class=\"simpletable\">\n",
       "<tr>\n",
       "  <th>Omnibus:</th>       <td>392.601</td> <th>  Durbin-Watson:     </th> <td>   2.002</td> \n",
       "</tr>\n",
       "<tr>\n",
       "  <th>Prob(Omnibus):</th> <td> 0.000</td>  <th>  Jarque-Bera (JB):  </th> <td> 845.935</td> \n",
       "</tr>\n",
       "<tr>\n",
       "  <th>Skew:</th>          <td> 0.106</td>  <th>  Prob(JB):          </th> <td>2.03e-184</td>\n",
       "</tr>\n",
       "<tr>\n",
       "  <th>Kurtosis:</th>      <td> 4.081</td>  <th>  Cond. No.          </th> <td>    19.1</td> \n",
       "</tr>\n",
       "</table><br/><br/>Warnings:<br/>[1] Standard Errors assume that the covariance matrix of the errors is correctly specified."
      ],
      "text/plain": [
       "<class 'statsmodels.iolib.summary.Summary'>\n",
       "\"\"\"\n",
       "                            OLS Regression Results                            \n",
       "==============================================================================\n",
       "Dep. Variable:                  Price   R-squared:                       0.986\n",
       "Model:                            OLS   Adj. R-squared:                  0.986\n",
       "Method:                 Least Squares   F-statistic:                 9.509e+04\n",
       "Date:                Tue, 05 Feb 2019   Prob (F-statistic):               0.00\n",
       "Time:                        19:13:56   Log-Likelihood:                 26824.\n",
       "No. Observations:               16725   AIC:                        -5.362e+04\n",
       "Df Residuals:                   16713   BIC:                        -5.353e+04\n",
       "Df Model:                          12                                         \n",
       "Covariance Type:            nonrobust                                         \n",
       "=================================================================================\n",
       "                    coef    std err          t      P>|t|      [0.025      0.975]\n",
       "---------------------------------------------------------------------------------\n",
       "Bedrooms          0.0582      0.004     15.581      0.000       0.051       0.066\n",
       "Waterfront        0.1102      0.005     22.663      0.000       0.101       0.120\n",
       "View              0.0381      0.001     27.443      0.000       0.035       0.041\n",
       "Grade             0.1763      0.005     35.444      0.000       0.167       0.186\n",
       "Sqft_Above        0.3395      0.005     64.898      0.000       0.329       0.350\n",
       "Sqft_Basement     0.0503      0.006      8.724      0.000       0.039       0.062\n",
       "Basement          0.0266      0.002     11.846      0.000       0.022       0.031\n",
       "Renovated         0.0220      0.002     10.672      0.000       0.018       0.026\n",
       "Lot_Over50        0.0126      0.001      8.824      0.000       0.010       0.015\n",
       "Zipcode_Means     0.3635      0.002    164.525      0.000       0.359       0.368\n",
       "April             0.0183      0.001     14.654      0.000       0.016       0.021\n",
       "May               0.0069      0.001      5.803      0.000       0.005       0.009\n",
       "==============================================================================\n",
       "Omnibus:                      392.601   Durbin-Watson:                   2.002\n",
       "Prob(Omnibus):                  0.000   Jarque-Bera (JB):              845.935\n",
       "Skew:                           0.106   Prob(JB):                    2.03e-184\n",
       "Kurtosis:                       4.081   Cond. No.                         19.1\n",
       "==============================================================================\n",
       "\n",
       "Warnings:\n",
       "[1] Standard Errors assume that the covariance matrix of the errors is correctly specified.\n",
       "\"\"\""
      ]
     },
     "execution_count": 67,
     "metadata": {},
     "output_type": "execute_result"
    }
   ],
   "source": [
    "mod = smf.ols(formula=formula, data = predictor_train.join(target_train))\n",
    "res = mod.fit()\n",
    "res.summary()"
   ]
  },
  {
   "cell_type": "code",
   "execution_count": 68,
   "metadata": {},
   "outputs": [
    {
     "name": "stdout",
     "output_type": "stream",
     "text": [
      "MSE of test data:\t0.0023835790441279953\n",
      "MSE of train data:\t0.0023700182830699466\n"
     ]
    }
   ],
   "source": [
    "y_hat = res.predict(predictor_test)\n",
    "residuals = target_test - y_hat\n",
    "MSE_test = (residuals**2).sum()/len(residuals)\n",
    "MSE_train = res.mse_resid\n",
    "print('MSE of test data:\\t' + str(MSE_test))\n",
    "print('MSE of train data:\\t' + str(MSE_train))"
   ]
  },
  {
   "cell_type": "markdown",
   "metadata": {},
   "source": [
    "The MSE of the train and test dataset are nearly identical, which tells me that the test data is well approximated by a model derived from the training data. I'll look at the residuals below to check for heteroscedasticity and non-random patterns."
   ]
  },
  {
   "cell_type": "code",
   "execution_count": 77,
   "metadata": {},
   "outputs": [
    {
     "data": {
      "application/vnd.jupyter.widget-view+json": {
       "model_id": "f58c3dc2c2234d1f9da70a3da9d8a550",
       "version_major": 2,
       "version_minor": 0
      },
      "text/plain": [
       "interactive(children=(Dropdown(description='x', options=('Bedrooms', 'Waterfront', 'View', 'Grade', 'Sqft_Abov…"
      ]
     },
     "metadata": {},
     "output_type": "display_data"
    }
   ],
   "source": [
    "@interact\n",
    "def residuals_plot(x = RFE_predictors):\n",
    "    fig, ax = plt.subplots(1,1,figsize = (12,8))\n",
    "    sns.scatterplot(x = predictor_test[x], y = residuals, ax = ax)\n",
    "    ax.set_title('Residual plot for ' + x)\n",
    "    ax.set_ylabel('Residual')\n",
    "    corr = np.corrcoef(predictor_test[x],residuals)\n",
    "    corr_text = 'corr: {:1.3f}'.format(corr[1,0])\n",
    "    plt.text(.875, \n",
    "             0.95, \n",
    "             corr_text, \n",
    "             horizontalalignment='left',\n",
    "             verticalalignment='top',\n",
    "             fontsize = 16,\n",
    "             transform=ax.transAxes)\n",
    "    plt.show()"
   ]
  },
  {
   "cell_type": "markdown",
   "metadata": {},
   "source": [
    "The residuals look pretty good. There is some pattern for a few of the predictors, but the correlation value does not exceed 0.253 in magnitude I'll look at their distribution as well just to make sure. I expect the distribution to be roughly normal."
   ]
  },
  {
   "cell_type": "code",
   "execution_count": 70,
   "metadata": {},
   "outputs": [
    {
     "data": {
      "image/png": "[encoded data removed]",
      "text/plain": [
       "<Figure size 864x576 with 1 Axes>"
      ]
     },
     "metadata": {},
     "output_type": "display_data"
    }
   ],
   "source": [
    "residuals.hist(bins = 20, figsize = (12,8))\n",
    "plt.title('Histogram of Residuals')\n",
    "plt.xlabel('Residual of transformed and scaled price')\n",
    "plt.show()"
   ]
  },
  {
   "cell_type": "markdown",
   "metadata": {},
   "source": [
    "Now I'll write a function to give an estimate on price given a set of predictors that are not transformed or scaled."
   ]
  },
  {
   "cell_type": "code",
   "execution_count": 71,
   "metadata": {},
   "outputs": [],
   "source": [
    "def predict_price(df, alpha = 0.05, kind = 'mean'):\n",
    "    # Transform the data\n",
    "    df_transformed = df.copy()\n",
    "    transform = {'Bedrooms':np.log10, \n",
    "                 'Bathrooms':np.sqrt, \n",
    "                 'Grade':np.square, \n",
    "                 'Sqft_Above':np.log10, \n",
    "                 'Sqft_Basement':np.sqrt,\n",
    "                 'Zipcode_Means':np.log10}\n",
    "\n",
    "    for column in list(df.columns):\n",
    "        if column in transform.keys():\n",
    "            df_transformed[column] = df_transformed[column].apply(transform[column])\n",
    "    \n",
    "    # Normalize the data\n",
    "    kct = kc_transformed.copy()\n",
    "    scale_factors = {'Bedrooms':{'min':kct.Bedrooms.min(), 'max':kct.Bedrooms.max()},\n",
    "                     'Bathrooms':{'min':kct.Bathrooms.min(), 'max':kct.Bathrooms.max()},\n",
    "                     'Grade':{'min':kct.Grade.min(), 'max':kct.Grade.max()},\n",
    "                     'Sqft_Above':{'min':kct.Sqft_Above.min(), 'max':kct.Sqft_Above.max()}, \n",
    "                     'Sqft_Basement':{'min':kct.Sqft_Basement.min(), 'max':kct.Sqft_Basement.max()},\n",
    "                     'Zipcode_Means':{'min':kct.Zipcode_Means.min(), 'max':kct.Zipcode_Means.max()}}\n",
    "    \n",
    "    df_transformed_scaled = df_transformed.copy()\n",
    "    to_scale = scale_factors.keys()\n",
    "    for column in list(to_scale):\n",
    "        data = df_transformed_scaled[column]\n",
    "        df_transformed_scaled[column] = (data - scale_factors[column]['min'])/(scale_factors[column]['max']-scale_factors[column]['min'])\n",
    "    \n",
    "    # Obtain the price interval\n",
    "    if kind.lower() == 'mean':\n",
    "        columns = ['mean_ci_lower', 'mean_ci_upper']\n",
    "    elif kind.lower() == 'obs':\n",
    "        columns = ['obs_ci_lower', 'obs_ci_upper']\n",
    "    else:\n",
    "        raise Exception('Kind can only be \"mean\" or \"obs\".')\n",
    "        \n",
    "    predictions = res.get_prediction(df_transformed_scaled).summary_frame(alpha = alpha)\n",
    "    predictions = predictions.loc[:,columns]\n",
    "    predictions.columns = ['Lower Price Boundary','Upper Price Boundary']\n",
    "    \n",
    "    # Denormalize the price interval (also hardcoded based on the dataset)\n",
    "    predictions = predictions*(kct.Price.max()-kct.Price.min())+kct.Price.min()\n",
    "    \n",
    "    # Transform the price interval and return\n",
    "    predictions = 10**predictions\n",
    "    predictions['id'] = df.index\n",
    "    predictions.set_index('id')\n",
    "    \n",
    "    return predictions.join(df, on = 'id').set_index('id')"
   ]
  },
  {
   "cell_type": "code",
   "execution_count": 72,
   "metadata": {},
   "outputs": [
    {
     "data": {
      "text/html": [
       "<div>\n",
       "<style scoped>\n",
       "    .dataframe tbody tr th:only-of-type {\n",
       "        vertical-align: middle;\n",
       "    }\n",
       "\n",
       "    .dataframe tbody tr th {\n",
       "        vertical-align: top;\n",
       "    }\n",
       "\n",
       "    .dataframe thead th {\n",
       "        text-align: right;\n",
       "    }\n",
       "</style>\n",
       "<table border=\"1\" class=\"dataframe\">\n",
       "  <thead>\n",
       "    <tr style=\"text-align: right;\">\n",
       "      <th></th>\n",
       "      <th>Lower Price Boundary</th>\n",
       "      <th>Upper Price Boundary</th>\n",
       "      <th>Price</th>\n",
       "      <th>Bedrooms</th>\n",
       "      <th>Bathrooms</th>\n",
       "      <th>Waterfront</th>\n",
       "      <th>View</th>\n",
       "      <th>Grade</th>\n",
       "      <th>Sqft_Above</th>\n",
       "      <th>Sqft_Basement</th>\n",
       "      <th>...</th>\n",
       "      <th>August</th>\n",
       "      <th>December</th>\n",
       "      <th>February</th>\n",
       "      <th>January</th>\n",
       "      <th>July</th>\n",
       "      <th>June</th>\n",
       "      <th>March</th>\n",
       "      <th>May</th>\n",
       "      <th>November</th>\n",
       "      <th>October</th>\n",
       "    </tr>\n",
       "    <tr>\n",
       "      <th>id</th>\n",
       "      <th></th>\n",
       "      <th></th>\n",
       "      <th></th>\n",
       "      <th></th>\n",
       "      <th></th>\n",
       "      <th></th>\n",
       "      <th></th>\n",
       "      <th></th>\n",
       "      <th></th>\n",
       "      <th></th>\n",
       "      <th></th>\n",
       "      <th></th>\n",
       "      <th></th>\n",
       "      <th></th>\n",
       "      <th></th>\n",
       "      <th></th>\n",
       "      <th></th>\n",
       "      <th></th>\n",
       "      <th></th>\n",
       "      <th></th>\n",
       "      <th></th>\n",
       "    </tr>\n",
       "  </thead>\n",
       "  <tbody>\n",
       "    <tr>\n",
       "      <th>7129300520</th>\n",
       "      <td>146638.276337</td>\n",
       "      <td>3.522935e+05</td>\n",
       "      <td>221900.0</td>\n",
       "      <td>3</td>\n",
       "      <td>1.00</td>\n",
       "      <td>0</td>\n",
       "      <td>0</td>\n",
       "      <td>7</td>\n",
       "      <td>1180</td>\n",
       "      <td>0.0</td>\n",
       "      <td>...</td>\n",
       "      <td>0</td>\n",
       "      <td>0</td>\n",
       "      <td>0</td>\n",
       "      <td>0</td>\n",
       "      <td>0</td>\n",
       "      <td>0</td>\n",
       "      <td>0</td>\n",
       "      <td>0</td>\n",
       "      <td>0</td>\n",
       "      <td>1</td>\n",
       "    </tr>\n",
       "    <tr>\n",
       "      <th>6414100192</th>\n",
       "      <td>357803.817093</td>\n",
       "      <td>8.604426e+05</td>\n",
       "      <td>538000.0</td>\n",
       "      <td>3</td>\n",
       "      <td>2.25</td>\n",
       "      <td>0</td>\n",
       "      <td>0</td>\n",
       "      <td>7</td>\n",
       "      <td>2170</td>\n",
       "      <td>400.0</td>\n",
       "      <td>...</td>\n",
       "      <td>0</td>\n",
       "      <td>1</td>\n",
       "      <td>0</td>\n",
       "      <td>0</td>\n",
       "      <td>0</td>\n",
       "      <td>0</td>\n",
       "      <td>0</td>\n",
       "      <td>0</td>\n",
       "      <td>0</td>\n",
       "      <td>0</td>\n",
       "    </tr>\n",
       "    <tr>\n",
       "      <th>5631500400</th>\n",
       "      <td>143516.624615</td>\n",
       "      <td>3.447836e+05</td>\n",
       "      <td>180000.0</td>\n",
       "      <td>2</td>\n",
       "      <td>1.00</td>\n",
       "      <td>0</td>\n",
       "      <td>0</td>\n",
       "      <td>6</td>\n",
       "      <td>770</td>\n",
       "      <td>0.0</td>\n",
       "      <td>...</td>\n",
       "      <td>0</td>\n",
       "      <td>0</td>\n",
       "      <td>1</td>\n",
       "      <td>0</td>\n",
       "      <td>0</td>\n",
       "      <td>0</td>\n",
       "      <td>0</td>\n",
       "      <td>0</td>\n",
       "      <td>0</td>\n",
       "      <td>0</td>\n",
       "    </tr>\n",
       "    <tr>\n",
       "      <th>2487200875</th>\n",
       "      <td>273635.296807</td>\n",
       "      <td>6.574556e+05</td>\n",
       "      <td>604000.0</td>\n",
       "      <td>4</td>\n",
       "      <td>3.00</td>\n",
       "      <td>0</td>\n",
       "      <td>0</td>\n",
       "      <td>7</td>\n",
       "      <td>1050</td>\n",
       "      <td>910.0</td>\n",
       "      <td>...</td>\n",
       "      <td>0</td>\n",
       "      <td>1</td>\n",
       "      <td>0</td>\n",
       "      <td>0</td>\n",
       "      <td>0</td>\n",
       "      <td>0</td>\n",
       "      <td>0</td>\n",
       "      <td>0</td>\n",
       "      <td>0</td>\n",
       "      <td>0</td>\n",
       "    </tr>\n",
       "    <tr>\n",
       "      <th>1954400510</th>\n",
       "      <td>342247.902926</td>\n",
       "      <td>8.222407e+05</td>\n",
       "      <td>510000.0</td>\n",
       "      <td>3</td>\n",
       "      <td>2.00</td>\n",
       "      <td>0</td>\n",
       "      <td>0</td>\n",
       "      <td>8</td>\n",
       "      <td>1680</td>\n",
       "      <td>0.0</td>\n",
       "      <td>...</td>\n",
       "      <td>0</td>\n",
       "      <td>0</td>\n",
       "      <td>1</td>\n",
       "      <td>0</td>\n",
       "      <td>0</td>\n",
       "      <td>0</td>\n",
       "      <td>0</td>\n",
       "      <td>0</td>\n",
       "      <td>0</td>\n",
       "      <td>0</td>\n",
       "    </tr>\n",
       "    <tr>\n",
       "      <th>7237550310</th>\n",
       "      <td>940654.995371</td>\n",
       "      <td>2.261519e+06</td>\n",
       "      <td>1230000.0</td>\n",
       "      <td>4</td>\n",
       "      <td>4.50</td>\n",
       "      <td>0</td>\n",
       "      <td>0</td>\n",
       "      <td>11</td>\n",
       "      <td>3890</td>\n",
       "      <td>1530.0</td>\n",
       "      <td>...</td>\n",
       "      <td>0</td>\n",
       "      <td>0</td>\n",
       "      <td>0</td>\n",
       "      <td>0</td>\n",
       "      <td>0</td>\n",
       "      <td>0</td>\n",
       "      <td>0</td>\n",
       "      <td>1</td>\n",
       "      <td>0</td>\n",
       "      <td>0</td>\n",
       "    </tr>\n",
       "    <tr>\n",
       "      <th>2414600126</th>\n",
       "      <td>207545.480005</td>\n",
       "      <td>4.987485e+05</td>\n",
       "      <td>229500.0</td>\n",
       "      <td>3</td>\n",
       "      <td>1.00</td>\n",
       "      <td>0</td>\n",
       "      <td>0</td>\n",
       "      <td>7</td>\n",
       "      <td>1050</td>\n",
       "      <td>730.0</td>\n",
       "      <td>...</td>\n",
       "      <td>0</td>\n",
       "      <td>0</td>\n",
       "      <td>0</td>\n",
       "      <td>0</td>\n",
       "      <td>0</td>\n",
       "      <td>0</td>\n",
       "      <td>0</td>\n",
       "      <td>0</td>\n",
       "      <td>0</td>\n",
       "      <td>0</td>\n",
       "    </tr>\n",
       "    <tr>\n",
       "      <th>3793500160</th>\n",
       "      <td>208218.109026</td>\n",
       "      <td>5.002458e+05</td>\n",
       "      <td>323000.0</td>\n",
       "      <td>3</td>\n",
       "      <td>2.50</td>\n",
       "      <td>0</td>\n",
       "      <td>0</td>\n",
       "      <td>7</td>\n",
       "      <td>1890</td>\n",
       "      <td>0.0</td>\n",
       "      <td>...</td>\n",
       "      <td>0</td>\n",
       "      <td>0</td>\n",
       "      <td>0</td>\n",
       "      <td>0</td>\n",
       "      <td>0</td>\n",
       "      <td>0</td>\n",
       "      <td>1</td>\n",
       "      <td>0</td>\n",
       "      <td>0</td>\n",
       "      <td>0</td>\n",
       "    </tr>\n",
       "    <tr>\n",
       "      <th>1736800520</th>\n",
       "      <td>468190.203396</td>\n",
       "      <td>1.125547e+06</td>\n",
       "      <td>662500.0</td>\n",
       "      <td>3</td>\n",
       "      <td>2.50</td>\n",
       "      <td>0</td>\n",
       "      <td>0</td>\n",
       "      <td>8</td>\n",
       "      <td>1860</td>\n",
       "      <td>1700.0</td>\n",
       "      <td>...</td>\n",
       "      <td>0</td>\n",
       "      <td>0</td>\n",
       "      <td>0</td>\n",
       "      <td>0</td>\n",
       "      <td>0</td>\n",
       "      <td>0</td>\n",
       "      <td>0</td>\n",
       "      <td>0</td>\n",
       "      <td>0</td>\n",
       "      <td>0</td>\n",
       "    </tr>\n",
       "    <tr>\n",
       "      <th>9212900260</th>\n",
       "      <td>250221.341647</td>\n",
       "      <td>6.013524e+05</td>\n",
       "      <td>468000.0</td>\n",
       "      <td>2</td>\n",
       "      <td>1.00</td>\n",
       "      <td>0</td>\n",
       "      <td>0</td>\n",
       "      <td>7</td>\n",
       "      <td>860</td>\n",
       "      <td>300.0</td>\n",
       "      <td>...</td>\n",
       "      <td>0</td>\n",
       "      <td>0</td>\n",
       "      <td>0</td>\n",
       "      <td>0</td>\n",
       "      <td>0</td>\n",
       "      <td>0</td>\n",
       "      <td>0</td>\n",
       "      <td>1</td>\n",
       "      <td>0</td>\n",
       "      <td>0</td>\n",
       "    </tr>\n",
       "  </tbody>\n",
       "</table>\n",
       "<p>10 rows × 28 columns</p>\n",
       "</div>"
      ],
      "text/plain": [
       "            Lower Price Boundary  Upper Price Boundary      Price  Bedrooms  \\\n",
       "id                                                                            \n",
       "7129300520         146638.276337          3.522935e+05   221900.0         3   \n",
       "6414100192         357803.817093          8.604426e+05   538000.0         3   \n",
       "5631500400         143516.624615          3.447836e+05   180000.0         2   \n",
       "2487200875         273635.296807          6.574556e+05   604000.0         4   \n",
       "1954400510         342247.902926          8.222407e+05   510000.0         3   \n",
       "7237550310         940654.995371          2.261519e+06  1230000.0         4   \n",
       "2414600126         207545.480005          4.987485e+05   229500.0         3   \n",
       "3793500160         208218.109026          5.002458e+05   323000.0         3   \n",
       "1736800520         468190.203396          1.125547e+06   662500.0         3   \n",
       "9212900260         250221.341647          6.013524e+05   468000.0         2   \n",
       "\n",
       "            Bathrooms  Waterfront  View  Grade  Sqft_Above  Sqft_Basement  \\\n",
       "id                                                                          \n",
       "7129300520       1.00           0     0      7        1180            0.0   \n",
       "6414100192       2.25           0     0      7        2170          400.0   \n",
       "5631500400       1.00           0     0      6         770            0.0   \n",
       "2487200875       3.00           0     0      7        1050          910.0   \n",
       "1954400510       2.00           0     0      8        1680            0.0   \n",
       "7237550310       4.50           0     0     11        3890         1530.0   \n",
       "2414600126       1.00           0     0      7        1050          730.0   \n",
       "3793500160       2.50           0     0      7        1890            0.0   \n",
       "1736800520       2.50           0     0      8        1860         1700.0   \n",
       "9212900260       1.00           0     0      7         860          300.0   \n",
       "\n",
       "             ...     August  December  February  January  July  June  March  \\\n",
       "id           ...                                                              \n",
       "7129300520   ...          0         0         0        0     0     0      0   \n",
       "6414100192   ...          0         1         0        0     0     0      0   \n",
       "5631500400   ...          0         0         1        0     0     0      0   \n",
       "2487200875   ...          0         1         0        0     0     0      0   \n",
       "1954400510   ...          0         0         1        0     0     0      0   \n",
       "7237550310   ...          0         0         0        0     0     0      0   \n",
       "2414600126   ...          0         0         0        0     0     0      0   \n",
       "3793500160   ...          0         0         0        0     0     0      1   \n",
       "1736800520   ...          0         0         0        0     0     0      0   \n",
       "9212900260   ...          0         0         0        0     0     0      0   \n",
       "\n",
       "            May  November  October  \n",
       "id                                  \n",
       "7129300520    0         0        1  \n",
       "6414100192    0         0        0  \n",
       "5631500400    0         0        0  \n",
       "2487200875    0         0        0  \n",
       "1954400510    0         0        0  \n",
       "7237550310    1         0        0  \n",
       "2414600126    0         0        0  \n",
       "3793500160    0         0        0  \n",
       "1736800520    0         0        0  \n",
       "9212900260    1         0        0  \n",
       "\n",
       "[10 rows x 28 columns]"
      ]
     },
     "execution_count": 72,
     "metadata": {},
     "output_type": "execute_result"
    }
   ],
   "source": [
    "predict_price(kc.head(10),alpha = 0.05, kind = 'obs')"
   ]
  },
  {
   "cell_type": "markdown",
   "metadata": {},
   "source": [
    "The function `predict_price` provides a range of prices based on the input parameters. An interval for the mean price of a house with a set of attributes can be obtained by passing `kind = 'mean'`, whereas a predictive interval for a single observation can be obtained by passing `kind = 'obs'`."
   ]
  },
  {
   "cell_type": "markdown",
   "metadata": {},
   "source": [
    "<a id=\"5\"></a>\n",
    "## 5. Interpreting the Results"
   ]
  },
  {
   "cell_type": "code",
   "execution_count": null,
   "metadata": {},
   "outputs": [],
   "source": []
  }
 ],
 "metadata": {
  "kernelspec": {
   "display_name": "learn-env",
   "language": "python",
   "name": "learn-env"
  },
  "language_info": {
   "codemirror_mode": {
    "name": "ipython",
    "version": 3
   },
   "file_extension": ".py",
   "mimetype": "text/x-python",
   "name": "python",
   "nbconvert_exporter": "python",
   "pygments_lexer": "ipython3",
   "version": "3.6.6"
  }
 },
 "nbformat": 4,
 "nbformat_minor": 2
}
